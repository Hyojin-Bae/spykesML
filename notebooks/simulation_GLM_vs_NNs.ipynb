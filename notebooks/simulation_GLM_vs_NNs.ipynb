{
 "cells": [
  {
   "cell_type": "markdown",
   "metadata": {},
   "source": [
    "# Simulation comparing GLMs and NNs"
   ]
  },
  {
   "cell_type": "markdown",
   "metadata": {},
   "source": [
    "## Imports"
   ]
  },
  {
   "cell_type": "code",
   "execution_count": 1,
   "metadata": {
    "collapsed": false
   },
   "outputs": [
    {
     "name": "stderr",
     "output_type": "stream",
     "text": [
      "//anaconda/lib/python3.5/site-packages/sklearn/cross_validation.py:44: DeprecationWarning: This module was deprecated in version 0.18 in favor of the model_selection module into which all the refactored classes and functions are moved. Also note that the interface of the new CV iterators are different from that of this module. This module will be removed in 0.20.\n",
      "  \"This module will be removed in 0.20.\", DeprecationWarning)\n",
      "Using Theano backend.\n"
     ]
    }
   ],
   "source": [
    "import numpy as np\n",
    "from sklearn.cross_validation import train_test_split\n",
    "from scipy import stats\n",
    "import scipy.sparse as sps\n",
    "\n",
    "# GLM\n",
    "from pyglmnet import GLM\n",
    "\n",
    "# NNs\n",
    "import keras\n",
    "from keras.models import Sequential\n",
    "from keras.layers.core import Dense, Dropout\n",
    "from keras.layers.normalization import BatchNormalization\n",
    "\n",
    "# Plotting\n",
    "import matplotlib.pyplot as plt\n",
    "% matplotlib inline"
   ]
  },
  {
   "cell_type": "markdown",
   "metadata": {},
   "source": [
    "## Simulate data"
   ]
  },
  {
   "cell_type": "code",
   "execution_count": 2,
   "metadata": {
    "collapsed": true
   },
   "outputs": [],
   "source": [
    "def simulate_data(n_samples, n_features, scale_min, scale_max, density, effect_size_factor):\n",
    "\n",
    "    # Sample design matrix\n",
    "    X = np.random.randn(n_samples, n_features)\n",
    "    \n",
    "    # Rescale\n",
    "    scale_factor = np.logspace(scale_min, scale_max, n_features)\n",
    "    for f in range(n_features):\n",
    "        X[:, f] = scale_factor[f] * X[:, f]\n",
    "    \n",
    "    # Sample beta0\n",
    "    beta0 = effect_size_factor * 3.0 * np.random.rand(1)\n",
    "    \n",
    "    # Sample sparse beta\n",
    "    rvs = stats.norm(loc=0.0, scale=1.0).rvs\n",
    "    tmp = sps.random(n_features, 1, density=density, data_rvs=rvs)\n",
    "    beta = effect_size_factor * np.squeeze(tmp.toarray())\n",
    "    \n",
    "    # Sample y ~ Poisson(exp(beta0 + X * beta))\n",
    "    glm_simulator = GLM(distr='softplus')\n",
    "    y = glm_simulator.simulate(beta0, beta, X)\n",
    "    \n",
    "    return beta0, beta, X, y"
   ]
  },
  {
   "cell_type": "code",
   "execution_count": 3,
   "metadata": {
    "collapsed": true
   },
   "outputs": [],
   "source": [
    "n_samples = 1000\n",
    "n_features = 10\n",
    "scale_min = -2.0\n",
    "scale_max = 0.0\n",
    "density = 1.0\n",
    "effect_size_factor = 0.5"
   ]
  },
  {
   "cell_type": "code",
   "execution_count": 4,
   "metadata": {
    "collapsed": false
   },
   "outputs": [],
   "source": [
    "beta0, beta, X, y = simulate_data(n_samples, n_features, scale_min, scale_max, density, effect_size_factor)"
   ]
  },
  {
   "cell_type": "code",
   "execution_count": 5,
   "metadata": {
    "collapsed": false
   },
   "outputs": [
    {
     "data": {
      "text/plain": [
       "(array([ 0.34565379]),\n",
       " array([-0.81028874,  0.13082674,  0.66769508, -0.14882475,  0.12277152,\n",
       "        -0.07022649,  0.39339838,  0.26294321,  0.45783008,  0.27830391]))"
      ]
     },
     "execution_count": 5,
     "metadata": {},
     "output_type": "execute_result"
    }
   ],
   "source": [
    "beta0, beta"
   ]
  },
  {
   "cell_type": "code",
   "execution_count": 6,
   "metadata": {
    "collapsed": true
   },
   "outputs": [],
   "source": [
    "X_train, X_test, y_train, y_test = train_test_split(X, y, random_state=42, test_size=0.2)"
   ]
  },
  {
   "cell_type": "markdown",
   "metadata": {},
   "source": [
    "## Fit models"
   ]
  },
  {
   "cell_type": "markdown",
   "metadata": {},
   "source": [
    "### GLMs "
   ]
  },
  {
   "cell_type": "code",
   "execution_count": 7,
   "metadata": {
    "collapsed": false
   },
   "outputs": [],
   "source": [
    "glm = GLM(distr='softplus',\n",
    "          alpha=0.1,\n",
    "          tol=1e-8,\n",
    "          reg_lambda=np.logspace(np.log(0.05), np.log(0.001), 10, base=np.exp(1)),\n",
    "          learning_rate=0.01,\n",
    "          solver='batch-gradient',\n",
    "          max_iter=10000,\n",
    "          random_state=1,\n",
    "          score_metric='pseudo_R2')"
   ]
  },
  {
   "cell_type": "code",
   "execution_count": 8,
   "metadata": {
    "collapsed": false
   },
   "outputs": [
    {
     "name": "stdout",
     "output_type": "stream",
     "text": [
      "[ 0.07024158] [ 0.0337059]\n"
     ]
    }
   ],
   "source": [
    "glm.fit(X_train, y_train)\n",
    "glm_r2_train = glm[-1].score(X_train, y_train)\n",
    "glm_r2_test = glm[-1].score(X_test, y_test)\n",
    "print(glm_r2_train, glm_r2_test)"
   ]
  },
  {
   "cell_type": "code",
   "execution_count": 9,
   "metadata": {
    "collapsed": false
   },
   "outputs": [],
   "source": [
    "y_train_hat = glm[-1].predict(X_train)\n",
    "y_test_hat = glm[-1].predict(X_test)"
   ]
  },
  {
   "cell_type": "code",
   "execution_count": 10,
   "metadata": {
    "collapsed": false
   },
   "outputs": [
    {
     "data": {
      "image/png": "[encoded data removed]",
      "text/plain": [
       "<matplotlib.figure.Figure at 0x11aa3e390>"
      ]
     },
     "metadata": {},
     "output_type": "display_data"
    }
   ],
   "source": [
    "plt.plot(y_test, y_test_hat, 'ro', alpha=0.2)\n",
    "plt.show()"
   ]
  },
  {
   "cell_type": "markdown",
   "metadata": {},
   "source": [
    "## Neural Networks"
   ]
  },
  {
   "cell_type": "code",
   "execution_count": 11,
   "metadata": {
    "collapsed": true
   },
   "outputs": [],
   "source": [
    "def keras_model(n_features, n_layer1, n_layer2):\n",
    "    model = Sequential()\n",
    "    \n",
    "    model.add(Dense(input_dim=n_features, output_dim=n_layer1, init='glorot_uniform', activation='relu'))\n",
    "    model.add(Dropout(0.5))\n",
    "    #model.add(BatchNormalization())\n",
    "    \n",
    "    model.add(Dense(input_dim=n_features, output_dim=n_layer2, init='glorot_uniform', activation='relu'))\n",
    "    model.add(Dropout(0.5))\n",
    "    #model.add(BatchNormalization())\n",
    "    \n",
    "    model.add(Dense(output_dim=1, activation='softplus'))\n",
    "    \n",
    "    model.compile(loss='poisson', optimizer='rmsprop')\n",
    "    return model"
   ]
  },
  {
   "cell_type": "code",
   "execution_count": 12,
   "metadata": {
    "collapsed": false
   },
   "outputs": [],
   "source": [
    "nn = keras_model(n_features, 1980, 18)"
   ]
  },
  {
   "cell_type": "code",
   "execution_count": 345,
   "metadata": {
    "collapsed": false
   },
   "outputs": [
    {
     "name": "stdout",
     "output_type": "stream",
     "text": [
      "Train on 640 samples, validate on 160 samples\n",
      "Epoch 1/10\n",
      "640/640 [==============================] - 0s - loss: 0.9657 - val_loss: 0.9883\n",
      "Epoch 2/10\n",
      "640/640 [==============================] - 0s - loss: 0.9654 - val_loss: 0.9926\n",
      "Epoch 3/10\n",
      "640/640 [==============================] - 0s - loss: 0.9651 - val_loss: 0.9865\n",
      "Epoch 4/10\n",
      "640/640 [==============================] - 0s - loss: 0.9520 - val_loss: 0.9839\n",
      "Epoch 5/10\n",
      "640/640 [==============================] - 0s - loss: 0.9553 - val_loss: 0.9945\n",
      "Epoch 6/10\n",
      "640/640 [==============================] - 0s - loss: 0.9527 - val_loss: 0.9821\n",
      "Epoch 7/10\n",
      "640/640 [==============================] - 0s - loss: 0.9525 - val_loss: 0.9843\n",
      "Epoch 8/10\n",
      "640/640 [==============================] - 0s - loss: 0.9579 - val_loss: 0.9795\n",
      "Epoch 9/10\n",
      "640/640 [==============================] - 0s - loss: 0.9529 - val_loss: 0.9791\n",
      "Epoch 10/10\n",
      "640/640 [==============================] - 0s - loss: 0.9521 - val_loss: 0.9897\n"
     ]
    },
    {
     "data": {
      "text/plain": [
       "<keras.callbacks.History at 0x1229b2c90>"
      ]
     },
     "execution_count": 345,
     "metadata": {},
     "output_type": "execute_result"
    }
   ],
   "source": [
    "nn.fit(X_train, y_train, nb_epoch=10, batch_size=32, validation_split=0.2)"
   ]
  },
  {
   "cell_type": "code",
   "execution_count": 346,
   "metadata": {
    "collapsed": true
   },
   "outputs": [],
   "source": [
    "y_train_hat = nn.predict(X_train)\n",
    "y_test_hat = nn.predict(X_test)"
   ]
  },
  {
   "cell_type": "code",
   "execution_count": 13,
   "metadata": {
    "collapsed": true
   },
   "outputs": [],
   "source": [
    "def poisson_pseudoR2(y, yhat, ynull):\n",
    "    eps = np.spacing(1)\n",
    "    L1 = np.sum(y * np.log(eps + yhat) - yhat)\n",
    "    L0 = np.sum(y * np.log(eps + ynull) - ynull)\n",
    "    LS = np.sum(y * np.log(eps + y) - y)\n",
    "    R2 = 1 -(LS - L1) / (LS - L0)\n",
    "    return R2"
   ]
  },
  {
   "cell_type": "code",
   "execution_count": 348,
   "metadata": {
    "collapsed": false
   },
   "outputs": [
    {
     "name": "stdout",
     "output_type": "stream",
     "text": [
      "0.0556674209204 0.0208200965427\n"
     ]
    }
   ],
   "source": [
    "nn_r2_train = poisson_pseudoR2(y_train, np.squeeze(y_train_hat), np.mean(y_train))\n",
    "nn_r2_test = poisson_pseudoR2(y_test, np.squeeze(y_test_hat), np.mean(y_train))\n",
    "print(nn_r2_train, nn_r2_test)"
   ]
  },
  {
   "cell_type": "code",
   "execution_count": 334,
   "metadata": {
    "collapsed": false
   },
   "outputs": [
    {
     "data": {
      "image/png": "[encoded data removed]",
      "text/plain": [
       "<matplotlib.figure.Figure at 0x1202fef90>"
      ]
     },
     "metadata": {},
     "output_type": "display_data"
    }
   ],
   "source": [
    "plt.plot(y_test, y_test_hat, 'bo', alpha=0.2)\n",
    "plt.show()"
   ]
  },
  {
   "cell_type": "markdown",
   "metadata": {},
   "source": [
    "### Let's iterate over simulations and show repeatable performance"
   ]
  },
  {
   "cell_type": "code",
   "execution_count": 16,
   "metadata": {
    "collapsed": false
   },
   "outputs": [
    {
     "name": "stdout",
     "output_type": "stream",
     "text": [
      "Running 0\n",
      "\n",
      "Running 1\n",
      "\n",
      "Running 2\n",
      "\n",
      "Running 3\n",
      "\n",
      "Running 4\n",
      "\n",
      "Running 5\n",
      "\n",
      "Running 6\n",
      "\n",
      "Running 7\n",
      "\n",
      "Running 8\n",
      "\n",
      "Running 9\n",
      "\n"
     ]
    }
   ],
   "source": [
    "nn_p_sim=list()\n",
    "glm_p_sim= list()\n",
    "\n",
    "# Running the above steps with the same parameters in a loop \n",
    "print('Running ')\n",
    "for i in range(10):\n",
    "    print('%s, '%i)\n",
    "    n_samples = 1000\n",
    "    n_features = 10\n",
    "    scale_min = -2.0\n",
    "    scale_max = 0.0\n",
    "    density = 1.0\n",
    "    effect_size_factor = 0.5\n",
    "    \n",
    "    beta0, beta, X, y = simulate_data(n_samples, n_features, scale_min, scale_max, density, effect_size_factor)\n",
    "   \n",
    "    X_train, X_test, y_train, y_test = train_test_split(X, y, random_state=42, test_size=0.2)\n",
    "    \n",
    "    glm = GLM(distr='softplus',\n",
    "          alpha=0.1,\n",
    "          tol=1e-8,\n",
    "          reg_lambda=np.logspace(np.log(0.05), np.log(0.001), 10, base=np.exp(1)),\n",
    "          learning_rate=0.01,\n",
    "          solver='batch-gradient',\n",
    "          max_iter=10000,\n",
    "          random_state=1,\n",
    "          score_metric='pseudo_R2')\n",
    "    \n",
    "    glm.fit(X_train, y_train)\n",
    "    glm_r2_test = glm[-1].score(X_test, y_test)\n",
    "    \n",
    "    nn = keras_model(n_features, 1980, 18)\n",
    "    nn.fit(X_train, y_train, nb_epoch=10, batch_size=32, validation_split=0, verbose=0)\n",
    "    y_test_hat = nn.predict(X_test)\n",
    "    nn_r2_test = poisson_pseudoR2(y_test, np.squeeze(y_test_hat), np.mean(y_train))\n",
    "\n",
    "    nn_p_sim.append(nn_r2_test)\n",
    "    glm_p_sim.append(glm_r2_test)\n"
   ]
  },
  {
   "cell_type": "code",
   "execution_count": 18,
   "metadata": {
    "collapsed": false
   },
   "outputs": [
    {
     "data": {
      "image/png": "[encoded data removed]",
      "text/plain": [
       "<matplotlib.figure.Figure at 0x11e651438>"
      ]
     },
     "metadata": {},
     "output_type": "display_data"
    }
   ],
   "source": [
    "plt.scatter(glm_p_sim,nn_p_sim)\n",
    "plt.plot([-.1,.5],[-.1,.5],':')\n",
    "plt.xlabel('GLM pR2')\n",
    "plt.ylabel('NN pR2')\n",
    "plt.show()"
   ]
  },
  {
   "cell_type": "markdown",
   "metadata": {},
   "source": [
    "This looks good! However, I don't see such behavior for smaller effect sizes and a density of 1."
   ]
  },
  {
   "cell_type": "code",
   "execution_count": 34,
   "metadata": {
    "collapsed": false,
    "scrolled": true
   },
   "outputs": [
    {
     "name": "stdout",
     "output_type": "stream",
     "text": [
      "Running: \n",
      "0: GLM 0.00458994995308; NN -0.0234637394151\n",
      "1: GLM 0.00091049858884; NN -0.0203227227926\n",
      "2: GLM 0.0384669058029; NN 0.0369121864955\n",
      "3: GLM 0.0186502583219; NN -0.0334366110165\n",
      "4: GLM 0.00962868215605; NN -0.0145198865244\n",
      "5: GLM 0.0392357843204; NN -0.0356215648995\n",
      "6: GLM -0.000902956274605; NN -0.027515898302\n",
      "7: GLM 0.03492483021; NN -0.00858163609766\n",
      "8: GLM 0.0256857293093; NN 0.012999284107\n",
      "9: GLM 0.00408601338107; NN -0.0501080361345\n",
      "10: GLM 0.0239474994554; NN -0.0136716466061\n",
      "11: GLM 0.00596766511854; NN -0.102811209424\n",
      "12: GLM 0.0143943017015; NN -0.0218114814071\n",
      "13: GLM 0.0416900660447; NN 0.0297781095941\n",
      "14: GLM 0.0171807776344; NN -0.0228257711876\n",
      "15: GLM 0.0252536977036; NN -0.0150866791714\n",
      "16: GLM 0.0224987568164; NN 0.0155275535511\n",
      "17: GLM 0.00331657571991; NN -0.0767715378663\n",
      "18: GLM 0.0248308189771; NN 0.0262109840915\n",
      "19: GLM 0.0324894372436; NN 0.0272700979119\n",
      "0: GLM 0.11797466377; NN 0.058010524645\n",
      "1: GLM 0.083335953051; NN 0.0366739655327\n",
      "2: GLM 0.0625830800556; NN 0.057877864188\n",
      "3: GLM 0.0830672003701; NN 0.0407039349487\n",
      "4: GLM 0.119733322782; NN 0.10113646829\n",
      "5: GLM 0.0841440317224; NN 0.0759991218743\n",
      "6: GLM 0.017355839101; NN 0.00690115921275\n",
      "7: GLM 0.0495877167073; NN 0.0614071637908\n",
      "8: GLM 0.0880064009595; NN 0.0785534271345\n",
      "9: GLM 0.0612536724895; NN 0.0434200345977\n",
      "10: GLM 0.0246528019006; NN 0.0362865751851\n",
      "11: GLM 0.0610287087314; NN 0.0742564121403\n",
      "12: GLM 0.162847610823; NN 0.048408288844\n",
      "13: GLM 0.0547483345701; NN 0.0394617254931\n",
      "14: GLM 0.0317728510437; NN -0.0801633049781\n",
      "15: GLM 0.141751350147; NN 0.0983745074983\n",
      "16: GLM 0.158065480357; NN 0.148021736067\n",
      "17: GLM 0.182578678257; NN 0.164136522129\n",
      "18: GLM 0.0646448104901; NN 0.0513973200098\n",
      "19: GLM 0.103968093833; NN 0.107351490733\n",
      "0: GLM 0.157982016716; NN 0.135214301623\n",
      "1: GLM 0.149735199359; NN 0.122479145869\n",
      "2: GLM 0.121137119094; NN 0.108008756694\n",
      "3: GLM 0.248403015674; NN 0.252705954004\n",
      "4: GLM 0.201594840213; NN 0.141147744809\n",
      "5: GLM 0.0305870924808; NN 0.0182847616851\n",
      "6: GLM 0.188307302684; NN 0.179416637112\n",
      "7: GLM 0.247851593743; NN 0.213697378974\n",
      "8: GLM 0.13959240671; NN 0.161809739501\n",
      "9: GLM 0.208033250772; NN 0.153376031709\n",
      "10: GLM 0.15852395895; NN 0.143298721736\n",
      "11: GLM 0.159033408251; NN 0.12070166363\n",
      "12: GLM 0.166792083755; NN 0.15620140188\n",
      "13: GLM 0.230862775416; NN 0.208833162411\n",
      "14: GLM 0.290587020856; NN 0.262214074259\n",
      "15: GLM 0.085876096309; NN 0.0946301710978\n",
      "16: GLM 0.0682605437465; NN 0.0559458738088\n",
      "17: GLM 0.201515997112; NN 0.166937425735\n",
      "18: GLM 0.229649543068; NN 0.19277478261\n",
      "19: GLM 0.190108668701; NN 0.133667040199\n",
      "0: GLM 0.212973724837; NN 0.205112096861\n",
      "1: GLM 0.191741088848; NN 0.147106013066\n",
      "2: GLM 0.144458324344; NN 0.126742819972\n",
      "3: GLM 0.304225611916; NN 0.296133173817\n",
      "4: GLM 0.21696724821; NN 0.197260739333\n",
      "5: GLM 0.200620707778; NN 0.134136762172\n",
      "6: GLM 0.368021072565; NN 0.325357829\n",
      "7: GLM 0.375437025369; NN 0.319751193683\n",
      "8: GLM 0.412724402006; NN 0.37024502353\n",
      "9: GLM 0.381136336448; NN 0.367647644797\n",
      "10: GLM 0.315541999237; NN 0.29328633686\n",
      "11: GLM 0.367331767262; NN 0.3378252118\n",
      "12: GLM 0.358370903263; NN 0.335753084378\n",
      "13: GLM 0.424362084646; NN 0.376533690766\n",
      "14: GLM 0.230011653909; NN 0.206871140278\n",
      "15: GLM 0.258377358897; NN 0.253466585361\n",
      "16: GLM 0.381041604041; NN 0.331653598569\n",
      "17: GLM 0.327043870581; NN 0.285553433765\n",
      "18: GLM 0.228862643588; NN 0.170291896529\n",
      "19: GLM 0.291813782377; NN 0.265753392551\n"
     ]
    }
   ],
   "source": [
    "nn_r2_sim=list()\n",
    "glm_r2_sim= list()\n",
    "r_r2_sim = list()\n",
    "\n",
    "# Different parameters this time\n",
    "print('Running: ')\n",
    "\n",
    "effect_size_factors = [0.1,0.2,0.3,0.4]\n",
    "for e in effect_size_factors:\n",
    "    for i in range(20):\n",
    "        n_samples = 1000\n",
    "        n_features = 10\n",
    "        scale_min = 0.0\n",
    "        scale_max = 0.0\n",
    "        density = 1.0\n",
    "        effect_size_factor = e\n",
    "\n",
    "        beta0, beta, X, y = simulate_data(n_samples, n_features, scale_min, scale_max, density, effect_size_factor)\n",
    "\n",
    "        X_train, X_test, y_train, y_test = train_test_split(X, y, random_state=42, test_size=0.2)\n",
    "\n",
    "        # Run glm\n",
    "        glm = GLM(distr='softplus',\n",
    "              alpha=0.1,\n",
    "              tol=1e-8,\n",
    "              reg_lambda=np.logspace(np.log(0.05), np.log(0.001), 10, base=np.exp(1)),\n",
    "              learning_rate=0.01,\n",
    "              solver='batch-gradient',\n",
    "              max_iter=10000,\n",
    "              random_state=1,\n",
    "              score_metric='pseudo_R2')\n",
    "\n",
    "        glm.fit(X_train, y_train)\n",
    "        glm_r2_test = glm[-1].score(X_test, y_test)\n",
    "\n",
    "\n",
    "\n",
    "        # Do NN\n",
    "        nn = keras_model(n_features, 1980, 18)\n",
    "        nn.fit(X_train, y_train, nb_epoch=10, batch_size=32, validation_split=0, verbose=0)\n",
    "        y_test_hat = nn.predict(X_test)\n",
    "        nn_r2_test = poisson_pseudoR2(y_test, np.squeeze(y_test_hat), np.mean(y_train))\n",
    "\n",
    "        print('%s: GLM %s; NN %s'% (i,glm_r2_test[0],nn_r2_test))\n",
    "\n",
    "\n",
    "        nn_r2_sim.append(nn_r2_test)\n",
    "        glm_r2_sim.append(glm_r2_test)"
   ]
  },
  {
   "cell_type": "code",
   "execution_count": 48,
   "metadata": {
    "collapsed": false
   },
   "outputs": [
    {
     "data": {
      "image/png": "[encoded data removed]",
      "text/plain": [
       "<matplotlib.figure.Figure at 0x11e470b70>"
      ]
     },
     "metadata": {},
     "output_type": "display_data"
    }
   ],
   "source": [
    "plt.figure(figsize = (10,5),)\n",
    "plt.subplot(121)\n",
    "plt.scatter(glm_r2_sim,nn_r2_sim)\n",
    "plt.plot([-.1,.5],[-.1,.5],':')\n",
    "plt.xlabel('GLM pR2')\n",
    "plt.ylabel('NN pR2')\n",
    "plt.grid()\n",
    "plt.gca().set_aspect('equal')\n",
    "plt.title('pR2 up to 0.4',fontsize=15)\n",
    "\n",
    "plt.subplot(122)\n",
    "plt.scatter(glm_r2_sim,nn_r2_sim)\n",
    "plt.plot([-.01,.05],[-.01,.05],':')\n",
    "plt.axis([-0.01,0.05,-0.1,.05])\n",
    "plt.xlabel('GLM pR2')\n",
    "plt.ylabel('NN pR2')\n",
    "plt.grid()\n",
    "plt.title('Zoomed in: pR2 to 0.05 (Range observed in S1)',fontsize=15)\n",
    "plt.gca().set_aspect('equal')\n",
    "\n",
    "plt.show()"
   ]
  },
  {
   "cell_type": "markdown",
   "metadata": {
    "collapsed": true
   },
   "source": [
    "### Simulate with current convenience functions"
   ]
  },
  {
   "cell_type": "code",
   "execution_count": null,
   "metadata": {
    "collapsed": true
   },
   "outputs": [],
   "source": []
  },
  {
   "cell_type": "code",
   "execution_count": 44,
   "metadata": {
    "collapsed": true
   },
   "outputs": [],
   "source": [
    "from sklearn.cross_validation import KFold\n",
    "\n",
    "def glm_pyglmnet(Xr, Yr, Xt):\n",
    "    glm = GLM(distr='softplus',\n",
    "          alpha=0.1,\n",
    "          tol=1e-8,\n",
    "          reg_lambda=np.logspace(np.log(0.5), np.log(0.01), 10, base=np.exp(1)),\n",
    "          learning_rate=0.01,\n",
    "          solver='batch-gradient',\n",
    "          max_iter=10000,\n",
    "          random_state=1,\n",
    "          score_metric='pseudo_R2')\n",
    "    \n",
    "    glm.fit(Xr, Yr)\n",
    "    Yt = glm[-1].predict(Xt)\n",
    "    \n",
    "    return Yt\n",
    "\n",
    "def fit_cv(X, Y, algorithm = 'glm_pyglmnet', n_cv=10, verbose=1, label=[],func=None):\n",
    "\n",
    "    if np.ndim(X)==1:\n",
    "        X = np.transpose(np.atleast_2d(X))\n",
    "\n",
    "    if len(label)>0:\n",
    "        skf  = LabelKFold(np.squeeze(label), n_folds=n_cv)\n",
    "    else:\n",
    "        skf  = KFold(n=np.size(Y), n_folds=n_cv, shuffle=True, random_state=42)\n",
    "\n",
    "    i=1\n",
    "    Y_hat=np.zeros(len(Y))\n",
    "    pR2_cv = list()\n",
    "    for idx_r, idx_t in skf:\n",
    "        if verbose > 1:\n",
    "            print( '...runnning cv-fold', i, 'of', n_cv)\n",
    "        i+=1\n",
    "        Xr = X[idx_r, :]\n",
    "        Yr = Y[idx_r]\n",
    "        Xt = X[idx_t, :]\n",
    "        Yt = Y[idx_t]\n",
    "\n",
    "        if func:\n",
    "            Yt_hat = func(Xr, Yr, Xt)\n",
    "        else:\n",
    "            Yt_hat = eval(algorithm)(Xr, Yr, Xt)\n",
    "        Y_hat[idx_t] = Yt_hat\n",
    "\n",
    "        pR2 = poisson_pseudoR2(Yt, Yt_hat, np.mean(Yr))\n",
    "        pR2_cv.append(pR2)\n",
    "\n",
    "        if verbose > 1:\n",
    "            print( 'pR2: ', pR2)\n",
    "\n",
    "    if verbose > 2:\n",
    "        print(\"Mean y: \"+str(np.mean(Y))+\", mean yhat: \"+str(np.mean(Y_hat)))\n",
    "    if verbose > 0:\n",
    "        print(\"pR2_cv: %0.6f (+/- %0.6f)\" % (np.mean(pR2_cv),\n",
    "                                     np.std(pR2_cv)/np.sqrt(n_cv)))\n",
    "\n",
    "    \n",
    "    return Y_hat, pR2_cv"
   ]
  },
  {
   "cell_type": "code",
   "execution_count": 34,
   "metadata": {
    "collapsed": true
   },
   "outputs": [],
   "source": [
    "## the neural net from above\n",
    "def nn_eval(Xr, Yr, Xt):\n",
    "    if np.ndim(Xr)==1:\n",
    "        Xr = np.transpose(np.atleast_2d(Xr))\n",
    "\n",
    "    hist = nn.fit(X_train, y_train, nb_epoch=10, batch_size=32,verbose=0)\n",
    "    result = nn.predict_proba(Xt)\n",
    "    return result[:,0]\n"
   ]
  },
  {
   "cell_type": "code",
   "execution_count": 35,
   "metadata": {
    "collapsed": false
   },
   "outputs": [
    {
     "name": "stdout",
     "output_type": "stream",
     "text": [
      "...runnning cv-fold 1 of 5\n",
      " 32/200 [===>..........................] - ETA: 0spR2:  0.93652332524\n",
      "...runnning cv-fold 2 of 5\n"
     ]
    },
    {
     "name": "stderr",
     "output_type": "stream",
     "text": [
      "//anaconda/lib/python3.5/site-packages/Keras-1.1.0-py3.5.egg/keras/models.py:760: UserWarning: Network returning invalid probability values. The last layer might not normalize predictions into probabilities (like softmax or sigmoid would).\n",
      "  warnings.warn('Network returning invalid probability values. '\n"
     ]
    },
    {
     "name": "stdout",
     "output_type": "stream",
     "text": [
      " 32/200 [===>..........................] - ETA: 0spR2:  0.980601330616\n",
      "...runnning cv-fold 3 of 5\n",
      " 32/200 [===>..........................] - ETA: 0spR2:  0.979704993713\n",
      "...runnning cv-fold 4 of 5\n",
      " 32/200 [===>..........................] - ETA: 0spR2:  0.982490283785\n",
      "...runnning cv-fold 5 of 5\n",
      " 32/200 [===>..........................] - ETA: 0spR2:  0.985956707142\n",
      "pR2_cv: 0.973055 (+/- 0.008225)\n"
     ]
    }
   ],
   "source": [
    "\n",
    "YThat, PR2 = fit_cv(X, y, algorithm = 'nn_eval', n_cv=5, verbose=2, label=[])"
   ]
  },
  {
   "cell_type": "markdown",
   "metadata": {},
   "source": [
    "Same result. Perhaps the error is with the current neural net parameters?"
   ]
  },
  {
   "cell_type": "code",
   "execution_count": 39,
   "metadata": {
    "collapsed": true
   },
   "outputs": [],
   "source": [
    "from keras.optimizers import Nadam\n",
    "from keras.layers.advanced_activations import ParametricSoftplus\n",
    "from keras.regularizers import l1l2\n",
    "\n",
    "def build_nn(params):\n",
    "    \n",
    "    params['n1']=int(params['n1'])\n",
    "    params['n2']=int(params['n2'])\n",
    "    params['nb']=int(params['nb'])\n",
    "    params['dropout']=float(params['dropout'])\n",
    "    params['l1'],params['l2'] = float(params['l1']),float(params['l2'])\n",
    "    \n",
    "    def nn_new(Xr, Yr, Xt):\n",
    "        if np.ndim(Xr)==1:\n",
    "            Xr = np.transpose(np.atleast_2d(Xr))\n",
    "\n",
    "        model = Sequential()\n",
    "        model.add(Dense(params['n1'], input_dim=np.shape(Xr)[1], init='glorot_normal',\n",
    "                    activation='relu', W_regularizer=l1l2(params['l1'],params['l2'])))\n",
    "        model.add(Dropout(params['dropout']))\n",
    "        model.add(Dense(params['n2'], init='glorot_normal'\n",
    "                        , activation='relu',W_regularizer=l1l2(params['l1'],params['l2'])))\n",
    "        model.add(Dense(1,activation='softplus'))\n",
    "        \n",
    "        optim = Nadam()\n",
    "        model.compile(loss='poisson', optimizer=optim)\n",
    "        hist = model.fit(Xr, Yr, batch_size = 32, nb_epoch=params['nb'], verbose=0, validation_split=0.0)\n",
    "        result = model.predict(Xt)\n",
    "        return result[:,0]\n",
    "\n",
    "    return nn_new"
   ]
  },
  {
   "cell_type": "code",
   "execution_count": 40,
   "metadata": {
    "collapsed": true
   },
   "outputs": [],
   "source": [
    "params = {'dropout': 0.5,\n",
    "  'l1': 0.0,\n",
    "  'l2': 0.0,\n",
    "  'n1': 1980,\n",
    "  'n2': 18,\n",
    "  'nb': 5}\n",
    "nn_orig = build_nn(params)\n"
   ]
  },
  {
   "cell_type": "code",
   "execution_count": 41,
   "metadata": {
    "collapsed": false
   },
   "outputs": [
    {
     "name": "stdout",
     "output_type": "stream",
     "text": [
      "...runnning cv-fold 1 of 5\n",
      "pR2:  0.940262844001\n",
      "...runnning cv-fold 2 of 5\n",
      "pR2:  0.958189413643\n",
      "...runnning cv-fold 3 of 5\n",
      "pR2:  0.961056311346\n",
      "...runnning cv-fold 4 of 5\n",
      "pR2:  0.966486921618\n",
      "...runnning cv-fold 5 of 5\n",
      "pR2:  0.959694369751\n",
      "pR2_cv: 0.957138 (+/- 0.003976)\n"
     ]
    }
   ],
   "source": [
    "YThat, PR2 = fit_cv(X, y, algorithm = 'nn_orig', n_cv=5, verbose=2, label=[])"
   ]
  },
  {
   "cell_type": "markdown",
   "metadata": {},
   "source": [
    "It looks like there's no bug here: comparable results with the current neural net. Perhaps the discrepancy arises with data scaling?"
   ]
  },
  {
   "cell_type": "markdown",
   "metadata": {},
   "source": [
    "### Simulate as before\n",
    "\n",
    "First with 1000 x 10 data, like above."
   ]
  },
  {
   "cell_type": "code",
   "execution_count": 50,
   "metadata": {
    "collapsed": false
   },
   "outputs": [
    {
     "name": "stdout",
     "output_type": "stream",
     "text": [
      "...runnning cv-fold 1 of 5\n",
      "pR2:  0.00408552991316\n",
      "...runnning cv-fold 2 of 5\n",
      "pR2:  -0.0290121602071\n",
      "...runnning cv-fold 3 of 5\n",
      "pR2:  0.0158560442089\n",
      "...runnning cv-fold 4 of 5\n",
      "pR2:  -0.0392530735383\n",
      "...runnning cv-fold 5 of 5\n",
      "pR2:  -0.0608780128805\n",
      "pR2_cv: -0.021840 (+/- 0.012604)\n",
      "...runnning cv-fold 1 of 5\n",
      "pR2:  0.00411789772037\n",
      "...runnning cv-fold 2 of 5\n",
      "pR2:  0.00288054137381\n",
      "...runnning cv-fold 3 of 5\n",
      "pR2:  0.00237670118599\n",
      "...runnning cv-fold 4 of 5\n",
      "pR2:  0.00108928264176\n",
      "...runnning cv-fold 5 of 5\n",
      "pR2:  0.000814098538951\n",
      "pR2_cv: 0.002256 (+/- 0.000541)\n"
     ]
    }
   ],
   "source": [
    "# An example S1 fit\n",
    "# B = array([-0.04393966,  0.01458511, -0.01989851, -0.0094703 ])\n",
    "# B0=-1.15351603\n",
    "\n",
    "X = np.random.randn(1000, 10)\n",
    "\n",
    "B = np.array([0.1,0.1,0.01,0.01, 0.01,0.01,0.01,0.01,0.01,0.01])\n",
    "B0 = -2\n",
    "yhat = glm.simulate(B0,B,X)\n",
    "\n",
    "\n",
    "YThat, PR2 = fit_cv(X, y, algorithm = 'nn_orig', n_cv=5, verbose=2, label=[])\n",
    "YThat, PR2 = fit_cv(X, y, algorithm = 'glm_pyglmnet', n_cv=5, verbose=2, label=[])"
   ]
  },
  {
   "cell_type": "markdown",
   "metadata": {},
   "source": [
    "Now with the dimensions of the S1 data"
   ]
  },
  {
   "cell_type": "code",
   "execution_count": 51,
   "metadata": {
    "collapsed": false
   },
   "outputs": [
    {
     "name": "stdout",
     "output_type": "stream",
     "text": [
      "...runnning cv-fold 1 of 5\n",
      "pR2:  0.0146421713448\n",
      "...runnning cv-fold 2 of 5\n",
      "pR2:  -0.0122915243984\n",
      "...runnning cv-fold 3 of 5\n",
      "pR2:  -0.0027749365029\n",
      "...runnning cv-fold 4 of 5\n",
      "pR2:  -0.073865667698\n",
      "...runnning cv-fold 5 of 5\n",
      "pR2:  -0.0044991617879\n",
      "pR2_cv: -0.015758 (+/- 0.013576)\n"
     ]
    }
   ],
   "source": [
    "# An example S1 fit\n",
    "# B = array([-0.04393966,  0.01458511, -0.01989851, -0.0094703 ])\n",
    "# B0=-1.15351603\n",
    "\n",
    "X = np.random.randn(37587, 4)\n",
    "\n",
    "B = np.array([0.1,0.1,0.01,0.01]) #should lead to 0.117381 (R) or 0.099076 (pyglmnet with above params)\n",
    "B0=-2\n",
    "yhat = glm.simulate(B0,B,X)\n",
    "\n",
    "\n",
    "YThat, PR2 = fit_cv(X, y, algorithm = 'nn_orig', n_cv=5, verbose=2, label=[])"
   ]
  },
  {
   "cell_type": "code",
   "execution_count": 47,
   "metadata": {
    "collapsed": false
   },
   "outputs": [
    {
     "name": "stdout",
     "output_type": "stream",
     "text": [
      "...runnning cv-fold 1 of 5\n",
      "pR2:  0.000363083917906\n",
      "...runnning cv-fold 2 of 5\n",
      "pR2:  -0.000345731734936\n",
      "...runnning cv-fold 3 of 5\n",
      "pR2:  6.45289559824e-05\n",
      "...runnning cv-fold 4 of 5\n",
      "pR2:  0.000205615146977\n",
      "...runnning cv-fold 5 of 5\n",
      "pR2:  -0.000234163578046\n",
      "pR2_cv: 0.000011 (+/- 0.000119)\n"
     ]
    }
   ],
   "source": [
    "YThat, PR2 = fit_cv(X, y, algorithm = 'glm_pyglmnet', n_cv=5, verbose=2, label=[])"
   ]
  },
  {
   "cell_type": "markdown",
   "metadata": {},
   "source": [
    "Both of these seem to indicate the discrepancy lies with the scaling of the data.\n",
    "\n",
    "Let's see what happens when we don't scale the data at all:"
   ]
  },
  {
   "cell_type": "code",
   "execution_count": 99,
   "metadata": {
    "collapsed": true
   },
   "outputs": [],
   "source": [
    "n_samples = 1000\n",
    "n_features = 10\n",
    "scale_min = 0 # note: on log scale. 0 --> scale of 1\n",
    "scale_max = 0\n",
    "density = 0.5\n",
    "effect_size_factor = 1\n",
    "\n",
    "beta0, beta, X, y = simulate_data(n_samples, n_features, scale_min, scale_max, density, effect_size_factor)"
   ]
  },
  {
   "cell_type": "code",
   "execution_count": 100,
   "metadata": {
    "collapsed": false
   },
   "outputs": [
    {
     "name": "stdout",
     "output_type": "stream",
     "text": [
      "...runnning cv-fold 1 of 5\n",
      "pR2:  0.222445915466\n",
      "...runnning cv-fold 2 of 5\n",
      "pR2:  0.198419054237\n",
      "...runnning cv-fold 3 of 5\n",
      "pR2:  0.138351313684\n",
      "...runnning cv-fold 4 of 5\n",
      "pR2:  0.124691032788\n",
      "...runnning cv-fold 5 of 5\n",
      "pR2:  0.24846376861\n",
      "pR2_cv: 0.186474 (+/- 0.021366)\n"
     ]
    }
   ],
   "source": [
    "YThat, PR2 = fit_cv(X, y, algorithm = 'nn_orig', n_cv=5, verbose=2, label=[])"
   ]
  },
  {
   "cell_type": "code",
   "execution_count": 101,
   "metadata": {
    "collapsed": false
   },
   "outputs": [
    {
     "name": "stdout",
     "output_type": "stream",
     "text": [
      "...runnning cv-fold 1 of 5\n",
      "pR2:  0.199750185786\n",
      "...runnning cv-fold 2 of 5\n",
      "pR2:  0.173520385166\n",
      "...runnning cv-fold 3 of 5\n",
      "pR2:  0.140591900879\n",
      "...runnning cv-fold 4 of 5\n",
      "pR2:  0.15871643725\n",
      "...runnning cv-fold 5 of 5\n",
      "pR2:  0.184577989685\n",
      "pR2_cv: 0.171431 (+/- 0.009147)\n"
     ]
    }
   ],
   "source": [
    "YThat, PR2 = fit_cv(X, y, algorithm = 'glm_pyglmnet', n_cv=5, verbose=2, label=[])"
   ]
  },
  {
   "cell_type": "markdown",
   "metadata": {},
   "source": [
    "Or how about decreasing the effect size:"
   ]
  },
  {
   "cell_type": "code",
   "execution_count": 104,
   "metadata": {
    "collapsed": false
   },
   "outputs": [],
   "source": [
    "effect_size_factor = 0.1\n",
    "beta0, beta, X, y = simulate_data(n_samples, n_features, scale_min, scale_max, density, effect_size_factor)"
   ]
  },
  {
   "cell_type": "code",
   "execution_count": 105,
   "metadata": {
    "collapsed": false
   },
   "outputs": [
    {
     "name": "stdout",
     "output_type": "stream",
     "text": [
      "...runnning cv-fold 1 of 5\n",
      "pR2:  -0.0117207579121\n",
      "...runnning cv-fold 2 of 5\n",
      "pR2:  0.0161017223372\n",
      "...runnning cv-fold 3 of 5\n",
      "pR2:  -0.0780054035744\n",
      "...runnning cv-fold 4 of 5\n",
      "pR2:  -0.00711248082106\n",
      "...runnning cv-fold 5 of 5\n",
      "pR2:  -0.126864449178\n",
      "pR2_cv: -0.041520 (+/- 0.023670)\n"
     ]
    }
   ],
   "source": [
    "YThat, PR2 = fit_cv(X, y, algorithm = 'nn_orig', n_cv=5, verbose=2, label=[])"
   ]
  },
  {
   "cell_type": "code",
   "execution_count": 106,
   "metadata": {
    "collapsed": false
   },
   "outputs": [
    {
     "name": "stdout",
     "output_type": "stream",
     "text": [
      "...runnning cv-fold 1 of 5\n",
      "pR2:  0.000149669321342\n",
      "...runnning cv-fold 2 of 5\n",
      "pR2:  4.2505820484e-05\n",
      "...runnning cv-fold 3 of 5\n",
      "pR2:  -1.13653606917e-05\n",
      "...runnning cv-fold 4 of 5\n",
      "pR2:  -9.89793645845e-06\n",
      "...runnning cv-fold 5 of 5\n",
      "pR2:  -0.000108128576591\n",
      "pR2_cv: 0.000013 (+/- 0.000038)\n"
     ]
    }
   ],
   "source": [
    "YThat, PR2 = fit_cv(X, y, algorithm = 'glm_pyglmnet', n_cv=5, verbose=2, label=[])"
   ]
  },
  {
   "cell_type": "markdown",
   "metadata": {},
   "source": [
    "This seems to be it. Let's plot the difference in pR2 vs effect size:"
   ]
  },
  {
   "cell_type": "code",
   "execution_count": 113,
   "metadata": {
    "collapsed": false
   },
   "outputs": [
    {
     "name": "stdout",
     "output_type": "stream",
     "text": [
      "0.0\n",
      "0.02\n",
      "0.04\n",
      "0.06\n",
      "0.08\n",
      "0.1\n",
      "0.12\n",
      "0.14\n",
      "0.16\n",
      "0.18\n",
      "0.2\n",
      "0.22\n",
      "0.24\n",
      "0.26\n",
      "0.28\n",
      "0.3\n",
      "0.32\n",
      "0.34\n",
      "0.36\n",
      "0.38\n",
      "0.4\n",
      "0.42\n",
      "0.44\n",
      "0.46\n",
      "0.48\n"
     ]
    }
   ],
   "source": [
    "effects  = np.arange(0,0.5,0.02)\n",
    "nn_p=list()\n",
    "glm_p= list()\n",
    "for e in effects:\n",
    "    beta0, beta, X, y = simulate_data(n_samples, n_features, scale_min, scale_max, density, e)\n",
    "    YThat, PR2_nn = fit_cv(X, y, algorithm = 'nn_orig', n_cv=5, verbose=0, label=[])\n",
    "    YThat, PR2 = fit_cv(X, y, algorithm = 'glm_pyglmnet', n_cv=5, verbose=0, label=[])\n",
    "    print(e)\n",
    "    nn_p.append(PR2_nn)\n",
    "    glm_p.append(PR2)"
   ]
  },
  {
   "cell_type": "code",
   "execution_count": 121,
   "metadata": {
    "collapsed": false
   },
   "outputs": [
    {
     "data": {
      "image/png": "[encoded data removed]",
      "text/plain": [
       "<matplotlib.figure.Figure at 0x1201ab400>"
      ]
     },
     "metadata": {},
     "output_type": "display_data"
    }
   ],
   "source": [
    "sn = np.sqrt(5)\n",
    "yy = np.mean(np.array(nn_p), axis=1)-np.mean(np.array(glm_p), axis=1)\n",
    "# error propogated from CV variance of both methods\n",
    "yerr = np.sqrt(np.std(np.array(nn_p), axis=1)**2+np.std(np.array(glm_p), axis=1)**2)/sn\n",
    "\n",
    "p1,c,b=plt.errorbar(effects, yy, yerr = yerr , alpha=1,color='#EF3E34')\n",
    "plt.grid()\n",
    "plt.xlabel('Effect Size',fontsize=16)\n",
    "plt.ylabel('Relatve pR2 (NN-GLM)',fontsize=16)\n",
    "plt.show()"
   ]
  },
  {
   "cell_type": "code",
   "execution_count": null,
   "metadata": {
    "collapsed": true
   },
   "outputs": [],
   "source": []
  }
 ],
 "metadata": {
  "anaconda-cloud": {},
  "kernelspec": {
   "display_name": "Python [Root]",
   "language": "python",
   "name": "Python [Root]"
  },
  "language_info": {
   "codemirror_mode": {
    "name": "ipython",
    "version": 3
   },
   "file_extension": ".py",
   "mimetype": "text/x-python",
   "name": "python",
   "nbconvert_exporter": "python",
   "pygments_lexer": "ipython3",
   "version": "3.5.2"
  }
 },
 "nbformat": 4,
 "nbformat_minor": 0
}
