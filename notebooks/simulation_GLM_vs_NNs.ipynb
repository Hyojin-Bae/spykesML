{
 "cells": [
  {
   "cell_type": "markdown",
   "metadata": {},
   "source": [
    "# Simulation comparing GLMs and NNs"
   ]
  },
  {
   "cell_type": "markdown",
   "metadata": {},
   "source": [
    "## Imports"
   ]
  },
  {
   "cell_type": "code",
   "execution_count": 2,
   "metadata": {
    "collapsed": false
   },
   "outputs": [],
   "source": [
    "import numpy as np\n",
    "from sklearn.cross_validation import train_test_split\n",
    "from scipy import stats\n",
    "import scipy.sparse as sps\n",
    "\n",
    "# GLM\n",
    "from pyglmnet import GLM\n",
    "\n",
    "# NNs\n",
    "import keras\n",
    "from keras.models import Sequential\n",
    "from keras.layers.core import Dense, Dropout\n",
    "from keras.layers.normalization import BatchNormalization\n",
    "\n",
    "# Plotting\n",
    "import matplotlib.pyplot as plt\n",
    "% matplotlib inline"
   ]
  },
  {
   "cell_type": "markdown",
   "metadata": {},
   "source": [
    "## Simulate data"
   ]
  },
  {
   "cell_type": "code",
   "execution_count": 237,
   "metadata": {
    "collapsed": true
   },
   "outputs": [],
   "source": [
    "def simulate_data(n_samples, n_features, scale_min, scale_max, density, effect_size_factor):\n",
    "\n",
    "    # Sample design matrix\n",
    "    X = np.random.randn(n_samples, n_features)\n",
    "    \n",
    "    # Rescale\n",
    "    scale_factor = np.logspace(scale_min, scale_max, n_features)\n",
    "    for f in range(n_features):\n",
    "        X[:, f] = scale_factor[f] * X[:, f]\n",
    "    \n",
    "    # Sample beta0\n",
    "    beta0 = effect_size_factor * 3.0 * np.random.rand(1)\n",
    "    \n",
    "    # Sample sparse beta\n",
    "    rvs = stats.norm(loc=0.0, scale=1.0).rvs\n",
    "    tmp = sps.random(n_features, 1, density=density, data_rvs=rvs)\n",
    "    beta = effect_size_factor * np.squeeze(tmp.toarray())\n",
    "    \n",
    "    # Sample y ~ Poisson(exp(beta0 + X * beta))\n",
    "    glm_simulator = GLM(distr='softplus')\n",
    "    y = glm_simulator.simulate(beta0, beta, X)\n",
    "    \n",
    "    return beta0, beta, X, y"
   ]
  },
  {
   "cell_type": "code",
   "execution_count": 335,
   "metadata": {
    "collapsed": true
   },
   "outputs": [],
   "source": [
    "n_samples = 1000\n",
    "n_features = 10\n",
    "scale_min = -2.0\n",
    "scale_max = 0.0\n",
    "density = 1.0\n",
    "effect_size_factor = 0.5"
   ]
  },
  {
   "cell_type": "code",
   "execution_count": 336,
   "metadata": {
    "collapsed": false
   },
   "outputs": [],
   "source": [
    "beta0, beta, X, y = simulate_data(n_samples, n_features, scale_min, scale_max, density, effect_size_factor)"
   ]
  },
  {
   "cell_type": "code",
   "execution_count": 337,
   "metadata": {
    "collapsed": false
   },
   "outputs": [
    {
     "data": {
      "text/plain": [
       "(array([ 0.18241593]),\n",
       " array([-0.36710045,  0.29060202, -0.56145599, -0.42124506, -0.18574691,\n",
       "        -0.43944311,  0.14134437,  0.52469813,  0.28354229,  0.24444901]))"
      ]
     },
     "execution_count": 337,
     "metadata": {},
     "output_type": "execute_result"
    }
   ],
   "source": [
    "beta0, beta"
   ]
  },
  {
   "cell_type": "code",
   "execution_count": 338,
   "metadata": {
    "collapsed": true
   },
   "outputs": [],
   "source": [
    "X_train, X_test, y_train, y_test = train_test_split(X, y, random_state=42, test_size=0.2)"
   ]
  },
  {
   "cell_type": "markdown",
   "metadata": {},
   "source": [
    "## Fit models"
   ]
  },
  {
   "cell_type": "markdown",
   "metadata": {},
   "source": [
    "### GLMs "
   ]
  },
  {
   "cell_type": "code",
   "execution_count": 339,
   "metadata": {
    "collapsed": false
   },
   "outputs": [],
   "source": [
    "glm = GLM(distr='softplus',\n",
    "          alpha=0.1,\n",
    "          tol=1e-8,\n",
    "          reg_lambda=np.logspace(np.log(0.05), np.log(0.001), 10, base=np.exp(1)),\n",
    "          learning_rate=0.01,\n",
    "          solver='batch-gradient',\n",
    "          max_iter=10000,\n",
    "          random_state=1,\n",
    "          score_metric='pseudo_R2')"
   ]
  },
  {
   "cell_type": "code",
   "execution_count": 340,
   "metadata": {
    "collapsed": false
   },
   "outputs": [
    {
     "name": "stdout",
     "output_type": "stream",
     "text": [
      "[ 0.03874828] [ 0.04142872]\n"
     ]
    }
   ],
   "source": [
    "glm.fit(X_train, y_train)\n",
    "glm_r2_train = glm[-1].score(X_train, y_train)\n",
    "glm_r2_test = glm[-1].score(X_test, y_test)\n",
    "print glm_r2_train, glm_r2_test"
   ]
  },
  {
   "cell_type": "code",
   "execution_count": 341,
   "metadata": {
    "collapsed": false
   },
   "outputs": [],
   "source": [
    "y_train_hat = glm[-1].predict(X_train)\n",
    "y_test_hat = glm[-1].predict(X_test)"
   ]
  },
  {
   "cell_type": "code",
   "execution_count": 342,
   "metadata": {
    "collapsed": false
   },
   "outputs": [
    {
     "data": {
      "image/png": "[encoded data removed]",
      "text/plain": [
       "<matplotlib.figure.Figure at 0x11fa778d0>"
      ]
     },
     "metadata": {},
     "output_type": "display_data"
    }
   ],
   "source": [
    "plt.plot(y_test, y_test_hat, 'ro', alpha=0.2)\n",
    "plt.show()"
   ]
  },
  {
   "cell_type": "markdown",
   "metadata": {},
   "source": [
    "## Neural Networks"
   ]
  },
  {
   "cell_type": "code",
   "execution_count": 343,
   "metadata": {
    "collapsed": true
   },
   "outputs": [],
   "source": [
    "def keras_model(n_features, n_layer1, n_layer2):\n",
    "    model = Sequential()\n",
    "    \n",
    "    model.add(Dense(input_dim=n_features, output_dim=n_layer1, init='glorot_uniform', activation='relu'))\n",
    "    model.add(Dropout(0.5))\n",
    "    #model.add(BatchNormalization())\n",
    "    \n",
    "    model.add(Dense(input_dim=n_features, output_dim=n_layer2, init='glorot_uniform', activation='relu'))\n",
    "    model.add(Dropout(0.5))\n",
    "    #model.add(BatchNormalization())\n",
    "    \n",
    "    model.add(Dense(output_dim=1, activation='softplus'))\n",
    "    \n",
    "    model.compile(loss='poisson', optimizer='rmsprop')\n",
    "    return model"
   ]
  },
  {
   "cell_type": "code",
   "execution_count": 344,
   "metadata": {
    "collapsed": false
   },
   "outputs": [],
   "source": [
    "nn = keras_model(n_features, 1980, 18)"
   ]
  },
  {
   "cell_type": "code",
   "execution_count": 345,
   "metadata": {
    "collapsed": false
   },
   "outputs": [
    {
     "name": "stdout",
     "output_type": "stream",
     "text": [
      "Train on 640 samples, validate on 160 samples\n",
      "Epoch 1/10\n",
      "640/640 [==============================] - 0s - loss: 0.9657 - val_loss: 0.9883\n",
      "Epoch 2/10\n",
      "640/640 [==============================] - 0s - loss: 0.9654 - val_loss: 0.9926\n",
      "Epoch 3/10\n",
      "640/640 [==============================] - 0s - loss: 0.9651 - val_loss: 0.9865\n",
      "Epoch 4/10\n",
      "640/640 [==============================] - 0s - loss: 0.9520 - val_loss: 0.9839\n",
      "Epoch 5/10\n",
      "640/640 [==============================] - 0s - loss: 0.9553 - val_loss: 0.9945\n",
      "Epoch 6/10\n",
      "640/640 [==============================] - 0s - loss: 0.9527 - val_loss: 0.9821\n",
      "Epoch 7/10\n",
      "640/640 [==============================] - 0s - loss: 0.9525 - val_loss: 0.9843\n",
      "Epoch 8/10\n",
      "640/640 [==============================] - 0s - loss: 0.9579 - val_loss: 0.9795\n",
      "Epoch 9/10\n",
      "640/640 [==============================] - 0s - loss: 0.9529 - val_loss: 0.9791\n",
      "Epoch 10/10\n",
      "640/640 [==============================] - 0s - loss: 0.9521 - val_loss: 0.9897\n"
     ]
    },
    {
     "data": {
      "text/plain": [
       "<keras.callbacks.History at 0x1229b2c90>"
      ]
     },
     "execution_count": 345,
     "metadata": {},
     "output_type": "execute_result"
    }
   ],
   "source": [
    "nn.fit(X_train, y_train, nb_epoch=10, batch_size=32, validation_split=0.2)"
   ]
  },
  {
   "cell_type": "code",
   "execution_count": 346,
   "metadata": {
    "collapsed": true
   },
   "outputs": [],
   "source": [
    "y_train_hat = nn.predict(X_train)\n",
    "y_test_hat = nn.predict(X_test)"
   ]
  },
  {
   "cell_type": "code",
   "execution_count": 347,
   "metadata": {
    "collapsed": true
   },
   "outputs": [],
   "source": [
    "def poisson_pseudoR2(y, yhat, ynull):\n",
    "    eps = np.spacing(1)\n",
    "    L1 = np.sum(y * np.log(eps + yhat) - yhat)\n",
    "    L0 = np.sum(y * np.log(eps + ynull) - ynull)\n",
    "    LS = np.sum(y * np.log(eps + y) - y)\n",
    "    R2 = 1 -(LS - L1) / (LS - L0)\n",
    "    return R2"
   ]
  },
  {
   "cell_type": "code",
   "execution_count": 348,
   "metadata": {
    "collapsed": false
   },
   "outputs": [
    {
     "name": "stdout",
     "output_type": "stream",
     "text": [
      "0.0556674209204 0.0208200965427\n"
     ]
    }
   ],
   "source": [
    "nn_r2_train = poisson_pseudoR2(y_train, np.squeeze(y_train_hat), np.mean(y_train))\n",
    "nn_r2_test = poisson_pseudoR2(y_test, np.squeeze(y_test_hat), np.mean(y_train))\n",
    "print nn_r2_train, nn_r2_test"
   ]
  },
  {
   "cell_type": "code",
   "execution_count": 334,
   "metadata": {
    "collapsed": false
   },
   "outputs": [
    {
     "data": {
      "image/png": "[encoded data removed]",
      "text/plain": [
       "<matplotlib.figure.Figure at 0x1202fef90>"
      ]
     },
     "metadata": {},
     "output_type": "display_data"
    }
   ],
   "source": [
    "plt.plot(y_test, y_test_hat, 'bo', alpha=0.2)\n",
    "plt.show()"
   ]
  },
  {
   "cell_type": "code",
   "execution_count": null,
   "metadata": {
    "collapsed": true
   },
   "outputs": [],
   "source": []
  }
 ],
 "metadata": {
  "kernelspec": {
   "display_name": "Python 2",
   "language": "python",
   "name": "python2"
  },
  "language_info": {
   "codemirror_mode": {
    "name": "ipython",
    "version": 2
   },
   "file_extension": ".py",
   "mimetype": "text/x-python",
   "name": "python",
   "nbconvert_exporter": "python",
   "pygments_lexer": "ipython2",
   "version": "2.7.11"
  }
 },
 "nbformat": 4,
 "nbformat_minor": 0
}
