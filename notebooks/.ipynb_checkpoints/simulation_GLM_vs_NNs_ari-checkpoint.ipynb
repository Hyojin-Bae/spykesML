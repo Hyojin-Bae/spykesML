{
 "cells": [
  {
   "cell_type": "markdown",
   "metadata": {},
   "source": [
    "# Simulation comparing GLMs and NNs"
   ]
  },
  {
   "cell_type": "markdown",
   "metadata": {},
   "source": [
    "## Imports"
   ]
  },
  {
   "cell_type": "code",
   "execution_count": 1,
   "metadata": {
    "collapsed": false
   },
   "outputs": [
    {
     "name": "stderr",
     "output_type": "stream",
     "text": [
      "//anaconda/lib/python3.5/site-packages/sklearn/cross_validation.py:44: DeprecationWarning: This module was deprecated in version 0.18 in favor of the model_selection module into which all the refactored classes and functions are moved. Also note that the interface of the new CV iterators are different from that of this module. This module will be removed in 0.20.\n",
      "  \"This module will be removed in 0.20.\", DeprecationWarning)\n",
      "Using Theano backend.\n"
     ]
    }
   ],
   "source": [
    "import numpy as np\n",
    "from sklearn.cross_validation import train_test_split\n",
    "from scipy import stats\n",
    "import scipy.sparse as sps\n",
    "import scipy.io\n",
    "import pandas as pd\n",
    "\n",
    "# GLM\n",
    "from pyglmnet import GLM\n",
    "\n",
    "# NNs\n",
    "import keras\n",
    "from keras.models import Sequential\n",
    "from keras.layers.core import Dense, Dropout\n",
    "from keras.layers.normalization import BatchNormalization\n",
    "\n",
    "# Plotting\n",
    "import matplotlib.pyplot as plt\n",
    "% matplotlib inline"
   ]
  },
  {
   "cell_type": "markdown",
   "metadata": {},
   "source": [
    "## Simulate data"
   ]
  },
  {
   "cell_type": "code",
   "execution_count": 2,
   "metadata": {
    "collapsed": true
   },
   "outputs": [],
   "source": [
    "def simulate_data(n_samples, n_features, scale_min, scale_max, density, effect_size_factor):\n",
    "\n",
    "    # Sample design matrix\n",
    "    X = np.random.randn(n_samples, n_features)\n",
    "    \n",
    "    # Rescale\n",
    "    scale_factor = np.logspace(scale_min, scale_max, n_features)\n",
    "    for f in range(n_features):\n",
    "        X[:, f] = scale_factor[f] * X[:, f]\n",
    "    \n",
    "    # Sample beta0\n",
    "    beta0 = np.random.randn(1)*effect_size_factor\n",
    "    \n",
    "    # Sample sparse beta\n",
    "    rvs = stats.norm(loc=0.0, scale=1.0).rvs\n",
    "    tmp = sps.random(n_features, 1, density=density, data_rvs=rvs)\n",
    "    beta = np.squeeze(tmp.toarray())*effect_size_factor\n",
    "    \n",
    "    # Sample y ~ Poisson(exp(beta0 + X * beta))\n",
    "    glm_simulator = GLM(distr='softplus')\n",
    "    y = glm_simulator.simulate(beta0, beta, X)\n",
    "    \n",
    "    return beta0, beta, X, y"
   ]
  },
  {
   "cell_type": "code",
   "execution_count": 3,
   "metadata": {
    "collapsed": true
   },
   "outputs": [],
   "source": [
    "n_samples = 1000\n",
    "n_features = 10\n",
    "scale_min = 0.0001\n",
    "scale_max = 1.0\n",
    "density = 0.5\n",
    "effect_size_factor = 1"
   ]
  },
  {
   "cell_type": "code",
   "execution_count": 68,
   "metadata": {
    "collapsed": false
   },
   "outputs": [],
   "source": [
    "beta0, beta, X, y = simulate_data(n_samples, n_features, scale_min, scale_max, density, effect_size_factor)"
   ]
  },
  {
   "cell_type": "code",
   "execution_count": 69,
   "metadata": {
    "collapsed": true
   },
   "outputs": [],
   "source": [
    "X_train, X_test, y_train, y_test = train_test_split(X, y, random_state=42, test_size=0.2)"
   ]
  },
  {
   "cell_type": "markdown",
   "metadata": {},
   "source": [
    "## Fit models"
   ]
  },
  {
   "cell_type": "markdown",
   "metadata": {},
   "source": [
    "### GLMs "
   ]
  },
  {
   "cell_type": "code",
   "execution_count": 11,
   "metadata": {
    "collapsed": false
   },
   "outputs": [],
   "source": [
    "glm = GLM(distr='softplus',\n",
    "          alpha=0.1,\n",
    "          tol=1e-8,\n",
    "          reg_lambda=np.logspace(np.log(0.05), np.log(0.001), 10, base=np.exp(1)),\n",
    "          learning_rate=0.01,\n",
    "          solver='batch-gradient',\n",
    "          max_iter=10000,\n",
    "          random_state=1,\n",
    "          score_metric='pseudo_R2')"
   ]
  },
  {
   "cell_type": "code",
   "execution_count": 71,
   "metadata": {
    "collapsed": false
   },
   "outputs": [
    {
     "name": "stdout",
     "output_type": "stream",
     "text": [
      "[ 0.95384044] [ 0.94737693]\n"
     ]
    }
   ],
   "source": [
    "glm.fit(X_train, y_train)\n",
    "glm_r2_train = glm[-1].score(X_train, y_train)\n",
    "glm_r2_test = glm[-1].score(X_test, y_test)\n",
    "print(glm_r2_train, glm_r2_test)"
   ]
  },
  {
   "cell_type": "code",
   "execution_count": 72,
   "metadata": {
    "collapsed": false
   },
   "outputs": [],
   "source": [
    "y_train_hat = glm[-1].predict(X_train)\n",
    "y_test_hat = glm[-1].predict(X_test)"
   ]
  },
  {
   "cell_type": "code",
   "execution_count": 73,
   "metadata": {
    "collapsed": false
   },
   "outputs": [
    {
     "data": {
      "image/png": "[encoded data removed]",
      "text/plain": [
       "<matplotlib.figure.Figure at 0x120177c18>"
      ]
     },
     "metadata": {},
     "output_type": "display_data"
    }
   ],
   "source": [
    "plt.plot(y_test, y_test_hat, 'ro', alpha=0.2)\n",
    "plt.show()"
   ]
  },
  {
   "cell_type": "markdown",
   "metadata": {},
   "source": [
    "## Neural Networks"
   ]
  },
  {
   "cell_type": "code",
   "execution_count": 3,
   "metadata": {
    "collapsed": true
   },
   "outputs": [],
   "source": [
    "def keras_model(n_features, n_layer1, n_layer2):\n",
    "    model = Sequential()\n",
    "    \n",
    "    model.add(Dense(input_dim=n_features, output_dim=n_layer1, init='glorot_uniform', activation='relu'))\n",
    "    model.add(Dropout(0.5))\n",
    "    #model.add(BatchNormalization())\n",
    "    \n",
    "    model.add(Dense(input_dim=n_features, output_dim=n_layer2, init='glorot_uniform', activation='relu'))\n",
    "    model.add(Dropout(0.5))\n",
    "    #model.add(BatchNormalization())\n",
    "    \n",
    "    model.add(Dense(output_dim=1, activation='softplus'))\n",
    "    \n",
    "    model.compile(loss='poisson', optimizer='rmsprop')\n",
    "    return model"
   ]
  },
  {
   "cell_type": "code",
   "execution_count": 15,
   "metadata": {
    "collapsed": false
   },
   "outputs": [
    {
     "name": "stderr",
     "output_type": "stream",
     "text": [
      "WARNING (theano.gof.compilelock): Overriding existing lock by dead process '3020' (I am process '783')\n"
     ]
    }
   ],
   "source": [
    "nn = keras_model(n_features, 1980, 18)"
   ]
  },
  {
   "cell_type": "code",
   "execution_count": 74,
   "metadata": {
    "collapsed": false
   },
   "outputs": [
    {
     "name": "stdout",
     "output_type": "stream",
     "text": [
      "Epoch 1/10\n",
      "800/800 [==============================] - 0s - loss: -8.6667     \n",
      "Epoch 2/10\n",
      "800/800 [==============================] - 0s - loss: -14.4480     \n",
      "Epoch 3/10\n",
      "800/800 [==============================] - 0s - loss: -17.1454     \n",
      "Epoch 4/10\n",
      "800/800 [==============================] - 0s - loss: -17.8227     \n",
      "Epoch 5/10\n",
      "800/800 [==============================] - 0s - loss: -17.9667     \n",
      "Epoch 6/10\n",
      "800/800 [==============================] - 0s - loss: -18.3855     \n",
      "Epoch 7/10\n",
      "800/800 [==============================] - 0s - loss: -18.3902     \n",
      "Epoch 8/10\n",
      "800/800 [==============================] - 0s - loss: -18.3702     \n",
      "Epoch 9/10\n",
      "800/800 [==============================] - 0s - loss: -18.4107     \n",
      "Epoch 10/10\n",
      "800/800 [==============================] - 0s - loss: -18.3486     \n"
     ]
    },
    {
     "data": {
      "text/plain": [
       "<keras.callbacks.History at 0x1212319b0>"
      ]
     },
     "execution_count": 74,
     "metadata": {},
     "output_type": "execute_result"
    }
   ],
   "source": [
    "nn.fit(X_train, y_train, nb_epoch=10, batch_size=32)"
   ]
  },
  {
   "cell_type": "code",
   "execution_count": 75,
   "metadata": {
    "collapsed": true
   },
   "outputs": [],
   "source": [
    "y_train_hat = nn.predict(X_train)\n",
    "y_test_hat = nn.predict(X_test)"
   ]
  },
  {
   "cell_type": "code",
   "execution_count": 4,
   "metadata": {
    "collapsed": true
   },
   "outputs": [],
   "source": [
    "def poisson_pseudoR2(y, yhat, ynull):\n",
    "    yhat = np.squeeze(yhat)\n",
    "    eps = np.spacing(1)\n",
    "    L1 = np.sum(y * np.log(eps + yhat) - yhat)\n",
    "    L0 = np.sum(y * np.log(eps + ynull) - ynull)\n",
    "    LS = np.sum(y * np.log(eps + y) - y)\n",
    "    R2 = 1 -(LS - L1) / (LS - L0)\n",
    "    return R2"
   ]
  },
  {
   "cell_type": "code",
   "execution_count": 77,
   "metadata": {
    "collapsed": false
   },
   "outputs": [
    {
     "name": "stdout",
     "output_type": "stream",
     "text": [
      "0.963148038445 0.948162734057\n"
     ]
    }
   ],
   "source": [
    "nn_r2_train = poisson_pseudoR2(y_train, np.squeeze(y_train_hat), np.mean(y_train))\n",
    "nn_r2_test = poisson_pseudoR2(y_test, np.squeeze(y_test_hat), np.mean(y_train))\n",
    "print(nn_r2_train, nn_r2_test)"
   ]
  },
  {
   "cell_type": "code",
   "execution_count": 78,
   "metadata": {
    "collapsed": false
   },
   "outputs": [
    {
     "data": {
      "image/png": "[encoded data removed]",
      "text/plain": [
       "<matplotlib.figure.Figure at 0x117c173c8>"
      ]
     },
     "metadata": {},
     "output_type": "display_data"
    }
   ],
   "source": [
    "plt.plot(y_test, y_test_hat, 'bo', alpha=0.2)\n",
    "plt.show()"
   ]
  },
  {
   "cell_type": "markdown",
   "metadata": {
    "collapsed": true
   },
   "source": [
    "### Simulate with current convenience functions"
   ]
  },
  {
   "cell_type": "code",
   "execution_count": 5,
   "metadata": {
    "collapsed": true
   },
   "outputs": [],
   "source": [
    "from sklearn.cross_validation import KFold\n",
    "\n",
    "def glm_pyglmnet(Xr, Yr, Xt):\n",
    "    glm = GLM(distr='softplus',\n",
    "          alpha=0.1,\n",
    "          tol=1e-8,\n",
    "          reg_lambda=np.logspace(np.log(0.5), np.log(0.01), 10, base=np.exp(1)),\n",
    "          learning_rate=0.01,\n",
    "          solver='batch-gradient',\n",
    "          max_iter=10000,\n",
    "          random_state=1,\n",
    "          score_metric='pseudo_R2')\n",
    "    \n",
    "    glm.fit(Xr, Yr)\n",
    "    Yt = glm[-1].predict(Xt)\n",
    "    \n",
    "    return Yt\n",
    "\n",
    "def fit_cv(X, Y, algorithm = 'glm_pyglmnet', n_cv=10, verbose=1, label=[],func=None):\n",
    "\n",
    "    if np.ndim(X)==1:\n",
    "        X = np.transpose(np.atleast_2d(X))\n",
    "\n",
    "    if len(label)>0:\n",
    "        skf  = LabelKFold(np.squeeze(label), n_folds=n_cv)\n",
    "    else:\n",
    "        skf  = KFold(n=np.size(Y), n_folds=n_cv, shuffle=True, random_state=42)\n",
    "\n",
    "    i=1\n",
    "    Y_hat=np.zeros(len(Y))\n",
    "    pR2_cv = list()\n",
    "    for idx_r, idx_t in skf:\n",
    "        if verbose > 1:\n",
    "            print( '...runnning cv-fold', i, 'of', n_cv)\n",
    "        i+=1\n",
    "        Xr = X[idx_r, :]\n",
    "        Yr = Y[idx_r]\n",
    "        Xt = X[idx_t, :]\n",
    "        Yt = Y[idx_t]\n",
    "\n",
    "        if func:\n",
    "            Yt_hat = func(Xr, Yr, Xt)\n",
    "        else:\n",
    "            Yt_hat = eval(algorithm)(Xr, Yr, Xt)\n",
    "        Y_hat[idx_t] = Yt_hat\n",
    "\n",
    "        pR2 = poisson_pseudoR2(Yt, Yt_hat, np.mean(Yr))\n",
    "        pR2_cv.append(pR2)\n",
    "\n",
    "        if verbose > 1:\n",
    "            print( 'pR2: ', pR2)\n",
    "\n",
    "    if verbose > 2:\n",
    "        print(\"Mean y: \"+str(np.mean(Y))+\", mean yhat: \"+str(np.mean(Y_hat)))\n",
    "    if verbose > 0:\n",
    "        print(\"pR2_cv: %0.6f (+/- %0.6f)\" % (np.mean(pR2_cv),\n",
    "                                     np.std(pR2_cv)/np.sqrt(n_cv)))\n",
    "\n",
    "    \n",
    "    return Y_hat, pR2_cv"
   ]
  },
  {
   "cell_type": "code",
   "execution_count": 6,
   "metadata": {
    "collapsed": true
   },
   "outputs": [],
   "source": [
    "## the neural net from above\n",
    "def nn_eval(Xr, Yr, Xt):\n",
    "    if np.ndim(Xr)==1:\n",
    "        Xr = np.transpose(np.atleast_2d(Xr))\n",
    "\n",
    "    hist = nn.fit(X_train, y_train, nb_epoch=10, batch_size=32,verbose=0)\n",
    "    result = nn.predict_proba(Xt)\n",
    "    return result[:,0]\n"
   ]
  },
  {
   "cell_type": "code",
   "execution_count": 35,
   "metadata": {
    "collapsed": false
   },
   "outputs": [
    {
     "name": "stdout",
     "output_type": "stream",
     "text": [
      "...runnning cv-fold 1 of 5\n",
      " 32/200 [===>..........................] - ETA: 0spR2:  0.93652332524\n",
      "...runnning cv-fold 2 of 5\n"
     ]
    },
    {
     "name": "stderr",
     "output_type": "stream",
     "text": [
      "//anaconda/lib/python3.5/site-packages/Keras-1.1.0-py3.5.egg/keras/models.py:760: UserWarning: Network returning invalid probability values. The last layer might not normalize predictions into probabilities (like softmax or sigmoid would).\n",
      "  warnings.warn('Network returning invalid probability values. '\n"
     ]
    },
    {
     "name": "stdout",
     "output_type": "stream",
     "text": [
      " 32/200 [===>..........................] - ETA: 0spR2:  0.980601330616\n",
      "...runnning cv-fold 3 of 5\n",
      " 32/200 [===>..........................] - ETA: 0spR2:  0.979704993713\n",
      "...runnning cv-fold 4 of 5\n",
      " 32/200 [===>..........................] - ETA: 0spR2:  0.982490283785\n",
      "...runnning cv-fold 5 of 5\n",
      " 32/200 [===>..........................] - ETA: 0spR2:  0.985956707142\n",
      "pR2_cv: 0.973055 (+/- 0.008225)\n"
     ]
    }
   ],
   "source": [
    "\n",
    "YThat, PR2 = fit_cv(X, y, algorithm = 'nn_eval', n_cv=5, verbose=2, label=[])"
   ]
  },
  {
   "cell_type": "markdown",
   "metadata": {},
   "source": [
    "Same result. Perhaps the error is with the current neural net parameters?"
   ]
  },
  {
   "cell_type": "code",
   "execution_count": 26,
   "metadata": {
    "collapsed": true
   },
   "outputs": [],
   "source": [
    "from keras.optimizers import Nadam\n",
    "from keras.layers.advanced_activations import ParametricSoftplus\n",
    "from keras.regularizers import l1l2\n",
    "\n",
    "def build_nn(params):\n",
    "    \n",
    "    params['n1']=int(params['n1'])\n",
    "    params['n2']=int(params['n2'])\n",
    "    params['nb']=int(params['nb'])\n",
    "    params['dropout']=float(params['dropout'])\n",
    "    params['l1'],params['l2'] = float(params['l1']),float(params['l2'])\n",
    "    \n",
    "    def nn_new(Xr, Yr, Xt):\n",
    "\n",
    "        model = Sequential()\n",
    "\n",
    "        model.add(Dense(input_dim=np.shape(Xr)[1], output_dim=params['n1'], init='glorot_uniform', activation='relu'))\n",
    "        model.add(Dropout(params['dropout']))\n",
    "        #model.add(BatchNormalization())\n",
    "\n",
    "        model.add(Dense(input_dim=np.shape(Xr)[1], output_dim=params['n2'], init='glorot_uniform', activation='relu'))\n",
    "        model.add(Dropout(params['dropout']))\n",
    "        #model.add(BatchNormalization())\n",
    "\n",
    "        model.add(Dense(output_dim=1, activation='softplus'))\n",
    "\n",
    "        model.compile(loss='poisson', optimizer='rmsprop')\n",
    "        hist = model.fit(Xr, Yr, batch_size = 32, nb_epoch=params['nb'], verbose=0, validation_split=0.0)\n",
    "        result = model.predict(Xt)\n",
    "        return result[:,0]\n",
    "\n",
    "    return nn_new"
   ]
  },
  {
   "cell_type": "code",
   "execution_count": null,
   "metadata": {
    "collapsed": true
   },
   "outputs": [],
   "source": [
    "def keras_model(n_features, n_layer1, n_layer2):\n",
    "    model = Sequential()\n",
    "    \n",
    "    model.add(Dense(input_dim=n_features, output_dim=n_layer1, init='glorot_uniform', activation='relu'))\n",
    "    model.add(Dropout(0.5))\n",
    "    #model.add(BatchNormalization())\n",
    "    \n",
    "    model.add(Dense(input_dim=n_features, output_dim=n_layer2, init='glorot_uniform', activation='relu'))\n",
    "    model.add(Dropout(0.5))\n",
    "    #model.add(BatchNormalization())\n",
    "    \n",
    "    model.add(Dense(output_dim=1, activation='softplus'))\n",
    "    \n",
    "    model.compile(loss='poisson', optimizer='rmsprop')\n",
    "    return model"
   ]
  },
  {
   "cell_type": "code",
   "execution_count": 27,
   "metadata": {
    "collapsed": true
   },
   "outputs": [],
   "source": [
    "params = {'dropout': 0.5,\n",
    "  'l1': 0.0,\n",
    "  'l2': 0.0,\n",
    "  'n1': 1980,\n",
    "  'n2': 18,\n",
    "  'nb': 10}\n",
    "nn_orig = build_nn(params)\n"
   ]
  },
  {
   "cell_type": "code",
   "execution_count": 15,
   "metadata": {
    "collapsed": false
   },
   "outputs": [
    {
     "ename": "NameError",
     "evalue": "name 'X' is not defined",
     "output_type": "error",
     "traceback": [
      "\u001b[0;31m---------------------------------------------------------------------------\u001b[0m",
      "\u001b[0;31mNameError\u001b[0m                                 Traceback (most recent call last)",
      "\u001b[0;32m<ipython-input-15-94d4c2ef8518>\u001b[0m in \u001b[0;36m<module>\u001b[0;34m()\u001b[0m\n\u001b[0;32m----> 1\u001b[0;31m \u001b[0mYThat\u001b[0m\u001b[0;34m,\u001b[0m \u001b[0mPR2\u001b[0m \u001b[0;34m=\u001b[0m \u001b[0mfit_cv\u001b[0m\u001b[0;34m(\u001b[0m\u001b[0mX\u001b[0m\u001b[0;34m,\u001b[0m \u001b[0my\u001b[0m\u001b[0;34m,\u001b[0m \u001b[0malgorithm\u001b[0m \u001b[0;34m=\u001b[0m \u001b[0;34m'nn_orig'\u001b[0m\u001b[0;34m,\u001b[0m \u001b[0mn_cv\u001b[0m\u001b[0;34m=\u001b[0m\u001b[0;36m5\u001b[0m\u001b[0;34m,\u001b[0m \u001b[0mverbose\u001b[0m\u001b[0;34m=\u001b[0m\u001b[0;36m2\u001b[0m\u001b[0;34m,\u001b[0m \u001b[0mlabel\u001b[0m\u001b[0;34m=\u001b[0m\u001b[0;34m[\u001b[0m\u001b[0;34m]\u001b[0m\u001b[0;34m)\u001b[0m\u001b[0;34m\u001b[0m\u001b[0m\n\u001b[0m",
      "\u001b[0;31mNameError\u001b[0m: name 'X' is not defined"
     ]
    }
   ],
   "source": [
    "YThat, PR2 = fit_cv(X, y, algorithm = 'nn_orig', n_cv=5, verbose=2, label=[])"
   ]
  },
  {
   "cell_type": "markdown",
   "metadata": {},
   "source": [
    "It looks like there's no bug here: comparable results with the current neural net. Perhaps the discrepancy arises with data scaling?"
   ]
  },
  {
   "cell_type": "markdown",
   "metadata": {},
   "source": [
    "### Simulate as before\n",
    "\n",
    "First with 1000 x 10 data, like above."
   ]
  },
  {
   "cell_type": "markdown",
   "metadata": {},
   "source": [
    "This seems to be it. Let's plot the difference in pR2 vs effect size:"
   ]
  },
  {
   "cell_type": "code",
   "execution_count": 139,
   "metadata": {
    "collapsed": false
   },
   "outputs": [
    {
     "name": "stdout",
     "output_type": "stream",
     "text": [
      "0.0 -3.5751554623e-05 -0.0053242621566\n",
      "0.1 1.30913982643e-06 0.00419017342012\n",
      "0.2 -8.88444801837e-05 -0.00561168715985\n",
      "0.3 0.000161427115987 -0.00356905903534\n",
      "0.4 0.0333203948449 0.0680589474229\n",
      "0.5 0.132097838327 0.1617057115\n",
      "0.6 0.141329878754 0.164117135104\n",
      "0.7 0.00203412879277 -0.00182277404765\n",
      "0.8 0.350219965621 0.349532604699\n",
      "0.9 0.310355077715 0.347458281953\n",
      "1.0 0.417486767686 0.458801842774\n",
      "1.1 0.190313945687 0.20078909702\n",
      "1.2 0.3624746764 0.403111718939\n",
      "1.3 0.00331149447182 -0.00593608275881\n",
      "1.4 0.559192951736 0.585342773517\n",
      "1.5 0.56216652377 0.570601012557\n",
      "1.6 0.52971749791 0.545844543901\n",
      "1.7 0.541315838945 0.551435212019\n",
      "1.8 0.212200181476 0.385312973222\n",
      "1.9 0.142661789763 0.145255662899\n"
     ]
    }
   ],
   "source": [
    "effects  = np.arange(0,2,0.1)\n",
    "nn_p=list()\n",
    "glm_p= list()\n",
    "for e in effects:\n",
    "    beta0, beta, X, y = simulate_data(n_samples, n_features, scale_min, scale_max, density, e)\n",
    "    np.mean(y)\n",
    "    YThat, PR2_nn = fit_cv(X, y, algorithm = 'nn_orig', n_cv=8, verbose=0, label=[])\n",
    "    YThat, PR2 = fit_cv(X, y, algorithm = 'glm_pyglmnet', n_cv=8, verbose=0, label=[])\n",
    "    print(e, np.mean(PR2), np.mean(PR2_nn))\n",
    "    nn_p.append(PR2_nn)\n",
    "    glm_p.append(PR2)"
   ]
  },
  {
   "cell_type": "code",
   "execution_count": 122,
   "metadata": {
    "collapsed": false
   },
   "outputs": [
    {
     "data": {
      "text/plain": [
       "0.68899999999999995"
      ]
     },
     "execution_count": 122,
     "metadata": {},
     "output_type": "execute_result"
    }
   ],
   "source": [
    "beta0, beta, X, y = simulate_data(n_samples, n_features, scale_min, scale_max, density, 0)\n",
    "np.mean(y)"
   ]
  },
  {
   "cell_type": "code",
   "execution_count": 124,
   "metadata": {
    "collapsed": false
   },
   "outputs": [
    {
     "data": {
      "text/plain": [
       "1.6487212707001282"
      ]
     },
     "execution_count": 124,
     "metadata": {},
     "output_type": "execute_result"
    }
   ],
   "source": [
    "np.exp()"
   ]
  },
  {
   "cell_type": "code",
   "execution_count": 134,
   "metadata": {
    "collapsed": false
   },
   "outputs": [
    {
     "data": {
      "image/png": "[encoded data removed]",
      "text/plain": [
       "<matplotlib.figure.Figure at 0x11f713be0>"
      ]
     },
     "metadata": {},
     "output_type": "display_data"
    }
   ],
   "source": [
    "sn = np.sqrt(5)\n",
    "yy = np.mean(np.array(nn_p), axis=1)-np.mean(np.array(glm_p), axis=1)\n",
    "# error propogated from CV variance of both methods\n",
    "yerr = np.sqrt(np.std(np.array(nn_p), axis=1)**2+np.std(np.array(glm_p), axis=1)**2)\n",
    "\n",
    "p1,c,b=plt.errorbar(effects[:len(yy)], yy, yerr = yerr , alpha=1,color='#EF3E34')\n",
    "plt.grid()\n",
    "plt.xlabel('Effect Size',fontsize=16)\n",
    "plt.ylabel('Relatve pR2 (NN-GLM)',fontsize=16)\n",
    "plt.show()"
   ]
  },
  {
   "cell_type": "code",
   "execution_count": 135,
   "metadata": {
    "collapsed": false
   },
   "outputs": [
    {
     "data": {
      "text/plain": [
       "array([ -2.13097504e-04,   9.01953362e-05,  -7.15526971e-05,\n",
       "        -1.74662502e-04,  -4.11804541e-02,  -1.94974842e-04,\n",
       "        -5.35556227e-04,   3.51125542e-03,  -1.70296095e-04])"
      ]
     },
     "execution_count": 135,
     "metadata": {},
     "output_type": "execute_result"
    }
   ],
   "source": [
    "np.mean(nn_p,axis=1)"
   ]
  },
  {
   "cell_type": "code",
   "execution_count": 136,
   "metadata": {
    "collapsed": false
   },
   "outputs": [
    {
     "data": {
      "text/plain": [
       "array([ -2.98241501e-05,   1.94513946e-05,  -5.90298394e-05,\n",
       "        -1.47023339e-05,  -5.17242600e-06,   2.18669639e-05,\n",
       "        -4.01452849e-05,   7.88373000e-06,   1.54675193e-05])"
      ]
     },
     "execution_count": 136,
     "metadata": {},
     "output_type": "execute_result"
    }
   ],
   "source": [
    "np.mean(glm_p,axis=1)"
   ]
  },
  {
   "cell_type": "markdown",
   "metadata": {
    "collapsed": true
   },
   "source": [
    "## Plot NN vs. GLM on simulated data"
   ]
  },
  {
   "cell_type": "markdown",
   "metadata": {},
   "source": [
    "Get input data"
   ]
  },
  {
   "cell_type": "code",
   "execution_count": 37,
   "metadata": {
    "collapsed": false
   },
   "outputs": [],
   "source": [
    "def get_data(nn=0):\n",
    "    math_ = scipy.io.loadmat('../../data/s1_ari_proc.mat')\n",
    "    \n",
    "    data = pd.DataFrame()\n",
    "    data['time'] =  math_['time'][0]\n",
    "    data['handPos_x'] =  math_['handPos'][0] - np.mean(math_['handPos'][0])\n",
    "    data['handPos_y'] =  math_['handPos'][1] - np.mean(math_['handPos'][1])\n",
    "    data['handVel_x'] =  math_['handVel'][0]\n",
    "    data['handVel_y'] =  math_['handVel'][1]\n",
    "    data['handAcc_x'] =  math_['handAcc'][0]\n",
    "    data['handAcc_y'] =  math_['handAcc'][1]\n",
    "    \n",
    "    data['velDir'] = np.arctan2(data['handVel_y'], data['handVel_x'])\n",
    "    data['cos_velDir'] = np.cos(data['velDir'])\n",
    "    data['sin_velDir'] = np.sin(data['velDir'])\n",
    "    data['speed'] = np.sqrt(data['handVel_x'].values**2+data['handVel_y'].values**2)\n",
    "    r = np.arctan2(data['handPos_y'], data['handPos_x'])\n",
    "    data['PosDir'] = r\n",
    "    data['cos_PosDir'] = np.cos(r)\n",
    "    data['sin_PosDir'] = np.sin(r)\n",
    "    data['radial_Pos'] = np.sqrt(data['handPos_x'].values**2+data['handPos_y'].values**2)\n",
    "    neuron_n = nn\n",
    "    y = math_['spikes'][neuron_n]\n",
    "    \n",
    "    #X= data.drop(['time','velDir','PosDir','handPos_x','handPos_y','handVel_x','handVel_y'], axis=1).values\n",
    "    X = data[['handPos_x','handPos_y','handVel_x','handVel_y']].values\n",
    "    \n",
    "    return X, y"
   ]
  },
  {
   "cell_type": "code",
   "execution_count": 17,
   "metadata": {
    "collapsed": false
   },
   "outputs": [
    {
     "name": "stderr",
     "output_type": "stream",
     "text": [
      "//anaconda/lib/python3.5/site-packages/rpy2/rinterface/__init__.py:185: RRuntimeWarning: Loading required package: Matrix\n",
      "\n",
      "  warnings.warn(x, RRuntimeWarning)\n",
      "//anaconda/lib/python3.5/site-packages/rpy2/rinterface/__init__.py:185: RRuntimeWarning: Loading required package: foreach\n",
      "\n",
      "  warnings.warn(x, RRuntimeWarning)\n",
      "//anaconda/lib/python3.5/site-packages/rpy2/rinterface/__init__.py:185: RRuntimeWarning: foreach: simple, scalable parallel programming from Revolution Analytics\n",
      "Use Revolution R for scalability, fault tolerance and more.\n",
      "http://www.revolutionanalytics.com\n",
      "\n",
      "  warnings.warn(x, RRuntimeWarning)\n",
      "//anaconda/lib/python3.5/site-packages/rpy2/rinterface/__init__.py:185: RRuntimeWarning: Loaded glmnet 2.0-5\n",
      "\n",
      "\n",
      "  warnings.warn(x, RRuntimeWarning)\n"
     ]
    }
   ],
   "source": [
    "# Get coeffiecients from actual data. First import R\n",
    "\n",
    "import rpy2.robjects as ro\n",
    "import rpy2.robjects.numpy2ri as n2r\n",
    "n2r.activate()\n",
    "\n",
    "r = ro.r\n",
    "r.library('glmnet');"
   ]
  },
  {
   "cell_type": "code",
   "execution_count": 10,
   "metadata": {
    "collapsed": true
   },
   "outputs": [],
   "source": [
    "params = {'dropout': 0.5,\n",
    "  'l1': 0.0,\n",
    "  'l2': 0.0,\n",
    "  'n1': 1980,\n",
    "  'n2': 18,\n",
    "  'nb': 5}\n",
    "nn_orig = build_nn(params)\n",
    "\n",
    "def glm_pyglmnet(Xr, Yr, Xt):\n",
    "    glm = GLM(distr='softplus',\n",
    "          alpha=0.1,\n",
    "          tol=1e-8,\n",
    "          reg_lambda=np.logspace(np.log(0.5), np.log(0.001), 10, base=np.exp(1)),\n",
    "          learning_rate=0.01,\n",
    "          solver='batch-gradient',\n",
    "          max_iter=10000,\n",
    "          random_state=1,\n",
    "          score_metric='pseudo_R2')\n",
    "    \n",
    "    glm.fit(Xr, Yr)\n",
    "    Yt = glm[-1].predict(Xt)\n",
    "    \n",
    "    return Yt\n",
    "\n",
    "\n",
    "def r_glmnet(Xr,Yr,Xt):\n",
    "    yr = ro.FloatVector(Yr) # use factors\n",
    "    trained_model = r['glmnet'](Xr, yr, family=\"poisson\",alpha = 0.1)\n",
    "    lambda_min = np.asanyarray(trained_model.rx2('lambda'))[-1]\n",
    "    Yt = r['predict'](trained_model,s=lambda_min,newx=Xt,type=\"response\")\n",
    "    betas = np.asanyarray(r['as.matrix'](trained_model.rx2('beta')))[:,-1]\n",
    "    beta0 = np.asanyarray(r['as.matrix'](trained_model.rx2('a0')))[-1]\n",
    "    return np.array(list(Yt))"
   ]
  },
  {
   "cell_type": "code",
   "execution_count": 44,
   "metadata": {
    "collapsed": false
   },
   "outputs": [
    {
     "name": "stdout",
     "output_type": "stream",
     "text": [
      "pR2_cv: 0.001588 (+/- 0.000250)\n",
      "pR2_cv: -0.000045 (+/- 0.000212)\n",
      "0.00158835159107 -4.54715438166e-05\n",
      "pR2_cv: 0.003315 (+/- 0.000464)\n",
      "pR2_cv: -0.002076 (+/- 0.001048)\n",
      "0.00331488067119 -0.00207582820257\n",
      "pR2_cv: 0.001423 (+/- 0.000187)\n",
      "pR2_cv: 0.000067 (+/- 0.000116)\n",
      "0.00142334760633 6.66214582344e-05\n",
      "pR2_cv: 0.003304 (+/- 0.000368)\n",
      "pR2_cv: 0.001342 (+/- 0.000480)\n",
      "0.0033044718691 0.00134187348115\n",
      "pR2_cv: 0.011665 (+/- 0.000525)\n",
      "pR2_cv: 0.002527 (+/- 0.000938)\n",
      "0.0116646390464 0.00252674742917\n",
      "pR2_cv: 0.000239 (+/- 0.000121)\n",
      "pR2_cv: -0.000035 (+/- 0.000033)\n",
      "0.000238774625808 -3.47131677338e-05\n",
      "pR2_cv: 0.002672 (+/- 0.000270)\n",
      "pR2_cv: 0.000386 (+/- 0.000371)\n",
      "0.00267175256276 0.000385617907121\n",
      "pR2_cv: 0.006619 (+/- 0.000535)\n",
      "pR2_cv: 0.001553 (+/- 0.001033)\n",
      "0.00661932094367 0.00155294967527\n",
      "pR2_cv: 0.002266 (+/- 0.000289)\n",
      "pR2_cv: 0.000030 (+/- 0.000082)\n",
      "0.00226625524579 3.00545594419e-05\n",
      "pR2_cv: 0.024177 (+/- 0.000846)\n",
      "pR2_cv: 0.007273 (+/- 0.002392)\n",
      "0.0241774706293 0.0072728765476\n",
      "pR2_cv: 0.002280 (+/- 0.000306)\n",
      "pR2_cv: 0.000298 (+/- 0.000229)\n",
      "0.0022801606298 0.000297674934457\n",
      "pR2_cv: 0.004002 (+/- 0.000360)\n",
      "pR2_cv: -0.005482 (+/- 0.002336)\n",
      "0.00400232114836 -0.00548167582636\n",
      "pR2_cv: 0.014414 (+/- 0.000983)\n",
      "pR2_cv: 0.000360 (+/- 0.003229)\n",
      "0.0144139393189 0.000360067447497\n",
      "pR2_cv: 0.004067 (+/- 0.000587)\n",
      "pR2_cv: -0.000602 (+/- 0.000908)\n",
      "0.00406742352218 -0.000602001357285\n",
      "pR2_cv: 0.001866 (+/- 0.000277)\n",
      "pR2_cv: 0.000041 (+/- 0.000080)\n",
      "0.00186638984814 4.12219195825e-05\n",
      "pR2_cv: 0.004946 (+/- 0.001019)\n",
      "pR2_cv: -0.008439 (+/- 0.003270)\n",
      "0.00494575940979 -0.00843921616776\n",
      "pR2_cv: 0.009759 (+/- 0.001423)\n",
      "pR2_cv: -0.028186 (+/- 0.014564)\n",
      "0.00975943314239 -0.0281860672754\n",
      "pR2_cv: 0.001092 (+/- 0.000177)\n",
      "pR2_cv: -0.000792 (+/- 0.000785)\n",
      "0.0010921846345 -0.000791606564399\n",
      "pR2_cv: 0.004746 (+/- 0.000883)\n",
      "pR2_cv: -0.007043 (+/- 0.001821)\n",
      "0.00474628728039 -0.00704300243299\n",
      "pR2_cv: 0.009173 (+/- 0.000729)\n",
      "pR2_cv: -0.002146 (+/- 0.003756)\n",
      "0.00917286844869 -0.00214632336776\n",
      "pR2_cv: -0.000103 (+/- 0.000085)\n",
      "pR2_cv: 0.000082 (+/- 0.000072)\n",
      "-0.00010341764961 8.17425361287e-05\n",
      "pR2_cv: 0.004455 (+/- 0.000457)\n",
      "pR2_cv: -0.007886 (+/- 0.003294)\n",
      "0.00445533413435 -0.00788639615821\n",
      "pR2_cv: 0.015528 (+/- 0.001655)\n",
      "pR2_cv: -0.003315 (+/- 0.002064)\n",
      "0.015528010771 -0.00331532480476\n",
      "pR2_cv: 0.001475 (+/- 0.000348)\n",
      "pR2_cv: 0.000006 (+/- 0.000032)\n",
      "0.00147451923986 6.32266630601e-06\n",
      "pR2_cv: 0.017643 (+/- 0.001752)\n",
      "pR2_cv: 0.003052 (+/- 0.001711)\n",
      "0.0176430438967 0.00305244700298\n",
      "pR2_cv: 0.014199 (+/- 0.001126)\n",
      "pR2_cv: -0.010440 (+/- 0.005501)\n",
      "0.0141988339931 -0.0104399642105\n",
      "pR2_cv: -0.000872 (+/- 0.001033)\n",
      "pR2_cv: -2.747968 (+/- 1.094743)\n",
      "-0.000872122201584 -2.74796770948\n",
      "pR2_cv: 0.003690 (+/- 0.000450)\n",
      "pR2_cv: -0.000371 (+/- 0.000973)\n",
      "0.00369003609245 -0.000370799970229\n",
      "pR2_cv: 0.004278 (+/- 0.000361)\n",
      "pR2_cv: -0.000586 (+/- 0.000789)\n",
      "0.00427810891898 -0.000586491093614\n",
      "pR2_cv: 0.001485 (+/- 0.000362)\n",
      "pR2_cv: -0.001891 (+/- 0.001356)\n",
      "0.0014847210165 -0.00189111096639\n",
      "pR2_cv: 0.014783 (+/- 0.001282)\n",
      "pR2_cv: 0.005446 (+/- 0.001049)\n",
      "0.0147833562396 0.00544556342495\n",
      "pR2_cv: 0.001307 (+/- 0.000353)\n",
      "pR2_cv: -0.015155 (+/- 0.008053)\n",
      "0.00130667698963 -0.0151545833918\n",
      "pR2_cv: 0.001108 (+/- 0.000322)\n",
      "pR2_cv: -0.002793 (+/- 0.001111)\n",
      "0.00110803187921 -0.00279291262547\n",
      "pR2_cv: 0.004439 (+/- 0.001675)\n",
      "pR2_cv: -6.424578 (+/- 0.048595)\n",
      "0.00443906306617 -6.42457785503\n",
      "pR2_cv: 0.006934 (+/- 0.000373)\n",
      "pR2_cv: 0.001394 (+/- 0.000732)\n",
      "0.00693360097462 0.00139444404951\n",
      "pR2_cv: 0.000231 (+/- 0.000266)\n",
      "pR2_cv: -0.003384 (+/- 0.001679)\n",
      "0.000230599383298 -0.00338377623253\n",
      "pR2_cv: 0.002175 (+/- 0.000726)\n",
      "pR2_cv: -0.009647 (+/- 0.004926)\n",
      "0.00217529613445 -0.00964743863462\n",
      "pR2_cv: 0.001466 (+/- 0.000172)\n",
      "pR2_cv: -0.003007 (+/- 0.001426)\n",
      "0.00146566389511 -0.00300654388837\n",
      "pR2_cv: 0.008879 (+/- 0.002221)\n",
      "pR2_cv: -6.107756 (+/- 0.046357)\n",
      "0.00887852946265 -6.10775569713\n",
      "pR2_cv: 0.005573 (+/- 0.000945)\n",
      "pR2_cv: -0.010731 (+/- 0.003046)\n",
      "0.00557341764181 -0.0107312295532\n",
      "pR2_cv: 0.002233 (+/- 0.000409)\n",
      "pR2_cv: -0.013544 (+/- 0.005124)\n",
      "0.00223280755522 -0.0135442549396\n",
      "pR2_cv: 0.002142 (+/- 0.000571)\n",
      "pR2_cv: -0.002469 (+/- 0.001525)\n",
      "0.00214209836425 -0.0024689681695\n"
     ]
    }
   ],
   "source": [
    "start = 10\n",
    "nneurons = np.shape(y)[0]\n",
    "\n",
    "if not start:\n",
    "\n",
    "    nn_p=list()\n",
    "    glm_p= list()\n",
    "\n",
    "for i in range(start,52):\n",
    "    \n",
    "    \n",
    "\n",
    "    X,y = get_data(i)\n",
    "    Xr, Xt, Yr, Yt = train_test_split(X, y, random_state=42, test_size=0.2)\n",
    "\n",
    "    # Get R's coefficients (still don't trust pyglmnet)\n",
    "    yr = ro.FloatVector(Yr) # use factors\n",
    "    trained_model = r['glmnet'](Xr, yr, family=\"poisson\",alpha = 0.1)\n",
    "    lambda_min = np.asanyarray(trained_model.rx2('lambda'))[-1]\n",
    "    Yt = r['predict'](trained_model,s=lambda_min,newx=Xt,type=\"response\")\n",
    "    betas = np.asanyarray(r['as.matrix'](trained_model.rx2('beta')))[:,-1]\n",
    "    beta0 = np.asanyarray(r['as.matrix'](trained_model.rx2('a0')))[-1]\n",
    "\n",
    "    # Simulate\n",
    "    glm_simulator = GLM(distr='softplus')\n",
    "    y_sim = glm_simulator.simulate(beta0, betas, X)\n",
    "    \n",
    "    # Fit to data\n",
    "    YThat, PR2 = fit_cv(X, y_sim, algorithm = 'r_glmnet', n_cv=8, verbose=1, label=[])\n",
    "\n",
    "    YThat, PR2_nn = fit_cv(X, y_sim, algorithm = 'nn_orig', n_cv=8, verbose=1, label=[])\n",
    "    print(np.mean(PR2), np.mean(PR2_nn))\n",
    "    nn_p.append(PR2_nn)\n",
    "    glm_p.append(PR2)\n"
   ]
  },
  {
   "cell_type": "code",
   "execution_count": 52,
   "metadata": {
    "collapsed": false
   },
   "outputs": [
    {
     "data": {
      "image/png": "[encoded data removed]",
      "text/plain": [
       "<matplotlib.figure.Figure at 0x129e189e8>"
      ]
     },
     "metadata": {},
     "output_type": "display_data"
    }
   ],
   "source": [
    "plt.scatter(np.mean(glm_p,axis=1),np.mean(nn_p,axis=1))\n",
    "plt.plot([-.1,.2],[-.1,.2],':')\n",
    "#plt.axis([-0.05,.05,-.05,.05])\n",
    "plt.xlabel('GLM pR2')\n",
    "plt.ylabel('NN pR2')\n",
    "plt.show()"
   ]
  },
  {
   "cell_type": "code",
   "execution_count": null,
   "metadata": {
    "collapsed": true
   },
   "outputs": [],
   "source": []
  },
  {
   "cell_type": "code",
   "execution_count": 30,
   "metadata": {
    "collapsed": true
   },
   "outputs": [],
   "source": [
    "X,y = get_data(29)\n",
    "Xr, Xt, Yr, Yt = train_test_split(X, y, random_state=42, test_size=0.2)\n",
    "\n",
    "# Get R's coefficients (still don't trust pyglmnet)\n",
    "yr = ro.FloatVector(Yr) # use factors\n",
    "trained_model = r['glmnet'](Xr, yr, family=\"poisson\",alpha = 0.1)\n",
    "lambda_min = np.asanyarray(trained_model.rx2('lambda'))[-1]\n",
    "Yt = r['predict'](trained_model,s=lambda_min,newx=Xt,type=\"response\")\n",
    "betas = np.asanyarray(r['as.matrix'](trained_model.rx2('beta')))[:,-1]\n",
    "beta0 = np.asanyarray(r['as.matrix'](trained_model.rx2('a0')))[-1]"
   ]
  },
  {
   "cell_type": "code",
   "execution_count": 32,
   "metadata": {
    "collapsed": false
   },
   "outputs": [
    {
     "name": "stdout",
     "output_type": "stream",
     "text": [
      "[ 0.02459741 -0.05103479  0.00178928 -0.00513995] [-1.21930036]\n"
     ]
    }
   ],
   "source": [
    "print(betas,beta0)"
   ]
  },
  {
   "cell_type": "markdown",
   "metadata": {},
   "source": [
    "Or try with just simulated inputs:"
   ]
  },
  {
   "cell_type": "code",
   "execution_count": 35,
   "metadata": {
    "collapsed": false
   },
   "outputs": [
    {
     "name": "stdout",
     "output_type": "stream",
     "text": [
      "\n",
      "real PR2 is 0.0270678234228\n",
      "\n",
      "pR2_cv: 0.028058 (+/- 0.003107)\n",
      "pR2_cv: 0.016214 (+/- 0.004810)\n",
      "0.0280580308318 0.0162143398911\n",
      "\n",
      "real PR2 is 0.0211067857102\n",
      "\n",
      "pR2_cv: 0.024086 (+/- 0.011641)\n",
      "pR2_cv: -0.011157 (+/- 0.011040)\n",
      "0.0240861126894 -0.0111572547172\n",
      "\n",
      "real PR2 is 0.14188982972\n",
      "\n",
      "pR2_cv: 0.143203 (+/- 0.021582)\n",
      "pR2_cv: 0.086409 (+/- 0.030344)\n",
      "0.143202668759 0.0864092005221\n",
      "\n",
      "real PR2 is 0.0365852462559\n",
      "\n",
      "pR2_cv: 0.041516 (+/- 0.011588)\n",
      "pR2_cv: 0.005942 (+/- 0.024483)\n",
      "0.0415164862948 0.00594166384244\n",
      "\n",
      "real PR2 is 0.0700869409325\n",
      "\n"
     ]
    },
    {
     "ename": "KeyboardInterrupt",
     "evalue": "",
     "output_type": "error",
     "traceback": [
      "\u001b[0;31m---------------------------------------------------------------------------\u001b[0m",
      "\u001b[0;31mKeyboardInterrupt\u001b[0m                         Traceback (most recent call last)",
      "\u001b[0;32m<ipython-input-35-abdc534f57ea>\u001b[0m in \u001b[0;36m<module>\u001b[0;34m()\u001b[0m\n\u001b[1;32m     28\u001b[0m \u001b[0;34m\u001b[0m\u001b[0m\n\u001b[1;32m     29\u001b[0m     \u001b[0;31m# Fit to data\u001b[0m\u001b[0;34m\u001b[0m\u001b[0;34m\u001b[0m\u001b[0m\n\u001b[0;32m---> 30\u001b[0;31m     \u001b[0mYThat\u001b[0m\u001b[0;34m,\u001b[0m \u001b[0mPR2\u001b[0m \u001b[0;34m=\u001b[0m \u001b[0mfit_cv\u001b[0m\u001b[0;34m(\u001b[0m\u001b[0mX\u001b[0m\u001b[0;34m,\u001b[0m \u001b[0my\u001b[0m\u001b[0;34m,\u001b[0m \u001b[0malgorithm\u001b[0m \u001b[0;34m=\u001b[0m \u001b[0;34m'glm_pyglmnet'\u001b[0m\u001b[0;34m,\u001b[0m \u001b[0mn_cv\u001b[0m\u001b[0;34m=\u001b[0m\u001b[0;36m8\u001b[0m\u001b[0;34m,\u001b[0m \u001b[0mverbose\u001b[0m\u001b[0;34m=\u001b[0m\u001b[0;36m1\u001b[0m\u001b[0;34m,\u001b[0m \u001b[0mlabel\u001b[0m\u001b[0;34m=\u001b[0m\u001b[0;34m[\u001b[0m\u001b[0;34m]\u001b[0m\u001b[0;34m)\u001b[0m\u001b[0;34m\u001b[0m\u001b[0m\n\u001b[0m\u001b[1;32m     31\u001b[0m \u001b[0;34m\u001b[0m\u001b[0m\n\u001b[1;32m     32\u001b[0m     \u001b[0mYThat\u001b[0m\u001b[0;34m,\u001b[0m \u001b[0mPR2_nn\u001b[0m \u001b[0;34m=\u001b[0m \u001b[0mfit_cv\u001b[0m\u001b[0;34m(\u001b[0m\u001b[0mX\u001b[0m\u001b[0;34m,\u001b[0m \u001b[0my\u001b[0m\u001b[0;34m,\u001b[0m \u001b[0malgorithm\u001b[0m \u001b[0;34m=\u001b[0m \u001b[0;34m'nn_orig'\u001b[0m\u001b[0;34m,\u001b[0m \u001b[0mn_cv\u001b[0m\u001b[0;34m=\u001b[0m\u001b[0;36m8\u001b[0m\u001b[0;34m,\u001b[0m \u001b[0mverbose\u001b[0m\u001b[0;34m=\u001b[0m\u001b[0;36m1\u001b[0m\u001b[0;34m,\u001b[0m \u001b[0mlabel\u001b[0m\u001b[0;34m=\u001b[0m\u001b[0;34m[\u001b[0m\u001b[0;34m]\u001b[0m\u001b[0;34m)\u001b[0m\u001b[0;34m\u001b[0m\u001b[0m\n",
      "\u001b[0;32m<ipython-input-5-bdb59170feac>\u001b[0m in \u001b[0;36mfit_cv\u001b[0;34m(X, Y, algorithm, n_cv, verbose, label, func)\u001b[0m\n\u001b[1;32m     42\u001b[0m             \u001b[0mYt_hat\u001b[0m \u001b[0;34m=\u001b[0m \u001b[0mfunc\u001b[0m\u001b[0;34m(\u001b[0m\u001b[0mXr\u001b[0m\u001b[0;34m,\u001b[0m \u001b[0mYr\u001b[0m\u001b[0;34m,\u001b[0m \u001b[0mXt\u001b[0m\u001b[0;34m)\u001b[0m\u001b[0;34m\u001b[0m\u001b[0m\n\u001b[1;32m     43\u001b[0m         \u001b[0;32melse\u001b[0m\u001b[0;34m:\u001b[0m\u001b[0;34m\u001b[0m\u001b[0m\n\u001b[0;32m---> 44\u001b[0;31m             \u001b[0mYt_hat\u001b[0m \u001b[0;34m=\u001b[0m \u001b[0meval\u001b[0m\u001b[0;34m(\u001b[0m\u001b[0malgorithm\u001b[0m\u001b[0;34m)\u001b[0m\u001b[0;34m(\u001b[0m\u001b[0mXr\u001b[0m\u001b[0;34m,\u001b[0m \u001b[0mYr\u001b[0m\u001b[0;34m,\u001b[0m \u001b[0mXt\u001b[0m\u001b[0;34m)\u001b[0m\u001b[0;34m\u001b[0m\u001b[0m\n\u001b[0m\u001b[1;32m     45\u001b[0m         \u001b[0mY_hat\u001b[0m\u001b[0;34m[\u001b[0m\u001b[0midx_t\u001b[0m\u001b[0;34m]\u001b[0m \u001b[0;34m=\u001b[0m \u001b[0mYt_hat\u001b[0m\u001b[0;34m\u001b[0m\u001b[0m\n\u001b[1;32m     46\u001b[0m \u001b[0;34m\u001b[0m\u001b[0m\n",
      "\u001b[0;32m<ipython-input-10-26641498ad3d>\u001b[0m in \u001b[0;36mglm_pyglmnet\u001b[0;34m(Xr, Yr, Xt)\u001b[0m\n\u001b[1;32m     18\u001b[0m           score_metric='pseudo_R2')\n\u001b[1;32m     19\u001b[0m \u001b[0;34m\u001b[0m\u001b[0m\n\u001b[0;32m---> 20\u001b[0;31m     \u001b[0mglm\u001b[0m\u001b[0;34m.\u001b[0m\u001b[0mfit\u001b[0m\u001b[0;34m(\u001b[0m\u001b[0mXr\u001b[0m\u001b[0;34m,\u001b[0m \u001b[0mYr\u001b[0m\u001b[0;34m)\u001b[0m\u001b[0;34m\u001b[0m\u001b[0m\n\u001b[0m\u001b[1;32m     21\u001b[0m     \u001b[0mYt\u001b[0m \u001b[0;34m=\u001b[0m \u001b[0mglm\u001b[0m\u001b[0;34m[\u001b[0m\u001b[0;34m-\u001b[0m\u001b[0;36m1\u001b[0m\u001b[0;34m]\u001b[0m\u001b[0;34m.\u001b[0m\u001b[0mpredict\u001b[0m\u001b[0;34m(\u001b[0m\u001b[0mXt\u001b[0m\u001b[0;34m)\u001b[0m\u001b[0;34m\u001b[0m\u001b[0m\n\u001b[1;32m     22\u001b[0m \u001b[0;34m\u001b[0m\u001b[0m\n",
      "\u001b[0;32m//anaconda/lib/python3.5/site-packages/pyglmnet-1.0.1-py3.5.egg/pyglmnet/pyglmnet.py\u001b[0m in \u001b[0;36mfit\u001b[0;34m(self, X, y)\u001b[0m\n\u001b[1;32m    665\u001b[0m                 \u001b[0;32mif\u001b[0m \u001b[0mself\u001b[0m\u001b[0;34m.\u001b[0m\u001b[0msolver\u001b[0m \u001b[0;34m==\u001b[0m \u001b[0;34m'batch-gradient'\u001b[0m\u001b[0;34m:\u001b[0m\u001b[0;34m\u001b[0m\u001b[0m\n\u001b[1;32m    666\u001b[0m                     grad_beta0, grad_beta = self._grad_L2loss(\n\u001b[0;32m--> 667\u001b[0;31m                         beta[0], beta[1:], rl, X, y)\n\u001b[0m\u001b[1;32m    668\u001b[0m \u001b[0;34m\u001b[0m\u001b[0m\n\u001b[1;32m    669\u001b[0m                     \u001b[0;32mif\u001b[0m \u001b[0mself\u001b[0m\u001b[0;34m.\u001b[0m\u001b[0mverbose\u001b[0m\u001b[0;34m>\u001b[0m\u001b[0;36m1\u001b[0m\u001b[0;34m:\u001b[0m\u001b[0;34m\u001b[0m\u001b[0m\n",
      "\u001b[0;32m//anaconda/lib/python3.5/site-packages/pyglmnet-1.0.1-py3.5.egg/pyglmnet/pyglmnet.py\u001b[0m in \u001b[0;36m_grad_L2loss\u001b[0;34m(self, beta0, beta, reg_lambda, X, y)\u001b[0m\n\u001b[1;32m    368\u001b[0m         \u001b[0;32mif\u001b[0m \u001b[0mTau\u001b[0m \u001b[0;32mis\u001b[0m \u001b[0;32mNone\u001b[0m\u001b[0;34m:\u001b[0m\u001b[0;34m\u001b[0m\u001b[0m\n\u001b[1;32m    369\u001b[0m             \u001b[0mTau\u001b[0m \u001b[0;34m=\u001b[0m \u001b[0mnp\u001b[0m\u001b[0;34m.\u001b[0m\u001b[0meye\u001b[0m\u001b[0;34m(\u001b[0m\u001b[0mbeta\u001b[0m\u001b[0;34m.\u001b[0m\u001b[0mshape\u001b[0m\u001b[0;34m[\u001b[0m\u001b[0;36m0\u001b[0m\u001b[0;34m]\u001b[0m\u001b[0;34m)\u001b[0m\u001b[0;34m\u001b[0m\u001b[0m\n\u001b[0;32m--> 370\u001b[0;31m         \u001b[0mInvCov\u001b[0m \u001b[0;34m=\u001b[0m \u001b[0mnp\u001b[0m\u001b[0;34m.\u001b[0m\u001b[0mdot\u001b[0m\u001b[0;34m(\u001b[0m\u001b[0mTau\u001b[0m\u001b[0;34m.\u001b[0m\u001b[0mT\u001b[0m\u001b[0;34m,\u001b[0m \u001b[0mTau\u001b[0m\u001b[0;34m)\u001b[0m\u001b[0;34m\u001b[0m\u001b[0m\n\u001b[0m\u001b[1;32m    371\u001b[0m \u001b[0;34m\u001b[0m\u001b[0m\n\u001b[1;32m    372\u001b[0m         \u001b[0mz\u001b[0m \u001b[0;34m=\u001b[0m \u001b[0mbeta0\u001b[0m \u001b[0;34m+\u001b[0m \u001b[0mnp\u001b[0m\u001b[0;34m.\u001b[0m\u001b[0mdot\u001b[0m\u001b[0;34m(\u001b[0m\u001b[0mX\u001b[0m\u001b[0;34m,\u001b[0m \u001b[0mbeta\u001b[0m\u001b[0;34m)\u001b[0m\u001b[0;34m\u001b[0m\u001b[0m\n",
      "\u001b[0;31mKeyboardInterrupt\u001b[0m: "
     ]
    }
   ],
   "source": [
    "\n",
    "\n",
    "\n",
    "nn_p_sim=list()\n",
    "glm_p_sim= list()\n",
    "\n",
    "for i in range(10):\n",
    "    \n",
    "    \n",
    "\n",
    "    beta0, beta, X, y = simulate_data(1000, 10, 0, 0, 0.5, .2)\n",
    "    YThat, PR2 = fit_cv(X, y, algorithm = 'r_glmnet', n_cv=8, verbose=0, label=[])\n",
    "    print('\\nreal PR2 is %s\\n'%np.mean(PR2))\n",
    "    #print(beta0,beta)\n",
    "    Xr, Xt, Yr, Yt = train_test_split(X, y, random_state=42, test_size=0.2)\n",
    "\n",
    "    # Get R's coefficients (still don't trust pyglmnet)\n",
    "#     yr = ro.FloatVector(Yr) # use factors\n",
    "#     trained_model = r['glmnet'](Xr, yr, family=\"poisson\",alpha = 0.1)\n",
    "#     lambda_min = np.asanyarray(trained_model.rx2('lambda'))[-1]\n",
    "#     Yt = r['predict'](trained_model,s=lambda_min,newx=Xt,type=\"response\")\n",
    "#     betas = np.asanyarray(r['as.matrix'](trained_model.rx2('beta')))[:,-1]\n",
    "#     beta0 = np.asanyarray(r['as.matrix'](trained_model.rx2('a0')))[-1]\n",
    "    #print(beta0,betas)\n",
    "    # Simulate\n",
    "#     glm_simulator = GLM(distr='softplus')\n",
    "#     y_sim = glm_simulator.simulate(beta0, beta, X)\n",
    "    \n",
    "    # Fit to data\n",
    "    YThat, PR2 = fit_cv(X, y, algorithm = 'glm_pyglmnet', n_cv=8, verbose=1, label=[])\n",
    "\n",
    "    YThat, PR2_nn = fit_cv(X, y, algorithm = 'nn_orig', n_cv=8, verbose=1, label=[])\n",
    "    print(np.mean(PR2), np.mean(PR2_nn))\n",
    "    nn_p_sim.append(PR2_nn)\n",
    "    glm_p_sim.append(PR2)\n"
   ]
  },
  {
   "cell_type": "code",
   "execution_count": 31,
   "metadata": {
    "collapsed": false
   },
   "outputs": [
    {
     "data": {
      "image/png": "[encoded data removed]",
      "text/plain": [
       "<matplotlib.figure.Figure at 0x129558ac8>"
      ]
     },
     "metadata": {},
     "output_type": "display_data"
    }
   ],
   "source": [
    "plt.scatter(np.mean(glm_p_sim,axis=1),np.mean(nn_p_sim,axis=1))\n",
    "plt.plot([-.1,.2],[-.1,.2],':')\n",
    "plt.xlabel('GLM pR2')\n",
    "plt.ylabel('NN pR2')\n",
    "plt.show()"
   ]
  },
  {
   "cell_type": "code",
   "execution_count": 32,
   "metadata": {
    "collapsed": false
   },
   "outputs": [
    {
     "name": "stdout",
     "output_type": "stream",
     "text": [
      "\n",
      "real PR2 is 0.0146644991303\n",
      "\n",
      "pR2_cv: 0.020093 (+/- 0.008065)\n",
      "pR2_cv: 0.009834 (+/- 0.010849)\n",
      "0.0200926120906 0.00983376238283\n",
      "\n",
      "real PR2 is 0.0855677020838\n",
      "\n",
      "pR2_cv: 0.079869 (+/- 0.010133)\n",
      "pR2_cv: 0.065725 (+/- 0.012884)\n",
      "0.0798686276668 0.065724853804\n",
      "\n",
      "real PR2 is 0.0192793143539\n",
      "\n",
      "pR2_cv: 0.018985 (+/- 0.008337)\n",
      "pR2_cv: -0.005237 (+/- 0.017369)\n",
      "0.0189850940119 -0.00523730804833\n",
      "\n",
      "real PR2 is 0.122814368833\n",
      "\n",
      "pR2_cv: 0.122083 (+/- 0.014789)\n",
      "pR2_cv: 0.107434 (+/- 0.013832)\n",
      "0.122083019063 0.107433863224\n",
      "\n",
      "real PR2 is 0.00971761074784\n",
      "\n",
      "pR2_cv: 0.009243 (+/- 0.004454)\n",
      "pR2_cv: 0.005982 (+/- 0.006266)\n",
      "0.00924346823587 0.00598178797747\n",
      "\n",
      "real PR2 is 0.0886362644673\n",
      "\n",
      "pR2_cv: 0.087132 (+/- 0.013595)\n",
      "pR2_cv: 0.081110 (+/- 0.015823)\n",
      "0.087131803236 0.0811098181633\n",
      "\n",
      "real PR2 is 0.0594751893327\n",
      "\n",
      "pR2_cv: 0.064578 (+/- 0.018653)\n",
      "pR2_cv: 0.048642 (+/- 0.025929)\n",
      "0.06457840609 0.0486418181317\n",
      "\n",
      "real PR2 is 0.0898813825506\n",
      "\n",
      "pR2_cv: 0.093984 (+/- 0.012555)\n",
      "pR2_cv: 0.090492 (+/- 0.014754)\n",
      "0.093983690872 0.0904923671234\n",
      "\n",
      "real PR2 is 0.015226347262\n",
      "\n",
      "pR2_cv: 0.026983 (+/- 0.008015)\n",
      "pR2_cv: 0.009251 (+/- 0.014770)\n",
      "0.0269825540154 0.00925092758924\n",
      "\n",
      "real PR2 is 0.0123178003553\n",
      "\n",
      "pR2_cv: 0.001096 (+/- 0.001777)\n",
      "pR2_cv: 0.008721 (+/- 0.006223)\n",
      "0.00109640740279 0.00872105223031\n"
     ]
    }
   ],
   "source": [
    "nn_p_sim=list()\n",
    "glm_p_sim= list()\n",
    "\n",
    "for i in range(10):\n",
    "    \n",
    "    \n",
    "\n",
    "    beta0, beta, X, y = simulate_data(1000, 10, -2, 0, 1.0, .5)\n",
    "    YThat, PR2 = fit_cv(X, y, algorithm = 'r_glmnet', n_cv=8, verbose=0, label=[])\n",
    "    print('\\nreal PR2 is %s\\n'%np.mean(PR2))\n",
    "    #print(beta0,beta)\n",
    "    Xr, Xt, Yr, Yt = train_test_split(X, y, random_state=42, test_size=0.2)\n",
    "\n",
    "    # Get R's coefficients (still don't trust pyglmnet)\n",
    "#     yr = ro.FloatVector(Yr) # use factors\n",
    "#     trained_model = r['glmnet'](Xr, yr, family=\"poisson\",alpha = 0.1)\n",
    "#     lambda_min = np.asanyarray(trained_model.rx2('lambda'))[-1]\n",
    "#     Yt = r['predict'](trained_model,s=lambda_min,newx=Xt,type=\"response\")\n",
    "#     betas = np.asanyarray(r['as.matrix'](trained_model.rx2('beta')))[:,-1]\n",
    "#     beta0 = np.asanyarray(r['as.matrix'](trained_model.rx2('a0')))[-1]\n",
    "    #print(beta0,betas)\n",
    "    # Simulate\n",
    "#     glm_simulator = GLM(distr='softplus')\n",
    "#     y_sim = glm_simulator.simulate(beta0, beta, X)\n",
    "    \n",
    "    # Fit to data\n",
    "    YThat, PR2 = fit_cv(X, y, algorithm = 'glm_pyglmnet', n_cv=8, verbose=1, label=[])\n",
    "\n",
    "    YThat, PR2_nn = fit_cv(X, y, algorithm = 'nn_orig', n_cv=8, verbose=1, label=[])\n",
    "    print(np.mean(PR2), np.mean(PR2_nn))\n",
    "    nn_p_sim.append(PR2_nn)\n",
    "    glm_p_sim.append(PR2)\n"
   ]
  },
  {
   "cell_type": "code",
   "execution_count": 33,
   "metadata": {
    "collapsed": false
   },
   "outputs": [
    {
     "data": {
      "image/png": "[encoded data removed]",
      "text/plain": [
       "<matplotlib.figure.Figure at 0x128d19080>"
      ]
     },
     "metadata": {},
     "output_type": "display_data"
    }
   ],
   "source": [
    "plt.scatter(np.mean(glm_p_sim,axis=1),np.mean(nn_p_sim,axis=1))\n",
    "plt.plot([-.1,.2],[-.1,.2],':')\n",
    "plt.xlabel('GLM pR2')\n",
    "plt.ylabel('NN pR2')\n",
    "plt.show()"
   ]
  },
  {
   "cell_type": "code",
   "execution_count": null,
   "metadata": {
    "collapsed": true
   },
   "outputs": [],
   "source": []
  }
 ],
 "metadata": {
  "anaconda-cloud": {},
  "kernelspec": {
   "display_name": "Python [Root]",
   "language": "python",
   "name": "Python [Root]"
  },
  "language_info": {
   "codemirror_mode": {
    "name": "ipython",
    "version": 3
   },
   "file_extension": ".py",
   "mimetype": "text/x-python",
   "name": "python",
   "nbconvert_exporter": "python",
   "pygments_lexer": "ipython3",
   "version": "3.5.2"
  }
 },
 "nbformat": 4,
 "nbformat_minor": 0
}
