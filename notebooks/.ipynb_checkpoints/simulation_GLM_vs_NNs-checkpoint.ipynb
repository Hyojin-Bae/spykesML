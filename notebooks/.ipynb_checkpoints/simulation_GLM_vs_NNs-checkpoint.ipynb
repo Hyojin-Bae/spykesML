{
 "cells": [
  {
   "cell_type": "markdown",
   "metadata": {},
   "source": [
    "# Simulation comparing GLMs and NNs"
   ]
  },
  {
   "cell_type": "markdown",
   "metadata": {},
   "source": [
    "## Imports"
   ]
  },
  {
   "cell_type": "code",
   "execution_count": 13,
   "metadata": {
    "collapsed": false
   },
   "outputs": [],
   "source": [
    "import numpy as np\n",
    "from sklearn.cross_validation import train_test_split\n",
    "from scipy import stats\n",
    "import scipy.sparse as sps\n",
    "import scipy.io\n",
    "import pandas as pd\n",
    "\n",
    "# GLM\n",
    "from pyglmnet import GLM\n",
    "\n",
    "# NNs\n",
    "import keras\n",
    "from keras.models import Sequential\n",
    "from keras.layers.core import Dense, Dropout\n",
    "from keras.layers.normalization import BatchNormalization\n",
    "\n",
    "# Plotting\n",
    "import matplotlib.pyplot as plt\n",
    "% matplotlib inline"
   ]
  },
  {
   "cell_type": "markdown",
   "metadata": {},
   "source": [
    "## Simulate data"
   ]
  },
  {
   "cell_type": "code",
   "execution_count": 2,
   "metadata": {
    "collapsed": true
   },
   "outputs": [],
   "source": [
    "def simulate_data(n_samples, n_features, scale_min, scale_max, density, effect_size_factor):\n",
    "\n",
    "    # Sample design matrix\n",
    "    X = np.random.randn(n_samples, n_features)\n",
    "    \n",
    "    # Rescale\n",
    "    scale_factor = np.logspace(scale_min, scale_max, n_features)\n",
    "    for f in range(n_features):\n",
    "        X[:, f] = scale_factor[f] * X[:, f]\n",
    "    \n",
    "    # Sample beta0\n",
    "    beta0 = np.random.randn(1)*effect_size_factor\n",
    "    \n",
    "    # Sample sparse beta\n",
    "    rvs = stats.norm(loc=0.0, scale=1.0).rvs\n",
    "    tmp = sps.random(n_features, 1, density=density, data_rvs=rvs)\n",
    "    beta = np.squeeze(tmp.toarray())*effect_size_factor\n",
    "    \n",
    "    # Sample y ~ Poisson(exp(beta0 + X * beta))\n",
    "    glm_simulator = GLM(distr='softplus')\n",
    "    y = glm_simulator.simulate(beta0, beta, X)\n",
    "    \n",
    "    return beta0, beta, X, y"
   ]
  },
  {
   "cell_type": "code",
   "execution_count": 3,
   "metadata": {
    "collapsed": true
   },
   "outputs": [],
   "source": [
    "n_samples = 1000\n",
    "n_features = 10\n",
    "scale_min = 0.0001\n",
    "scale_max = 1.0\n",
    "density = 0.5\n",
    "effect_size_factor = 1"
   ]
  },
  {
   "cell_type": "code",
   "execution_count": 68,
   "metadata": {
    "collapsed": false
   },
   "outputs": [],
   "source": [
    "beta0, beta, X, y = simulate_data(n_samples, n_features, scale_min, scale_max, density, effect_size_factor)"
   ]
  },
  {
   "cell_type": "code",
   "execution_count": 69,
   "metadata": {
    "collapsed": true
   },
   "outputs": [],
   "source": [
    "X_train, X_test, y_train, y_test = train_test_split(X, y, random_state=42, test_size=0.2)"
   ]
  },
  {
   "cell_type": "markdown",
   "metadata": {},
   "source": [
    "## Fit models"
   ]
  },
  {
   "cell_type": "markdown",
   "metadata": {},
   "source": [
    "### GLMs "
   ]
  },
  {
   "cell_type": "code",
   "execution_count": 4,
   "metadata": {
    "collapsed": false
   },
   "outputs": [],
   "source": [
    "glm = GLM(distr='softplus',\n",
    "          alpha=0.1,\n",
    "          tol=1e-8,\n",
    "          reg_lambda=np.logspace(np.log(0.5), np.log(0.01), 10, base=np.exp(1)),\n",
    "          learning_rate=0.01,\n",
    "          solver='batch-gradient',\n",
    "          max_iter=10000,\n",
    "          random_state=1,\n",
    "          score_metric='pseudo_R2')"
   ]
  },
  {
   "cell_type": "code",
   "execution_count": 71,
   "metadata": {
    "collapsed": false
   },
   "outputs": [
    {
     "name": "stdout",
     "output_type": "stream",
     "text": [
      "[ 0.95384044] [ 0.94737693]\n"
     ]
    }
   ],
   "source": [
    "glm.fit(X_train, y_train)\n",
    "glm_r2_train = glm[-1].score(X_train, y_train)\n",
    "glm_r2_test = glm[-1].score(X_test, y_test)\n",
    "print(glm_r2_train, glm_r2_test)"
   ]
  },
  {
   "cell_type": "code",
   "execution_count": 72,
   "metadata": {
    "collapsed": false
   },
   "outputs": [],
   "source": [
    "y_train_hat = glm[-1].predict(X_train)\n",
    "y_test_hat = glm[-1].predict(X_test)"
   ]
  },
  {
   "cell_type": "code",
   "execution_count": 73,
   "metadata": {
    "collapsed": false
   },
   "outputs": [
    {
     "data": {
      "image/png": "[encoded data removed]",
      "text/plain": [
       "<matplotlib.figure.Figure at 0x120177c18>"
      ]
     },
     "metadata": {},
     "output_type": "display_data"
    }
   ],
   "source": [
    "plt.plot(y_test, y_test_hat, 'ro', alpha=0.2)\n",
    "plt.show()"
   ]
  },
  {
   "cell_type": "markdown",
   "metadata": {},
   "source": [
    "## Neural Networks"
   ]
  },
  {
   "cell_type": "code",
   "execution_count": 5,
   "metadata": {
    "collapsed": true
   },
   "outputs": [],
   "source": [
    "def keras_model(n_features, n_layer1, n_layer2):\n",
    "    model = Sequential()\n",
    "    \n",
    "    model.add(Dense(input_dim=n_features, output_dim=n_layer1, init='glorot_uniform', activation='relu'))\n",
    "    model.add(Dropout(0.5))\n",
    "    #model.add(BatchNormalization())\n",
    "    \n",
    "    model.add(Dense(input_dim=n_features, output_dim=n_layer2, init='glorot_uniform', activation='relu'))\n",
    "    model.add(Dropout(0.5))\n",
    "    #model.add(BatchNormalization())\n",
    "    \n",
    "    model.add(Dense(output_dim=1, activation='softplus'))\n",
    "    \n",
    "    model.compile(loss='poisson', optimizer='rmsprop')\n",
    "    return model"
   ]
  },
  {
   "cell_type": "code",
   "execution_count": 15,
   "metadata": {
    "collapsed": false
   },
   "outputs": [
    {
     "name": "stderr",
     "output_type": "stream",
     "text": [
      "WARNING (theano.gof.compilelock): Overriding existing lock by dead process '3020' (I am process '783')\n"
     ]
    }
   ],
   "source": [
    "nn = keras_model(n_features, 1980, 18)"
   ]
  },
  {
   "cell_type": "code",
   "execution_count": 74,
   "metadata": {
    "collapsed": false
   },
   "outputs": [
    {
     "name": "stdout",
     "output_type": "stream",
     "text": [
      "Epoch 1/10\n",
      "800/800 [==============================] - 0s - loss: -8.6667     \n",
      "Epoch 2/10\n",
      "800/800 [==============================] - 0s - loss: -14.4480     \n",
      "Epoch 3/10\n",
      "800/800 [==============================] - 0s - loss: -17.1454     \n",
      "Epoch 4/10\n",
      "800/800 [==============================] - 0s - loss: -17.8227     \n",
      "Epoch 5/10\n",
      "800/800 [==============================] - 0s - loss: -17.9667     \n",
      "Epoch 6/10\n",
      "800/800 [==============================] - 0s - loss: -18.3855     \n",
      "Epoch 7/10\n",
      "800/800 [==============================] - 0s - loss: -18.3902     \n",
      "Epoch 8/10\n",
      "800/800 [==============================] - 0s - loss: -18.3702     \n",
      "Epoch 9/10\n",
      "800/800 [==============================] - 0s - loss: -18.4107     \n",
      "Epoch 10/10\n",
      "800/800 [==============================] - 0s - loss: -18.3486     \n"
     ]
    },
    {
     "data": {
      "text/plain": [
       "<keras.callbacks.History at 0x1212319b0>"
      ]
     },
     "execution_count": 74,
     "metadata": {},
     "output_type": "execute_result"
    }
   ],
   "source": [
    "nn.fit(X_train, y_train, nb_epoch=10, batch_size=32)"
   ]
  },
  {
   "cell_type": "code",
   "execution_count": 75,
   "metadata": {
    "collapsed": true
   },
   "outputs": [],
   "source": [
    "y_train_hat = nn.predict(X_train)\n",
    "y_test_hat = nn.predict(X_test)"
   ]
  },
  {
   "cell_type": "code",
   "execution_count": 6,
   "metadata": {
    "collapsed": true
   },
   "outputs": [],
   "source": [
    "def poisson_pseudoR2(y, yhat, ynull):\n",
    "    yhat = np.squeeze(yhat)\n",
    "    eps = np.spacing(1)\n",
    "    L1 = np.sum(y * np.log(eps + yhat) - yhat)\n",
    "    L0 = np.sum(y * np.log(eps + ynull) - ynull)\n",
    "    LS = np.sum(y * np.log(eps + y) - y)\n",
    "    R2 = 1 -(LS - L1) / (LS - L0)\n",
    "    return R2"
   ]
  },
  {
   "cell_type": "code",
   "execution_count": 77,
   "metadata": {
    "collapsed": false
   },
   "outputs": [
    {
     "name": "stdout",
     "output_type": "stream",
     "text": [
      "0.963148038445 0.948162734057\n"
     ]
    }
   ],
   "source": [
    "nn_r2_train = poisson_pseudoR2(y_train, np.squeeze(y_train_hat), np.mean(y_train))\n",
    "nn_r2_test = poisson_pseudoR2(y_test, np.squeeze(y_test_hat), np.mean(y_train))\n",
    "print(nn_r2_train, nn_r2_test)"
   ]
  },
  {
   "cell_type": "code",
   "execution_count": 78,
   "metadata": {
    "collapsed": false
   },
   "outputs": [
    {
     "data": {
      "image/png": "[encoded data removed]",
      "text/plain": [
       "<matplotlib.figure.Figure at 0x117c173c8>"
      ]
     },
     "metadata": {},
     "output_type": "display_data"
    }
   ],
   "source": [
    "plt.plot(y_test, y_test_hat, 'bo', alpha=0.2)\n",
    "plt.show()"
   ]
  },
  {
   "cell_type": "markdown",
   "metadata": {
    "collapsed": true
   },
   "source": [
    "### Simulate with current convenience functions"
   ]
  },
  {
   "cell_type": "code",
   "execution_count": 7,
   "metadata": {
    "collapsed": true
   },
   "outputs": [],
   "source": [
    "from sklearn.cross_validation import KFold\n",
    "\n",
    "def glm_pyglmnet(Xr, Yr, Xt):\n",
    "    glm = GLM(distr='softplus',\n",
    "          alpha=0.1,\n",
    "          tol=1e-8,\n",
    "          reg_lambda=np.logspace(np.log(0.5), np.log(0.01), 10, base=np.exp(1)),\n",
    "          learning_rate=0.01,\n",
    "          solver='batch-gradient',\n",
    "          max_iter=10000,\n",
    "          random_state=1,\n",
    "          score_metric='pseudo_R2')\n",
    "    \n",
    "    glm.fit(Xr, Yr)\n",
    "    Yt = glm[-1].predict(Xt)\n",
    "    \n",
    "    return Yt\n",
    "\n",
    "def fit_cv(X, Y, algorithm = 'glm_pyglmnet', n_cv=10, verbose=1, label=[],func=None):\n",
    "\n",
    "    if np.ndim(X)==1:\n",
    "        X = np.transpose(np.atleast_2d(X))\n",
    "\n",
    "    if len(label)>0:\n",
    "        skf  = LabelKFold(np.squeeze(label), n_folds=n_cv)\n",
    "    else:\n",
    "        skf  = KFold(n=np.size(Y), n_folds=n_cv, shuffle=True, random_state=42)\n",
    "\n",
    "    i=1\n",
    "    Y_hat=np.zeros(len(Y))\n",
    "    pR2_cv = list()\n",
    "    for idx_r, idx_t in skf:\n",
    "        if verbose > 1:\n",
    "            print( '...runnning cv-fold', i, 'of', n_cv)\n",
    "        i+=1\n",
    "        Xr = X[idx_r, :]\n",
    "        Yr = Y[idx_r]\n",
    "        Xt = X[idx_t, :]\n",
    "        Yt = Y[idx_t]\n",
    "\n",
    "        if func:\n",
    "            Yt_hat = func(Xr, Yr, Xt)\n",
    "        else:\n",
    "            Yt_hat = eval(algorithm)(Xr, Yr, Xt)\n",
    "        Y_hat[idx_t] = Yt_hat\n",
    "\n",
    "        pR2 = poisson_pseudoR2(Yt, Yt_hat, np.mean(Yr))\n",
    "        pR2_cv.append(pR2)\n",
    "\n",
    "        if verbose > 1:\n",
    "            print( 'pR2: ', pR2)\n",
    "\n",
    "    if verbose > 2:\n",
    "        print(\"Mean y: \"+str(np.mean(Y))+\", mean yhat: \"+str(np.mean(Y_hat)))\n",
    "    if verbose > 0:\n",
    "        print(\"pR2_cv: %0.6f (+/- %0.6f)\" % (np.mean(pR2_cv),\n",
    "                                     np.std(pR2_cv)/np.sqrt(n_cv)))\n",
    "\n",
    "    \n",
    "    return Y_hat, pR2_cv"
   ]
  },
  {
   "cell_type": "code",
   "execution_count": 8,
   "metadata": {
    "collapsed": true
   },
   "outputs": [],
   "source": [
    "## the neural net from above\n",
    "def nn_eval(Xr, Yr, Xt):\n",
    "    if np.ndim(Xr)==1:\n",
    "        Xr = np.transpose(np.atleast_2d(Xr))\n",
    "\n",
    "    hist = nn.fit(X_train, y_train, nb_epoch=10, batch_size=32,verbose=0)\n",
    "    result = nn.predict_proba(Xt)\n",
    "    return result[:,0]\n"
   ]
  },
  {
   "cell_type": "code",
   "execution_count": 35,
   "metadata": {
    "collapsed": false
   },
   "outputs": [
    {
     "name": "stdout",
     "output_type": "stream",
     "text": [
      "...runnning cv-fold 1 of 5\n",
      " 32/200 [===>..........................] - ETA: 0spR2:  0.93652332524\n",
      "...runnning cv-fold 2 of 5\n"
     ]
    },
    {
     "name": "stderr",
     "output_type": "stream",
     "text": [
      "//anaconda/lib/python3.5/site-packages/Keras-1.1.0-py3.5.egg/keras/models.py:760: UserWarning: Network returning invalid probability values. The last layer might not normalize predictions into probabilities (like softmax or sigmoid would).\n",
      "  warnings.warn('Network returning invalid probability values. '\n"
     ]
    },
    {
     "name": "stdout",
     "output_type": "stream",
     "text": [
      " 32/200 [===>..........................] - ETA: 0spR2:  0.980601330616\n",
      "...runnning cv-fold 3 of 5\n",
      " 32/200 [===>..........................] - ETA: 0spR2:  0.979704993713\n",
      "...runnning cv-fold 4 of 5\n",
      " 32/200 [===>..........................] - ETA: 0spR2:  0.982490283785\n",
      "...runnning cv-fold 5 of 5\n",
      " 32/200 [===>..........................] - ETA: 0spR2:  0.985956707142\n",
      "pR2_cv: 0.973055 (+/- 0.008225)\n"
     ]
    }
   ],
   "source": [
    "\n",
    "YThat, PR2 = fit_cv(X, y, algorithm = 'nn_eval', n_cv=5, verbose=2, label=[])"
   ]
  },
  {
   "cell_type": "markdown",
   "metadata": {},
   "source": [
    "Same result. Perhaps the error is with the current neural net parameters?"
   ]
  },
  {
   "cell_type": "code",
   "execution_count": 15,
   "metadata": {
    "collapsed": true
   },
   "outputs": [],
   "source": [
    "from keras.optimizers import Nadam\n",
    "from keras.layers.advanced_activations import ParametricSoftplus\n",
    "from keras.regularizers import l1l2\n",
    "\n",
    "def build_nn(params):\n",
    "    \n",
    "    params['n1']=int(params['n1'])\n",
    "    params['n2']=int(params['n2'])\n",
    "    params['nb']=int(params['nb'])\n",
    "    params['dropout']=float(params['dropout'])\n",
    "    params['l1'],params['l2'] = float(params['l1']),float(params['l2'])\n",
    "    \n",
    "    def nn_new(Xr, Yr, Xt):\n",
    "        if np.ndim(Xr)==1:\n",
    "            Xr = np.transpose(np.atleast_2d(Xr))\n",
    "\n",
    "        model = Sequential()\n",
    "        model.add(Dense(params['n1'], input_dim=np.shape(Xr)[1], init='glorot_normal',\n",
    "                    activation='relu', W_regularizer=l1l2(params['l1'],params['l2'])))\n",
    "        model.add(Dropout(params['dropout']))\n",
    "        model.add(Dense(params['n2'], init='glorot_normal'\n",
    "                        , activation='relu',W_regularizer=l1l2(params['l1'],params['l2'])))\n",
    "        model.add(Dense(1,activation='softplus'))\n",
    "        \n",
    "        optim = Nadam()\n",
    "        model.compile(loss='poisson', optimizer=optim)\n",
    "        hist = model.fit(Xr, Yr, batch_size = 32, nb_epoch=params['nb'], verbose=0, validation_split=0.0)\n",
    "        result = model.predict(Xt)\n",
    "        return result[:,0]\n",
    "\n",
    "    return nn_new"
   ]
  },
  {
   "cell_type": "code",
   "execution_count": 40,
   "metadata": {
    "collapsed": true
   },
   "outputs": [],
   "source": [
    "params = {'dropout': 0.5,\n",
    "  'l1': 0.0,\n",
    "  'l2': 0.0,\n",
    "  'n1': 1980,\n",
    "  'n2': 18,\n",
    "  'nb': 5}\n",
    "nn_orig = build_nn(params)\n"
   ]
  },
  {
   "cell_type": "code",
   "execution_count": 41,
   "metadata": {
    "collapsed": false
   },
   "outputs": [
    {
     "name": "stdout",
     "output_type": "stream",
     "text": [
      "...runnning cv-fold 1 of 5\n",
      "pR2:  0.940262844001\n",
      "...runnning cv-fold 2 of 5\n",
      "pR2:  0.958189413643\n",
      "...runnning cv-fold 3 of 5\n",
      "pR2:  0.961056311346\n",
      "...runnning cv-fold 4 of 5\n",
      "pR2:  0.966486921618\n",
      "...runnning cv-fold 5 of 5\n",
      "pR2:  0.959694369751\n",
      "pR2_cv: 0.957138 (+/- 0.003976)\n"
     ]
    }
   ],
   "source": [
    "YThat, PR2 = fit_cv(X, y, algorithm = 'nn_orig', n_cv=5, verbose=2, label=[])"
   ]
  },
  {
   "cell_type": "markdown",
   "metadata": {},
   "source": [
    "It looks like there's no bug here: comparable results with the current neural net. Perhaps the discrepancy arises with data scaling?"
   ]
  },
  {
   "cell_type": "markdown",
   "metadata": {},
   "source": [
    "### Simulate as before\n",
    "\n",
    "First with 1000 x 10 data, like above."
   ]
  },
  {
   "cell_type": "markdown",
   "metadata": {},
   "source": [
    "This seems to be it. Let's plot the difference in pR2 vs effect size:"
   ]
  },
  {
   "cell_type": "code",
   "execution_count": 139,
   "metadata": {
    "collapsed": false
   },
   "outputs": [
    {
     "name": "stdout",
     "output_type": "stream",
     "text": [
      "0.0 -3.5751554623e-05 -0.0053242621566\n",
      "0.1 1.30913982643e-06 0.00419017342012\n",
      "0.2 -8.88444801837e-05 -0.00561168715985\n",
      "0.3 0.000161427115987 -0.00356905903534\n",
      "0.4 0.0333203948449 0.0680589474229\n",
      "0.5 0.132097838327 0.1617057115\n",
      "0.6 0.141329878754 0.164117135104\n",
      "0.7 0.00203412879277 -0.00182277404765\n",
      "0.8 0.350219965621 0.349532604699\n",
      "0.9 0.310355077715 0.347458281953\n",
      "1.0 0.417486767686 0.458801842774\n",
      "1.1 0.190313945687 0.20078909702\n",
      "1.2 0.3624746764 0.403111718939\n",
      "1.3 0.00331149447182 -0.00593608275881\n",
      "1.4 0.559192951736 0.585342773517\n",
      "1.5 0.56216652377 0.570601012557\n",
      "1.6 0.52971749791 0.545844543901\n",
      "1.7 0.541315838945 0.551435212019\n",
      "1.8 0.212200181476 0.385312973222\n",
      "1.9 0.142661789763 0.145255662899\n"
     ]
    }
   ],
   "source": [
    "effects  = np.arange(0,2,0.1)\n",
    "nn_p=list()\n",
    "glm_p= list()\n",
    "for e in effects:\n",
    "    beta0, beta, X, y = simulate_data(n_samples, n_features, scale_min, scale_max, density, e)\n",
    "    np.mean(y)\n",
    "    YThat, PR2_nn = fit_cv(X, y, algorithm = 'nn_orig', n_cv=8, verbose=0, label=[])\n",
    "    YThat, PR2 = fit_cv(X, y, algorithm = 'glm_pyglmnet', n_cv=8, verbose=0, label=[])\n",
    "    print(e, np.mean(PR2), np.mean(PR2_nn))\n",
    "    nn_p.append(PR2_nn)\n",
    "    glm_p.append(PR2)"
   ]
  },
  {
   "cell_type": "code",
   "execution_count": 122,
   "metadata": {
    "collapsed": false
   },
   "outputs": [
    {
     "data": {
      "text/plain": [
       "0.68899999999999995"
      ]
     },
     "execution_count": 122,
     "metadata": {},
     "output_type": "execute_result"
    }
   ],
   "source": [
    "beta0, beta, X, y = simulate_data(n_samples, n_features, scale_min, scale_max, density, 0)\n",
    "np.mean(y)"
   ]
  },
  {
   "cell_type": "code",
   "execution_count": 124,
   "metadata": {
    "collapsed": false
   },
   "outputs": [
    {
     "data": {
      "text/plain": [
       "1.6487212707001282"
      ]
     },
     "execution_count": 124,
     "metadata": {},
     "output_type": "execute_result"
    }
   ],
   "source": [
    "np.exp()"
   ]
  },
  {
   "cell_type": "code",
   "execution_count": 134,
   "metadata": {
    "collapsed": false
   },
   "outputs": [
    {
     "data": {
      "image/png": "[encoded data removed]",
      "text/plain": [
       "<matplotlib.figure.Figure at 0x11f713be0>"
      ]
     },
     "metadata": {},
     "output_type": "display_data"
    }
   ],
   "source": [
    "sn = np.sqrt(5)\n",
    "yy = np.mean(np.array(nn_p), axis=1)-np.mean(np.array(glm_p), axis=1)\n",
    "# error propogated from CV variance of both methods\n",
    "yerr = np.sqrt(np.std(np.array(nn_p), axis=1)**2+np.std(np.array(glm_p), axis=1)**2)\n",
    "\n",
    "p1,c,b=plt.errorbar(effects[:len(yy)], yy, yerr = yerr , alpha=1,color='#EF3E34')\n",
    "plt.grid()\n",
    "plt.xlabel('Effect Size',fontsize=16)\n",
    "plt.ylabel('Relatve pR2 (NN-GLM)',fontsize=16)\n",
    "plt.show()"
   ]
  },
  {
   "cell_type": "code",
   "execution_count": 135,
   "metadata": {
    "collapsed": false
   },
   "outputs": [
    {
     "data": {
      "text/plain": [
       "array([ -2.13097504e-04,   9.01953362e-05,  -7.15526971e-05,\n",
       "        -1.74662502e-04,  -4.11804541e-02,  -1.94974842e-04,\n",
       "        -5.35556227e-04,   3.51125542e-03,  -1.70296095e-04])"
      ]
     },
     "execution_count": 135,
     "metadata": {},
     "output_type": "execute_result"
    }
   ],
   "source": [
    "np.mean(nn_p,axis=1)"
   ]
  },
  {
   "cell_type": "code",
   "execution_count": 136,
   "metadata": {
    "collapsed": false
   },
   "outputs": [
    {
     "data": {
      "text/plain": [
       "array([ -2.98241501e-05,   1.94513946e-05,  -5.90298394e-05,\n",
       "        -1.47023339e-05,  -5.17242600e-06,   2.18669639e-05,\n",
       "        -4.01452849e-05,   7.88373000e-06,   1.54675193e-05])"
      ]
     },
     "execution_count": 136,
     "metadata": {},
     "output_type": "execute_result"
    }
   ],
   "source": [
    "np.mean(glm_p,axis=1)"
   ]
  },
  {
   "cell_type": "markdown",
   "metadata": {
    "collapsed": true
   },
   "source": [
    "## Plot NN vs. GLM on simulated data"
   ]
  },
  {
   "cell_type": "markdown",
   "metadata": {},
   "source": [
    "Get input data"
   ]
  },
  {
   "cell_type": "code",
   "execution_count": 14,
   "metadata": {
    "collapsed": false
   },
   "outputs": [],
   "source": [
    "def get_data(nn=0):\n",
    "    math_ = scipy.io.loadmat('../../data/s1_ari_proc_Han.mat')\n",
    "    \n",
    "    data = pd.DataFrame()\n",
    "    data['time'] =  math_['time'][0]\n",
    "    data['handPos_x'] =  math_['handPos'][0] - np.mean(math_['handPos'][0])\n",
    "    data['handPos_y'] =  math_['handPos'][1] - np.mean(math_['handPos'][1])\n",
    "    data['handVel_x'] =  math_['handVel'][0]\n",
    "    data['handVel_y'] =  math_['handVel'][1]\n",
    "    data['handAcc_x'] =  math_['handAcc'][0]\n",
    "    data['handAcc_y'] =  math_['handAcc'][1]\n",
    "    \n",
    "    data['velDir'] = np.arctan2(data['handVel_y'], data['handVel_x'])\n",
    "    data['cos_velDir'] = np.cos(data['velDir'])\n",
    "    data['sin_velDir'] = np.sin(data['velDir'])\n",
    "    data['speed'] = np.sqrt(data['handVel_x'].values**2+data['handVel_y'].values**2)\n",
    "    r = np.arctan2(data['handPos_y'], data['handPos_x'])\n",
    "    data['PosDir'] = r\n",
    "    data['cos_PosDir'] = np.cos(r)\n",
    "    data['sin_PosDir'] = np.sin(r)\n",
    "    data['radial_Pos'] = np.sqrt(data['handPos_x'].values**2+data['handPos_y'].values**2)\n",
    "    neuron_n = nn\n",
    "    y = math_['spikes'][neuron_n]\n",
    "    \n",
    "    #X= data.drop(['time','velDir','PosDir','handPos_x','handPos_y','handVel_x','handVel_y'], axis=1).values\n",
    "    X = data[['handPos_x','handPos_y','handVel_x','handVel_y']].values\n",
    "    \n",
    "    return X, y"
   ]
  },
  {
   "cell_type": "code",
   "execution_count": 18,
   "metadata": {
    "collapsed": false
   },
   "outputs": [],
   "source": [
    "# Get coeffiecients from actual data. First import R\n",
    "\n",
    "import rpy2.robjects as ro\n",
    "import rpy2.robjects.numpy2ri as n2r\n",
    "n2r.activate()\n",
    "\n",
    "r = ro.r\n",
    "r.library('glmnet');"
   ]
  },
  {
   "cell_type": "code",
   "execution_count": 25,
   "metadata": {
    "collapsed": true
   },
   "outputs": [],
   "source": [
    "params = {'dropout': 0.5,\n",
    "  'l1': 0.0,\n",
    "  'l2': 0.0,\n",
    "  'n1': 1980,\n",
    "  'n2': 18,\n",
    "  'nb': 5}\n",
    "nn_orig = build_nn(params)\n",
    "\n",
    "def glm_pyglmnet(Xr, Yr, Xt):\n",
    "    glm = GLM(distr='softplus',\n",
    "          alpha=0.1,\n",
    "          tol=1e-8,\n",
    "          reg_lambda=np.logspace(np.log(0.5), np.log(0.001), 10, base=np.exp(1)),\n",
    "          learning_rate=0.01,\n",
    "          solver='batch-gradient',\n",
    "          max_iter=10000,\n",
    "          random_state=1,\n",
    "          score_metric='pseudo_R2')\n",
    "    \n",
    "    glm.fit(Xr, Yr)\n",
    "    Yt = glm[-1].predict(Xt)\n",
    "    \n",
    "    return Yt\n",
    "\n",
    "\n",
    "def r_glmnet(Xr,Yr,Xt):\n",
    "    yr = ro.FloatVector(Yr) # use factors\n",
    "    trained_model = r['glmnet'](Xr, yr, family=\"poisson\",alpha = 0.1)\n",
    "    lambda_min = np.asanyarray(trained_model.rx2('lambda'))[-1]\n",
    "    Yt = r['predict'](trained_model,s=lambda_min,newx=Xt,type=\"response\")\n",
    "    betas = np.asanyarray(r['as.matrix'](trained_model.rx2('beta')))[:,-1]\n",
    "    beta0 = np.asanyarray(r['as.matrix'](trained_model.rx2('a0')))[-1]\n",
    "    return np.array(list(Yt))"
   ]
  },
  {
   "cell_type": "code",
   "execution_count": 35,
   "metadata": {
    "collapsed": false
   },
   "outputs": [
    {
     "name": "stdout",
     "output_type": "stream",
     "text": [
      "pR2_cv: 0.000456 (+/- 0.000330)\n",
      "...runnning cv-fold 1 of 8\n",
      "pR2:  -0.000533152725849\n",
      "...runnning cv-fold 2 of 8\n",
      "pR2:  -0.000788086613683\n",
      "...runnning cv-fold 3 of 8\n",
      "pR2:  -2.69896026952e-05\n",
      "...runnning cv-fold 4 of 8\n",
      "pR2:  0.000150647141949\n",
      "...runnning cv-fold 5 of 8\n",
      "pR2:  -0.000384131825427\n",
      "...runnning cv-fold 6 of 8\n",
      "pR2:  -1.3845901333e-05\n",
      "...runnning cv-fold 7 of 8\n",
      "pR2:  0.000167490383224\n",
      "...runnning cv-fold 8 of 8\n",
      "pR2:  9.56322265822e-07\n",
      "pR2_cv: -0.000178 (+/- 0.000115)\n",
      "0.000455712200318 -0.000178389102694\n",
      "pR2_cv: -0.000084 (+/- 0.000121)\n",
      "...runnning cv-fold 1 of 8\n",
      "pR2:  -0.000119113773047\n",
      "...runnning cv-fold 2 of 8\n",
      "pR2:  0.000186339461709\n",
      "...runnning cv-fold 3 of 8\n",
      "pR2:  -0.000687855489239\n",
      "...runnning cv-fold 4 of 8\n",
      "pR2:  8.56585957177e-05\n",
      "...runnning cv-fold 5 of 8\n",
      "pR2:  -0.000494797220975\n",
      "...runnning cv-fold 6 of 8\n",
      "pR2:  -0.000326890854685\n",
      "...runnning cv-fold 7 of 8\n",
      "pR2:  -9.43374761198e-07\n",
      "...runnning cv-fold 8 of 8\n",
      "pR2:  0.000196942910873\n",
      "pR2_cv: -0.000145 (+/- 0.000108)\n",
      "-8.4198358673e-05 -0.000145082468051\n",
      "pR2_cv: 0.000280 (+/- 0.000229)\n",
      "...runnning cv-fold 1 of 8\n",
      "pR2:  -8.74157038311e-06\n",
      "...runnning cv-fold 2 of 8\n",
      "pR2:  -0.00141707253807\n",
      "...runnning cv-fold 3 of 8\n",
      "pR2:  0.00115395352066\n",
      "...runnning cv-fold 4 of 8\n",
      "pR2:  -0.00060289783219\n",
      "...runnning cv-fold 5 of 8\n",
      "pR2:  0.000754306321644\n",
      "...runnning cv-fold 6 of 8\n",
      "pR2:  -0.00070161533215\n",
      "...runnning cv-fold 7 of 8\n",
      "pR2:  -0.000335029904432\n",
      "...runnning cv-fold 8 of 8\n",
      "pR2:  0.000289126261797\n",
      "pR2_cv: -0.000108 (+/- 0.000276)\n",
      "0.000280277520642 -0.000108496384141\n",
      "pR2_cv: 0.000702 (+/- 0.000509)\n",
      "...runnning cv-fold 1 of 8\n",
      "pR2:  -0.0213367143172\n",
      "...runnning cv-fold 2 of 8\n",
      "pR2:  -0.0116668049174\n",
      "...runnning cv-fold 3 of 8\n",
      "pR2:  -0.0147019804107\n",
      "...runnning cv-fold 4 of 8\n",
      "pR2:  -0.0129024386638\n",
      "...runnning cv-fold 5 of 8\n",
      "pR2:  -0.00433200140087\n",
      "...runnning cv-fold 6 of 8\n",
      "pR2:  -0.0217771449244\n",
      "...runnning cv-fold 7 of 8\n",
      "pR2:  -0.00222316424767\n",
      "...runnning cv-fold 8 of 8\n",
      "pR2:  -0.00377328823098\n",
      "pR2_cv: -0.011589 (+/- 0.002536)\n",
      "0.00070249920089 -0.0115891921391\n",
      "pR2_cv: 0.000223 (+/- 0.000179)\n",
      "...runnning cv-fold 1 of 8\n",
      "pR2:  -0.00224966259265\n",
      "...runnning cv-fold 2 of 8\n",
      "pR2:  -0.000760564982231\n",
      "...runnning cv-fold 3 of 8\n",
      "pR2:  -0.00337867346708\n",
      "...runnning cv-fold 4 of 8\n",
      "pR2:  -0.0103370875965\n",
      "...runnning cv-fold 5 of 8\n",
      "pR2:  -0.00137875691618\n",
      "...runnning cv-fold 6 of 8\n",
      "pR2:  -0.00449331685785\n",
      "...runnning cv-fold 7 of 8\n",
      "pR2:  -0.00233996256959\n",
      "...runnning cv-fold 8 of 8\n",
      "pR2:  -0.00340958512207\n",
      "pR2_cv: -0.003543 (+/- 0.000989)\n",
      "0.000222768403493 -0.00354345126302\n",
      "pR2_cv: -0.000212 (+/- 0.000160)\n",
      "...runnning cv-fold 1 of 8\n"
     ]
    },
    {
     "ename": "KeyboardInterrupt",
     "evalue": "",
     "output_type": "error",
     "traceback": [
      "\u001b[0;31m---------------------------------------------------------------------------\u001b[0m",
      "\u001b[0;31mKeyboardInterrupt\u001b[0m                         Traceback (most recent call last)",
      "\u001b[0;32m<ipython-input-35-ba9220ab56f6>\u001b[0m in \u001b[0;36m<module>\u001b[0;34m()\u001b[0m\n\u001b[1;32m     25\u001b[0m     \u001b[0mYThat\u001b[0m\u001b[0;34m,\u001b[0m \u001b[0mPR2\u001b[0m \u001b[0;34m=\u001b[0m \u001b[0mfit_cv\u001b[0m\u001b[0;34m(\u001b[0m\u001b[0mX\u001b[0m\u001b[0;34m,\u001b[0m \u001b[0my_sim\u001b[0m\u001b[0;34m,\u001b[0m \u001b[0malgorithm\u001b[0m \u001b[0;34m=\u001b[0m \u001b[0;34m'r_glmnet'\u001b[0m\u001b[0;34m,\u001b[0m \u001b[0mn_cv\u001b[0m\u001b[0;34m=\u001b[0m\u001b[0;36m8\u001b[0m\u001b[0;34m,\u001b[0m \u001b[0mverbose\u001b[0m\u001b[0;34m=\u001b[0m\u001b[0;36m1\u001b[0m\u001b[0;34m,\u001b[0m \u001b[0mlabel\u001b[0m\u001b[0;34m=\u001b[0m\u001b[0;34m[\u001b[0m\u001b[0;34m]\u001b[0m\u001b[0;34m)\u001b[0m\u001b[0;34m\u001b[0m\u001b[0m\n\u001b[1;32m     26\u001b[0m \u001b[0;34m\u001b[0m\u001b[0m\n\u001b[0;32m---> 27\u001b[0;31m     \u001b[0mYThat\u001b[0m\u001b[0;34m,\u001b[0m \u001b[0mPR2_nn\u001b[0m \u001b[0;34m=\u001b[0m \u001b[0mfit_cv\u001b[0m\u001b[0;34m(\u001b[0m\u001b[0mX\u001b[0m\u001b[0;34m,\u001b[0m \u001b[0my_sim\u001b[0m\u001b[0;34m,\u001b[0m \u001b[0malgorithm\u001b[0m \u001b[0;34m=\u001b[0m \u001b[0;34m'nn_orig'\u001b[0m\u001b[0;34m,\u001b[0m \u001b[0mn_cv\u001b[0m\u001b[0;34m=\u001b[0m\u001b[0;36m8\u001b[0m\u001b[0;34m,\u001b[0m \u001b[0mverbose\u001b[0m\u001b[0;34m=\u001b[0m\u001b[0;36m2\u001b[0m\u001b[0;34m,\u001b[0m \u001b[0mlabel\u001b[0m\u001b[0;34m=\u001b[0m\u001b[0;34m[\u001b[0m\u001b[0;34m]\u001b[0m\u001b[0;34m)\u001b[0m\u001b[0;34m\u001b[0m\u001b[0m\n\u001b[0m\u001b[1;32m     28\u001b[0m     \u001b[0mprint\u001b[0m\u001b[0;34m(\u001b[0m\u001b[0mnp\u001b[0m\u001b[0;34m.\u001b[0m\u001b[0mmean\u001b[0m\u001b[0;34m(\u001b[0m\u001b[0mPR2\u001b[0m\u001b[0;34m)\u001b[0m\u001b[0;34m,\u001b[0m \u001b[0mnp\u001b[0m\u001b[0;34m.\u001b[0m\u001b[0mmean\u001b[0m\u001b[0;34m(\u001b[0m\u001b[0mPR2_nn\u001b[0m\u001b[0;34m)\u001b[0m\u001b[0;34m)\u001b[0m\u001b[0;34m\u001b[0m\u001b[0m\n\u001b[1;32m     29\u001b[0m     \u001b[0mnn_p\u001b[0m\u001b[0;34m.\u001b[0m\u001b[0mappend\u001b[0m\u001b[0;34m(\u001b[0m\u001b[0mPR2_nn\u001b[0m\u001b[0;34m)\u001b[0m\u001b[0;34m\u001b[0m\u001b[0m\n",
      "\u001b[0;32m<ipython-input-7-bdb59170feac>\u001b[0m in \u001b[0;36mfit_cv\u001b[0;34m(X, Y, algorithm, n_cv, verbose, label, func)\u001b[0m\n\u001b[1;32m     42\u001b[0m             \u001b[0mYt_hat\u001b[0m \u001b[0;34m=\u001b[0m \u001b[0mfunc\u001b[0m\u001b[0;34m(\u001b[0m\u001b[0mXr\u001b[0m\u001b[0;34m,\u001b[0m \u001b[0mYr\u001b[0m\u001b[0;34m,\u001b[0m \u001b[0mXt\u001b[0m\u001b[0;34m)\u001b[0m\u001b[0;34m\u001b[0m\u001b[0m\n\u001b[1;32m     43\u001b[0m         \u001b[0;32melse\u001b[0m\u001b[0;34m:\u001b[0m\u001b[0;34m\u001b[0m\u001b[0m\n\u001b[0;32m---> 44\u001b[0;31m             \u001b[0mYt_hat\u001b[0m \u001b[0;34m=\u001b[0m \u001b[0meval\u001b[0m\u001b[0;34m(\u001b[0m\u001b[0malgorithm\u001b[0m\u001b[0;34m)\u001b[0m\u001b[0;34m(\u001b[0m\u001b[0mXr\u001b[0m\u001b[0;34m,\u001b[0m \u001b[0mYr\u001b[0m\u001b[0;34m,\u001b[0m \u001b[0mXt\u001b[0m\u001b[0;34m)\u001b[0m\u001b[0;34m\u001b[0m\u001b[0m\n\u001b[0m\u001b[1;32m     45\u001b[0m         \u001b[0mY_hat\u001b[0m\u001b[0;34m[\u001b[0m\u001b[0midx_t\u001b[0m\u001b[0;34m]\u001b[0m \u001b[0;34m=\u001b[0m \u001b[0mYt_hat\u001b[0m\u001b[0;34m\u001b[0m\u001b[0m\n\u001b[1;32m     46\u001b[0m \u001b[0;34m\u001b[0m\u001b[0m\n",
      "\u001b[0;32m<ipython-input-15-92712fc3f6b8>\u001b[0m in \u001b[0;36mnn_new\u001b[0;34m(Xr, Yr, Xt)\u001b[0m\n\u001b[1;32m     25\u001b[0m         \u001b[0moptim\u001b[0m \u001b[0;34m=\u001b[0m \u001b[0mNadam\u001b[0m\u001b[0;34m(\u001b[0m\u001b[0;34m)\u001b[0m\u001b[0;34m\u001b[0m\u001b[0m\n\u001b[1;32m     26\u001b[0m         \u001b[0mmodel\u001b[0m\u001b[0;34m.\u001b[0m\u001b[0mcompile\u001b[0m\u001b[0;34m(\u001b[0m\u001b[0mloss\u001b[0m\u001b[0;34m=\u001b[0m\u001b[0;34m'poisson'\u001b[0m\u001b[0;34m,\u001b[0m \u001b[0moptimizer\u001b[0m\u001b[0;34m=\u001b[0m\u001b[0moptim\u001b[0m\u001b[0;34m)\u001b[0m\u001b[0;34m\u001b[0m\u001b[0m\n\u001b[0;32m---> 27\u001b[0;31m         \u001b[0mhist\u001b[0m \u001b[0;34m=\u001b[0m \u001b[0mmodel\u001b[0m\u001b[0;34m.\u001b[0m\u001b[0mfit\u001b[0m\u001b[0;34m(\u001b[0m\u001b[0mXr\u001b[0m\u001b[0;34m,\u001b[0m \u001b[0mYr\u001b[0m\u001b[0;34m,\u001b[0m \u001b[0mbatch_size\u001b[0m \u001b[0;34m=\u001b[0m \u001b[0;36m32\u001b[0m\u001b[0;34m,\u001b[0m \u001b[0mnb_epoch\u001b[0m\u001b[0;34m=\u001b[0m\u001b[0mparams\u001b[0m\u001b[0;34m[\u001b[0m\u001b[0;34m'nb'\u001b[0m\u001b[0;34m]\u001b[0m\u001b[0;34m,\u001b[0m \u001b[0mverbose\u001b[0m\u001b[0;34m=\u001b[0m\u001b[0;36m0\u001b[0m\u001b[0;34m,\u001b[0m \u001b[0mvalidation_split\u001b[0m\u001b[0;34m=\u001b[0m\u001b[0;36m0.0\u001b[0m\u001b[0;34m)\u001b[0m\u001b[0;34m\u001b[0m\u001b[0m\n\u001b[0m\u001b[1;32m     28\u001b[0m         \u001b[0mresult\u001b[0m \u001b[0;34m=\u001b[0m \u001b[0mmodel\u001b[0m\u001b[0;34m.\u001b[0m\u001b[0mpredict\u001b[0m\u001b[0;34m(\u001b[0m\u001b[0mXt\u001b[0m\u001b[0;34m)\u001b[0m\u001b[0;34m\u001b[0m\u001b[0m\n\u001b[1;32m     29\u001b[0m         \u001b[0;32mreturn\u001b[0m \u001b[0mresult\u001b[0m\u001b[0;34m[\u001b[0m\u001b[0;34m:\u001b[0m\u001b[0;34m,\u001b[0m\u001b[0;36m0\u001b[0m\u001b[0;34m]\u001b[0m\u001b[0;34m\u001b[0m\u001b[0m\n",
      "\u001b[0;32m//anaconda/lib/python3.5/site-packages/Keras-1.1.0-py3.5.egg/keras/models.py\u001b[0m in \u001b[0;36mfit\u001b[0;34m(self, x, y, batch_size, nb_epoch, verbose, callbacks, validation_split, validation_data, shuffle, class_weight, sample_weight, **kwargs)\u001b[0m\n\u001b[1;32m    618\u001b[0m                               \u001b[0mshuffle\u001b[0m\u001b[0;34m=\u001b[0m\u001b[0mshuffle\u001b[0m\u001b[0;34m,\u001b[0m\u001b[0;34m\u001b[0m\u001b[0m\n\u001b[1;32m    619\u001b[0m                               \u001b[0mclass_weight\u001b[0m\u001b[0;34m=\u001b[0m\u001b[0mclass_weight\u001b[0m\u001b[0;34m,\u001b[0m\u001b[0;34m\u001b[0m\u001b[0m\n\u001b[0;32m--> 620\u001b[0;31m                               sample_weight=sample_weight)\n\u001b[0m\u001b[1;32m    621\u001b[0m \u001b[0;34m\u001b[0m\u001b[0m\n\u001b[1;32m    622\u001b[0m     def evaluate(self, x, y, batch_size=32, verbose=1,\n",
      "\u001b[0;32m//anaconda/lib/python3.5/site-packages/Keras-1.1.0-py3.5.egg/keras/engine/training.py\u001b[0m in \u001b[0;36mfit\u001b[0;34m(self, x, y, batch_size, nb_epoch, verbose, callbacks, validation_split, validation_data, shuffle, class_weight, sample_weight)\u001b[0m\n\u001b[1;32m   1117\u001b[0m                               \u001b[0mverbose\u001b[0m\u001b[0;34m=\u001b[0m\u001b[0mverbose\u001b[0m\u001b[0;34m,\u001b[0m \u001b[0mcallbacks\u001b[0m\u001b[0;34m=\u001b[0m\u001b[0mcallbacks\u001b[0m\u001b[0;34m,\u001b[0m\u001b[0;34m\u001b[0m\u001b[0m\n\u001b[1;32m   1118\u001b[0m                               \u001b[0mval_f\u001b[0m\u001b[0;34m=\u001b[0m\u001b[0mval_f\u001b[0m\u001b[0;34m,\u001b[0m \u001b[0mval_ins\u001b[0m\u001b[0;34m=\u001b[0m\u001b[0mval_ins\u001b[0m\u001b[0;34m,\u001b[0m \u001b[0mshuffle\u001b[0m\u001b[0;34m=\u001b[0m\u001b[0mshuffle\u001b[0m\u001b[0;34m,\u001b[0m\u001b[0;34m\u001b[0m\u001b[0m\n\u001b[0;32m-> 1119\u001b[0;31m                               callback_metrics=callback_metrics)\n\u001b[0m\u001b[1;32m   1120\u001b[0m \u001b[0;34m\u001b[0m\u001b[0m\n\u001b[1;32m   1121\u001b[0m     \u001b[0;32mdef\u001b[0m \u001b[0mevaluate\u001b[0m\u001b[0;34m(\u001b[0m\u001b[0mself\u001b[0m\u001b[0;34m,\u001b[0m \u001b[0mx\u001b[0m\u001b[0;34m,\u001b[0m \u001b[0my\u001b[0m\u001b[0;34m,\u001b[0m \u001b[0mbatch_size\u001b[0m\u001b[0;34m=\u001b[0m\u001b[0;36m32\u001b[0m\u001b[0;34m,\u001b[0m \u001b[0mverbose\u001b[0m\u001b[0;34m=\u001b[0m\u001b[0;36m1\u001b[0m\u001b[0;34m,\u001b[0m \u001b[0msample_weight\u001b[0m\u001b[0;34m=\u001b[0m\u001b[0;32mNone\u001b[0m\u001b[0;34m)\u001b[0m\u001b[0;34m:\u001b[0m\u001b[0;34m\u001b[0m\u001b[0m\n",
      "\u001b[0;32m//anaconda/lib/python3.5/site-packages/Keras-1.1.0-py3.5.egg/keras/engine/training.py\u001b[0m in \u001b[0;36m_fit_loop\u001b[0;34m(self, f, ins, out_labels, batch_size, nb_epoch, verbose, callbacks, val_f, val_ins, shuffle, callback_metrics)\u001b[0m\n\u001b[1;32m    835\u001b[0m                 \u001b[0mbatch_logs\u001b[0m\u001b[0;34m[\u001b[0m\u001b[0;34m'size'\u001b[0m\u001b[0;34m]\u001b[0m \u001b[0;34m=\u001b[0m \u001b[0mlen\u001b[0m\u001b[0;34m(\u001b[0m\u001b[0mbatch_ids\u001b[0m\u001b[0;34m)\u001b[0m\u001b[0;34m\u001b[0m\u001b[0m\n\u001b[1;32m    836\u001b[0m                 \u001b[0mcallbacks\u001b[0m\u001b[0;34m.\u001b[0m\u001b[0mon_batch_begin\u001b[0m\u001b[0;34m(\u001b[0m\u001b[0mbatch_index\u001b[0m\u001b[0;34m,\u001b[0m \u001b[0mbatch_logs\u001b[0m\u001b[0;34m)\u001b[0m\u001b[0;34m\u001b[0m\u001b[0m\n\u001b[0;32m--> 837\u001b[0;31m                 \u001b[0mouts\u001b[0m \u001b[0;34m=\u001b[0m \u001b[0mf\u001b[0m\u001b[0;34m(\u001b[0m\u001b[0mins_batch\u001b[0m\u001b[0;34m)\u001b[0m\u001b[0;34m\u001b[0m\u001b[0m\n\u001b[0m\u001b[1;32m    838\u001b[0m                 \u001b[0;32mif\u001b[0m \u001b[0mtype\u001b[0m\u001b[0;34m(\u001b[0m\u001b[0mouts\u001b[0m\u001b[0;34m)\u001b[0m \u001b[0;34m!=\u001b[0m \u001b[0mlist\u001b[0m\u001b[0;34m:\u001b[0m\u001b[0;34m\u001b[0m\u001b[0m\n\u001b[1;32m    839\u001b[0m                     \u001b[0mouts\u001b[0m \u001b[0;34m=\u001b[0m \u001b[0;34m[\u001b[0m\u001b[0mouts\u001b[0m\u001b[0;34m]\u001b[0m\u001b[0;34m\u001b[0m\u001b[0m\n",
      "\u001b[0;32m//anaconda/lib/python3.5/site-packages/Keras-1.1.0-py3.5.egg/keras/backend/theano_backend.py\u001b[0m in \u001b[0;36m__call__\u001b[0;34m(self, inputs)\u001b[0m\n\u001b[1;32m    728\u001b[0m     \u001b[0;32mdef\u001b[0m \u001b[0m__call__\u001b[0m\u001b[0;34m(\u001b[0m\u001b[0mself\u001b[0m\u001b[0;34m,\u001b[0m \u001b[0minputs\u001b[0m\u001b[0;34m)\u001b[0m\u001b[0;34m:\u001b[0m\u001b[0;34m\u001b[0m\u001b[0m\n\u001b[1;32m    729\u001b[0m         \u001b[0;32massert\u001b[0m \u001b[0mtype\u001b[0m\u001b[0;34m(\u001b[0m\u001b[0minputs\u001b[0m\u001b[0;34m)\u001b[0m \u001b[0;32min\u001b[0m \u001b[0;34m{\u001b[0m\u001b[0mlist\u001b[0m\u001b[0;34m,\u001b[0m \u001b[0mtuple\u001b[0m\u001b[0;34m}\u001b[0m\u001b[0;34m\u001b[0m\u001b[0m\n\u001b[0;32m--> 730\u001b[0;31m         \u001b[0;32mreturn\u001b[0m \u001b[0mself\u001b[0m\u001b[0;34m.\u001b[0m\u001b[0mfunction\u001b[0m\u001b[0;34m(\u001b[0m\u001b[0;34m*\u001b[0m\u001b[0minputs\u001b[0m\u001b[0;34m)\u001b[0m\u001b[0;34m\u001b[0m\u001b[0m\n\u001b[0m\u001b[1;32m    731\u001b[0m \u001b[0;34m\u001b[0m\u001b[0m\n\u001b[1;32m    732\u001b[0m \u001b[0;34m\u001b[0m\u001b[0m\n",
      "\u001b[0;32m//anaconda/lib/python3.5/site-packages/theano/compile/function_module.py\u001b[0m in \u001b[0;36m__call__\u001b[0;34m(self, *args, **kwargs)\u001b[0m\n\u001b[1;32m    857\u001b[0m         \u001b[0mt0_fn\u001b[0m \u001b[0;34m=\u001b[0m \u001b[0mtime\u001b[0m\u001b[0;34m.\u001b[0m\u001b[0mtime\u001b[0m\u001b[0;34m(\u001b[0m\u001b[0;34m)\u001b[0m\u001b[0;34m\u001b[0m\u001b[0m\n\u001b[1;32m    858\u001b[0m         \u001b[0;32mtry\u001b[0m\u001b[0;34m:\u001b[0m\u001b[0;34m\u001b[0m\u001b[0m\n\u001b[0;32m--> 859\u001b[0;31m             \u001b[0moutputs\u001b[0m \u001b[0;34m=\u001b[0m \u001b[0mself\u001b[0m\u001b[0;34m.\u001b[0m\u001b[0mfn\u001b[0m\u001b[0;34m(\u001b[0m\u001b[0;34m)\u001b[0m\u001b[0;34m\u001b[0m\u001b[0m\n\u001b[0m\u001b[1;32m    860\u001b[0m         \u001b[0;32mexcept\u001b[0m \u001b[0mException\u001b[0m\u001b[0;34m:\u001b[0m\u001b[0;34m\u001b[0m\u001b[0m\n\u001b[1;32m    861\u001b[0m             \u001b[0;32mif\u001b[0m \u001b[0mhasattr\u001b[0m\u001b[0;34m(\u001b[0m\u001b[0mself\u001b[0m\u001b[0;34m.\u001b[0m\u001b[0mfn\u001b[0m\u001b[0;34m,\u001b[0m \u001b[0;34m'position_of_error'\u001b[0m\u001b[0;34m)\u001b[0m\u001b[0;34m:\u001b[0m\u001b[0;34m\u001b[0m\u001b[0m\n",
      "\u001b[0;31mKeyboardInterrupt\u001b[0m: "
     ]
    }
   ],
   "source": [
    "start = 1\n",
    "nneurons = np.shape(y)[0]\n",
    "\n",
    "nn_p=list()\n",
    "glm_p= list()\n",
    "\n",
    "for i in range(start,nneurons):\n",
    "    \n",
    "    \n",
    "\n",
    "    X,y = get_data(i)\n",
    "    Xr, Xt, Yr, Yt = train_test_split(X, y, random_state=42, test_size=0.2)\n",
    "\n",
    "    # Get R's coefficients (still don't trust pyglmnet)\n",
    "    yr = ro.FloatVector(Yr) # use factors\n",
    "    trained_model = r['glmnet'](Xr, yr, family=\"poisson\",alpha = 0.1)\n",
    "    lambda_min = np.asanyarray(trained_model.rx2('lambda'))[-1]\n",
    "    Yt = r['predict'](trained_model,s=lambda_min,newx=Xt,type=\"response\")\n",
    "    betas = np.asanyarray(r['as.matrix'](trained_model.rx2('beta')))[:,-1]\n",
    "    beta0 = np.asanyarray(r['as.matrix'](trained_model.rx2('a0')))[-1]\n",
    "\n",
    "    # Simulate\n",
    "    glm_simulator = GLM(distr='softplus')\n",
    "    y_sim = glm_simulator.simulate(beta0, betas, X)\n",
    "    \n",
    "    # Fit to data\n",
    "    YThat, PR2 = fit_cv(X, y_sim, algorithm = 'r_glmnet', n_cv=8, verbose=1, label=[])\n",
    "\n",
    "    YThat, PR2_nn = fit_cv(X, y_sim, algorithm = 'nn_orig', n_cv=8, verbose=2, label=[])\n",
    "    print(np.mean(PR2), np.mean(PR2_nn))\n",
    "    nn_p.append(PR2_nn)\n",
    "    glm_p.append(PR2)\n"
   ]
  },
  {
   "cell_type": "code",
   "execution_count": 30,
   "metadata": {
    "collapsed": true
   },
   "outputs": [],
   "source": [
    "X,y = get_data(29)\n",
    "Xr, Xt, Yr, Yt = train_test_split(X, y, random_state=42, test_size=0.2)\n",
    "\n",
    "# Get R's coefficients (still don't trust pyglmnet)\n",
    "yr = ro.FloatVector(Yr) # use factors\n",
    "trained_model = r['glmnet'](Xr, yr, family=\"poisson\",alpha = 0.1)\n",
    "lambda_min = np.asanyarray(trained_model.rx2('lambda'))[-1]\n",
    "Yt = r['predict'](trained_model,s=lambda_min,newx=Xt,type=\"response\")\n",
    "betas = np.asanyarray(r['as.matrix'](trained_model.rx2('beta')))[:,-1]\n",
    "beta0 = np.asanyarray(r['as.matrix'](trained_model.rx2('a0')))[-1]"
   ]
  },
  {
   "cell_type": "code",
   "execution_count": 32,
   "metadata": {
    "collapsed": false
   },
   "outputs": [
    {
     "name": "stdout",
     "output_type": "stream",
     "text": [
      "[ 0.02459741 -0.05103479  0.00178928 -0.00513995] [-1.21930036]\n"
     ]
    }
   ],
   "source": [
    "print(betas,beta0)"
   ]
  },
  {
   "cell_type": "markdown",
   "metadata": {},
   "source": [
    "Or try with just simulated inputs:"
   ]
  },
  {
   "cell_type": "code",
   "execution_count": 68,
   "metadata": {
    "collapsed": false
   },
   "outputs": [
    {
     "name": "stdout",
     "output_type": "stream",
     "text": [
      "\n",
      "real PR2 is 0.108842000519\n",
      "\n",
      "pR2_cv: 0.043998 (+/- 0.004352)\n",
      "pR2_cv: 0.051173 (+/- 0.019838)\n",
      "0.0439984907489 0.0511727813209\n",
      "\n",
      "real PR2 is 0.0148400202684\n",
      "\n",
      "pR2_cv: -0.000005 (+/- 0.000060)\n",
      "pR2_cv: -0.041934 (+/- 0.017383)\n",
      "-4.87898321871e-06 -0.0419339265933\n",
      "\n",
      "real PR2 is 0.0540514586157\n",
      "\n",
      "pR2_cv: 0.015770 (+/- 0.000973)\n",
      "pR2_cv: 0.028001 (+/- 0.016422)\n",
      "0.0157704377363 0.0280014957847\n",
      "\n",
      "real PR2 is 0.0339064794887\n",
      "\n",
      "pR2_cv: 0.005136 (+/- 0.000789)\n",
      "pR2_cv: -0.017122 (+/- 0.005966)\n",
      "0.00513560679416 -0.0171219559262\n",
      "\n",
      "real PR2 is 0.0374904529539\n",
      "\n",
      "pR2_cv: -0.000056 (+/- 0.000075)\n",
      "pR2_cv: -0.007852 (+/- 0.019878)\n",
      "-5.60648951478e-05 -0.00785221710943\n",
      "\n",
      "real PR2 is 0.0435401070436\n",
      "\n",
      "pR2_cv: 0.000912 (+/- 0.000323)\n",
      "pR2_cv: 0.002573 (+/- 0.016121)\n",
      "0.000911671202884 0.00257316522479\n",
      "\n",
      "real PR2 is 0.0568676377664\n",
      "\n",
      "pR2_cv: -0.000001 (+/- 0.000077)\n",
      "pR2_cv: 0.024862 (+/- 0.013930)\n",
      "-1.30224527956e-06 0.0248615164742\n",
      "\n",
      "real PR2 is 0.0540454658854\n",
      "\n",
      "pR2_cv: 0.013608 (+/- 0.000829)\n",
      "pR2_cv: 0.005729 (+/- 0.029515)\n",
      "0.0136075786411 0.00572899815132\n",
      "\n",
      "real PR2 is 0.0582762390632\n",
      "\n",
      "pR2_cv: 0.016097 (+/- 0.000805)\n",
      "pR2_cv: 0.022115 (+/- 0.012764)\n",
      "0.0160966247217 0.0221154943074\n",
      "\n",
      "real PR2 is 0.00806477262236\n",
      "\n",
      "pR2_cv: -0.000138 (+/- 0.000065)\n",
      "pR2_cv: -0.032067 (+/- 0.012764)\n",
      "-0.000137814907303 -0.0320672448057\n"
     ]
    }
   ],
   "source": [
    "\n",
    "\n",
    "\n",
    "nn_p_sim=list()\n",
    "glm_p_sim= list()\n",
    "\n",
    "for i in range(10):\n",
    "    \n",
    "    \n",
    "\n",
    "    beta0, beta, X, y = simulate_data(1000, 10, 0, 0, 0.5, .2)\n",
    "    YThat, PR2 = fit_cv(X, y, algorithm = 'r_glmnet', n_cv=8, verbose=0, label=[])\n",
    "    print('\\nreal PR2 is %s\\n'%np.mean(PR2))\n",
    "    #print(beta0,beta)\n",
    "    Xr, Xt, Yr, Yt = train_test_split(X, y, random_state=42, test_size=0.2)\n",
    "\n",
    "    # Get R's coefficients (still don't trust pyglmnet)\n",
    "#     yr = ro.FloatVector(Yr) # use factors\n",
    "#     trained_model = r['glmnet'](Xr, yr, family=\"poisson\",alpha = 0.1)\n",
    "#     lambda_min = np.asanyarray(trained_model.rx2('lambda'))[-1]\n",
    "#     Yt = r['predict'](trained_model,s=lambda_min,newx=Xt,type=\"response\")\n",
    "#     betas = np.asanyarray(r['as.matrix'](trained_model.rx2('beta')))[:,-1]\n",
    "#     beta0 = np.asanyarray(r['as.matrix'](trained_model.rx2('a0')))[-1]\n",
    "    #print(beta0,betas)\n",
    "    # Simulate\n",
    "#     glm_simulator = GLM(distr='softplus')\n",
    "#     y_sim = glm_simulator.simulate(beta0, beta, X)\n",
    "    \n",
    "    # Fit to data\n",
    "    YThat, PR2 = fit_cv(X, y, algorithm = 'glm_pyglmnet', n_cv=8, verbose=1, label=[])\n",
    "\n",
    "    YThat, PR2_nn = fit_cv(X, y, algorithm = 'nn_orig', n_cv=8, verbose=1, label=[])\n",
    "    print(np.mean(PR2), np.mean(PR2_nn))\n",
    "    nn_p_sim.append(PR2_nn)\n",
    "    glm_p_sim.append(PR2)\n"
   ]
  },
  {
   "cell_type": "code",
   "execution_count": 69,
   "metadata": {
    "collapsed": false
   },
   "outputs": [
    {
     "data": {
      "text/plain": [
       "<matplotlib.collections.PathCollection at 0x125d189e8>"
      ]
     },
     "execution_count": 69,
     "metadata": {},
     "output_type": "execute_result"
    },
    {
     "data": {
      "image/png": "[encoded data removed]",
      "text/plain": [
       "<matplotlib.figure.Figure at 0x1290acef0>"
      ]
     },
     "metadata": {},
     "output_type": "display_data"
    }
   ],
   "source": [
    "plt.scatter(np.mean(glm_p_sim,axis=1),np.mean(nn_p_sim,axis=1))"
   ]
  },
  {
   "cell_type": "code",
   "execution_count": 59,
   "metadata": {
    "collapsed": false
   },
   "outputs": [
    {
     "data": {
      "text/plain": [
       "array([-0.0173686 , -0.00733141,  0.01033599, -0.00949389,  0.00642008,\n",
       "       -0.00783683, -0.00365219, -0.00728438, -0.00495456,  0.00562816])"
      ]
     },
     "execution_count": 59,
     "metadata": {},
     "output_type": "execute_result"
    }
   ],
   "source": [
    "np.mean(glm_p_sim,axis=1)"
   ]
  },
  {
   "cell_type": "code",
   "execution_count": null,
   "metadata": {
    "collapsed": true
   },
   "outputs": [],
   "source": []
  }
 ],
 "metadata": {
  "anaconda-cloud": {},
  "kernelspec": {
   "display_name": "Python [Root]",
   "language": "python",
   "name": "Python [Root]"
  },
  "language_info": {
   "codemirror_mode": {
    "name": "ipython",
    "version": 3
   },
   "file_extension": ".py",
   "mimetype": "text/x-python",
   "name": "python",
   "nbconvert_exporter": "python",
   "pygments_lexer": "ipython3",
   "version": "3.5.2"
  }
 },
 "nbformat": 4,
 "nbformat_minor": 0
}
