{
 "cells": [
  {
   "cell_type": "markdown",
   "metadata": {},
   "source": [
    "# Simulation comparing GLMs and NNs"
   ]
  },
  {
   "cell_type": "markdown",
   "metadata": {},
   "source": [
    "## Imports"
   ]
  },
  {
   "cell_type": "code",
   "execution_count": 1,
   "metadata": {
    "collapsed": false
   },
   "outputs": [
    {
     "name": "stderr",
     "output_type": "stream",
     "text": [
      "//anaconda/lib/python3.5/site-packages/sklearn/cross_validation.py:44: DeprecationWarning: This module was deprecated in version 0.18 in favor of the model_selection module into which all the refactored classes and functions are moved. Also note that the interface of the new CV iterators are different from that of this module. This module will be removed in 0.20.\n",
      "  \"This module will be removed in 0.20.\", DeprecationWarning)\n",
      "Using Theano backend.\n"
     ]
    }
   ],
   "source": [
    "import numpy as np\n",
    "from sklearn.cross_validation import train_test_split\n",
    "from scipy import stats\n",
    "import scipy.sparse as sps\n",
    "\n",
    "# GLM\n",
    "from pyglmnet import GLM\n",
    "\n",
    "# NNs\n",
    "import keras\n",
    "from keras.models import Sequential\n",
    "from keras.layers.core import Dense, Dropout\n",
    "from keras.layers.normalization import BatchNormalization\n",
    "\n",
    "# Plotting\n",
    "import matplotlib.pyplot as plt\n",
    "% matplotlib inline"
   ]
  },
  {
   "cell_type": "markdown",
   "metadata": {},
   "source": [
    "## Simulate data"
   ]
  },
  {
   "cell_type": "code",
   "execution_count": 103,
   "metadata": {
    "collapsed": true
   },
   "outputs": [],
   "source": [
    "def simulate_data(n_samples, n_features, scale_min, scale_max, density, effect_size_factor):\n",
    "\n",
    "    # Sample design matrix\n",
    "    X = np.random.randn(n_samples, n_features)\n",
    "    \n",
    "    # Rescale\n",
    "    scale_factor = np.logspace(scale_min, scale_max, n_features)\n",
    "    for f in range(n_features):\n",
    "        X[:, f] = scale_factor[f] * X[:, f]\n",
    "    \n",
    "    # Sample beta0\n",
    "    beta0 = np.random.randn(1)*effect_size_factor\n",
    "    \n",
    "    # Sample sparse beta\n",
    "    rvs = stats.norm(loc=0.0, scale=1.0).rvs\n",
    "    tmp = sps.random(n_features, 1, density=density, data_rvs=rvs)\n",
    "    beta = np.squeeze(tmp.toarray())*effect_size_factor\n",
    "    \n",
    "    # Sample y ~ Poisson(exp(beta0 + X * beta))\n",
    "    glm_simulator = GLM(distr='softplus')\n",
    "    y = glm_simulator.simulate(beta0, beta, X)\n",
    "    \n",
    "    return beta0, beta, X, y"
   ]
  },
  {
   "cell_type": "code",
   "execution_count": 67,
   "metadata": {
    "collapsed": true
   },
   "outputs": [],
   "source": [
    "n_samples = 1000\n",
    "n_features = 10\n",
    "scale_min = 0.0001\n",
    "scale_max = 1.0\n",
    "density = 0.5\n",
    "effect_size_factor = 1"
   ]
  },
  {
   "cell_type": "code",
   "execution_count": 68,
   "metadata": {
    "collapsed": false
   },
   "outputs": [],
   "source": [
    "beta0, beta, X, y = simulate_data(n_samples, n_features, scale_min, scale_max, density, effect_size_factor)"
   ]
  },
  {
   "cell_type": "code",
   "execution_count": 69,
   "metadata": {
    "collapsed": true
   },
   "outputs": [],
   "source": [
    "X_train, X_test, y_train, y_test = train_test_split(X, y, random_state=42, test_size=0.2)"
   ]
  },
  {
   "cell_type": "markdown",
   "metadata": {},
   "source": [
    "## Fit models"
   ]
  },
  {
   "cell_type": "markdown",
   "metadata": {},
   "source": [
    "### GLMs "
   ]
  },
  {
   "cell_type": "code",
   "execution_count": 70,
   "metadata": {
    "collapsed": false
   },
   "outputs": [],
   "source": [
    "glm = GLM(distr='softplus',\n",
    "          alpha=0.1,\n",
    "          tol=1e-8,\n",
    "          reg_lambda=np.logspace(np.log(0.5), np.log(0.01), 10, base=np.exp(1)),\n",
    "          learning_rate=0.01,\n",
    "          solver='batch-gradient',\n",
    "          max_iter=10000,\n",
    "          random_state=1,\n",
    "          score_metric='pseudo_R2')"
   ]
  },
  {
   "cell_type": "code",
   "execution_count": 71,
   "metadata": {
    "collapsed": false
   },
   "outputs": [
    {
     "name": "stdout",
     "output_type": "stream",
     "text": [
      "[ 0.95384044] [ 0.94737693]\n"
     ]
    }
   ],
   "source": [
    "glm.fit(X_train, y_train)\n",
    "glm_r2_train = glm[-1].score(X_train, y_train)\n",
    "glm_r2_test = glm[-1].score(X_test, y_test)\n",
    "print(glm_r2_train, glm_r2_test)"
   ]
  },
  {
   "cell_type": "code",
   "execution_count": 72,
   "metadata": {
    "collapsed": false
   },
   "outputs": [],
   "source": [
    "y_train_hat = glm[-1].predict(X_train)\n",
    "y_test_hat = glm[-1].predict(X_test)"
   ]
  },
  {
   "cell_type": "code",
   "execution_count": 73,
   "metadata": {
    "collapsed": false
   },
   "outputs": [
    {
     "data": {
      "image/png": "[encoded data removed]",
      "text/plain": [
       "<matplotlib.figure.Figure at 0x120177c18>"
      ]
     },
     "metadata": {},
     "output_type": "display_data"
    }
   ],
   "source": [
    "plt.plot(y_test, y_test_hat, 'ro', alpha=0.2)\n",
    "plt.show()"
   ]
  },
  {
   "cell_type": "markdown",
   "metadata": {},
   "source": [
    "## Neural Networks"
   ]
  },
  {
   "cell_type": "code",
   "execution_count": 60,
   "metadata": {
    "collapsed": true
   },
   "outputs": [],
   "source": [
    "def keras_model(n_features, n_layer1, n_layer2):\n",
    "    model = Sequential()\n",
    "    \n",
    "    model.add(Dense(input_dim=n_features, output_dim=n_layer1, init='glorot_uniform', activation='relu'))\n",
    "    model.add(Dropout(0.5))\n",
    "    #model.add(BatchNormalization())\n",
    "    \n",
    "    model.add(Dense(input_dim=n_features, output_dim=n_layer2, init='glorot_uniform', activation='relu'))\n",
    "    model.add(Dropout(0.5))\n",
    "    #model.add(BatchNormalization())\n",
    "    \n",
    "    model.add(Dense(output_dim=1, activation='softplus'))\n",
    "    \n",
    "    model.compile(loss='poisson', optimizer='rmsprop')\n",
    "    return model"
   ]
  },
  {
   "cell_type": "code",
   "execution_count": 15,
   "metadata": {
    "collapsed": false
   },
   "outputs": [
    {
     "name": "stderr",
     "output_type": "stream",
     "text": [
      "WARNING (theano.gof.compilelock): Overriding existing lock by dead process '3020' (I am process '783')\n"
     ]
    }
   ],
   "source": [
    "nn = keras_model(n_features, 1980, 18)"
   ]
  },
  {
   "cell_type": "code",
   "execution_count": 74,
   "metadata": {
    "collapsed": false
   },
   "outputs": [
    {
     "name": "stdout",
     "output_type": "stream",
     "text": [
      "Epoch 1/10\n",
      "800/800 [==============================] - 0s - loss: -8.6667     \n",
      "Epoch 2/10\n",
      "800/800 [==============================] - 0s - loss: -14.4480     \n",
      "Epoch 3/10\n",
      "800/800 [==============================] - 0s - loss: -17.1454     \n",
      "Epoch 4/10\n",
      "800/800 [==============================] - 0s - loss: -17.8227     \n",
      "Epoch 5/10\n",
      "800/800 [==============================] - 0s - loss: -17.9667     \n",
      "Epoch 6/10\n",
      "800/800 [==============================] - 0s - loss: -18.3855     \n",
      "Epoch 7/10\n",
      "800/800 [==============================] - 0s - loss: -18.3902     \n",
      "Epoch 8/10\n",
      "800/800 [==============================] - 0s - loss: -18.3702     \n",
      "Epoch 9/10\n",
      "800/800 [==============================] - 0s - loss: -18.4107     \n",
      "Epoch 10/10\n",
      "800/800 [==============================] - 0s - loss: -18.3486     \n"
     ]
    },
    {
     "data": {
      "text/plain": [
       "<keras.callbacks.History at 0x1212319b0>"
      ]
     },
     "execution_count": 74,
     "metadata": {},
     "output_type": "execute_result"
    }
   ],
   "source": [
    "nn.fit(X_train, y_train, nb_epoch=10, batch_size=32)"
   ]
  },
  {
   "cell_type": "code",
   "execution_count": 75,
   "metadata": {
    "collapsed": true
   },
   "outputs": [],
   "source": [
    "y_train_hat = nn.predict(X_train)\n",
    "y_test_hat = nn.predict(X_test)"
   ]
  },
  {
   "cell_type": "code",
   "execution_count": 76,
   "metadata": {
    "collapsed": true
   },
   "outputs": [],
   "source": [
    "def poisson_pseudoR2(y, yhat, ynull):\n",
    "    eps = np.spacing(1)\n",
    "    L1 = np.sum(y * np.log(eps + yhat) - yhat)\n",
    "    L0 = np.sum(y * np.log(eps + ynull) - ynull)\n",
    "    LS = np.sum(y * np.log(eps + y) - y)\n",
    "    R2 = 1 -(LS - L1) / (LS - L0)\n",
    "    return R2"
   ]
  },
  {
   "cell_type": "code",
   "execution_count": 77,
   "metadata": {
    "collapsed": false
   },
   "outputs": [
    {
     "name": "stdout",
     "output_type": "stream",
     "text": [
      "0.963148038445 0.948162734057\n"
     ]
    }
   ],
   "source": [
    "nn_r2_train = poisson_pseudoR2(y_train, np.squeeze(y_train_hat), np.mean(y_train))\n",
    "nn_r2_test = poisson_pseudoR2(y_test, np.squeeze(y_test_hat), np.mean(y_train))\n",
    "print(nn_r2_train, nn_r2_test)"
   ]
  },
  {
   "cell_type": "code",
   "execution_count": 78,
   "metadata": {
    "collapsed": false
   },
   "outputs": [
    {
     "data": {
      "image/png": "[encoded data removed]",
      "text/plain": [
       "<matplotlib.figure.Figure at 0x117c173c8>"
      ]
     },
     "metadata": {},
     "output_type": "display_data"
    }
   ],
   "source": [
    "plt.plot(y_test, y_test_hat, 'bo', alpha=0.2)\n",
    "plt.show()"
   ]
  },
  {
   "cell_type": "markdown",
   "metadata": {
    "collapsed": true
   },
   "source": [
    "### Simulate with current convenience functions"
   ]
  },
  {
   "cell_type": "code",
   "execution_count": 44,
   "metadata": {
    "collapsed": true
   },
   "outputs": [],
   "source": [
    "from sklearn.cross_validation import KFold\n",
    "\n",
    "def glm_pyglmnet(Xr, Yr, Xt):\n",
    "    glm = GLM(distr='softplus',\n",
    "          alpha=0.1,\n",
    "          tol=1e-8,\n",
    "          reg_lambda=np.logspace(np.log(0.5), np.log(0.01), 10, base=np.exp(1)),\n",
    "          learning_rate=0.01,\n",
    "          solver='batch-gradient',\n",
    "          max_iter=10000,\n",
    "          random_state=1,\n",
    "          score_metric='pseudo_R2')\n",
    "    \n",
    "    glm.fit(Xr, Yr)\n",
    "    Yt = glm[-1].predict(Xt)\n",
    "    \n",
    "    return Yt\n",
    "\n",
    "def fit_cv(X, Y, algorithm = 'glm_pyglmnet', n_cv=10, verbose=1, label=[],func=None):\n",
    "\n",
    "    if np.ndim(X)==1:\n",
    "        X = np.transpose(np.atleast_2d(X))\n",
    "\n",
    "    if len(label)>0:\n",
    "        skf  = LabelKFold(np.squeeze(label), n_folds=n_cv)\n",
    "    else:\n",
    "        skf  = KFold(n=np.size(Y), n_folds=n_cv, shuffle=True, random_state=42)\n",
    "\n",
    "    i=1\n",
    "    Y_hat=np.zeros(len(Y))\n",
    "    pR2_cv = list()\n",
    "    for idx_r, idx_t in skf:\n",
    "        if verbose > 1:\n",
    "            print( '...runnning cv-fold', i, 'of', n_cv)\n",
    "        i+=1\n",
    "        Xr = X[idx_r, :]\n",
    "        Yr = Y[idx_r]\n",
    "        Xt = X[idx_t, :]\n",
    "        Yt = Y[idx_t]\n",
    "\n",
    "        if func:\n",
    "            Yt_hat = func(Xr, Yr, Xt)\n",
    "        else:\n",
    "            Yt_hat = eval(algorithm)(Xr, Yr, Xt)\n",
    "        Y_hat[idx_t] = Yt_hat\n",
    "\n",
    "        pR2 = poisson_pseudoR2(Yt, Yt_hat, np.mean(Yr))\n",
    "        pR2_cv.append(pR2)\n",
    "\n",
    "        if verbose > 1:\n",
    "            print( 'pR2: ', pR2)\n",
    "\n",
    "    if verbose > 2:\n",
    "        print(\"Mean y: \"+str(np.mean(Y))+\", mean yhat: \"+str(np.mean(Y_hat)))\n",
    "    if verbose > 0:\n",
    "        print(\"pR2_cv: %0.6f (+/- %0.6f)\" % (np.mean(pR2_cv),\n",
    "                                     np.std(pR2_cv)/np.sqrt(n_cv)))\n",
    "\n",
    "    \n",
    "    return Y_hat, pR2_cv"
   ]
  },
  {
   "cell_type": "code",
   "execution_count": 34,
   "metadata": {
    "collapsed": true
   },
   "outputs": [],
   "source": [
    "## the neural net from above\n",
    "def nn_eval(Xr, Yr, Xt):\n",
    "    if np.ndim(Xr)==1:\n",
    "        Xr = np.transpose(np.atleast_2d(Xr))\n",
    "\n",
    "    hist = nn.fit(X_train, y_train, nb_epoch=10, batch_size=32,verbose=0)\n",
    "    result = nn.predict_proba(Xt)\n",
    "    return result[:,0]\n"
   ]
  },
  {
   "cell_type": "code",
   "execution_count": 35,
   "metadata": {
    "collapsed": false
   },
   "outputs": [
    {
     "name": "stdout",
     "output_type": "stream",
     "text": [
      "...runnning cv-fold 1 of 5\n",
      " 32/200 [===>..........................] - ETA: 0spR2:  0.93652332524\n",
      "...runnning cv-fold 2 of 5\n"
     ]
    },
    {
     "name": "stderr",
     "output_type": "stream",
     "text": [
      "//anaconda/lib/python3.5/site-packages/Keras-1.1.0-py3.5.egg/keras/models.py:760: UserWarning: Network returning invalid probability values. The last layer might not normalize predictions into probabilities (like softmax or sigmoid would).\n",
      "  warnings.warn('Network returning invalid probability values. '\n"
     ]
    },
    {
     "name": "stdout",
     "output_type": "stream",
     "text": [
      " 32/200 [===>..........................] - ETA: 0spR2:  0.980601330616\n",
      "...runnning cv-fold 3 of 5\n",
      " 32/200 [===>..........................] - ETA: 0spR2:  0.979704993713\n",
      "...runnning cv-fold 4 of 5\n",
      " 32/200 [===>..........................] - ETA: 0spR2:  0.982490283785\n",
      "...runnning cv-fold 5 of 5\n",
      " 32/200 [===>..........................] - ETA: 0spR2:  0.985956707142\n",
      "pR2_cv: 0.973055 (+/- 0.008225)\n"
     ]
    }
   ],
   "source": [
    "\n",
    "YThat, PR2 = fit_cv(X, y, algorithm = 'nn_eval', n_cv=5, verbose=2, label=[])"
   ]
  },
  {
   "cell_type": "markdown",
   "metadata": {},
   "source": [
    "Same result. Perhaps the error is with the current neural net parameters?"
   ]
  },
  {
   "cell_type": "code",
   "execution_count": 39,
   "metadata": {
    "collapsed": true
   },
   "outputs": [],
   "source": [
    "from keras.optimizers import Nadam\n",
    "from keras.layers.advanced_activations import ParametricSoftplus\n",
    "from keras.regularizers import l1l2\n",
    "\n",
    "def build_nn(params):\n",
    "    \n",
    "    params['n1']=int(params['n1'])\n",
    "    params['n2']=int(params['n2'])\n",
    "    params['nb']=int(params['nb'])\n",
    "    params['dropout']=float(params['dropout'])\n",
    "    params['l1'],params['l2'] = float(params['l1']),float(params['l2'])\n",
    "    \n",
    "    def nn_new(Xr, Yr, Xt):\n",
    "        if np.ndim(Xr)==1:\n",
    "            Xr = np.transpose(np.atleast_2d(Xr))\n",
    "\n",
    "        model = Sequential()\n",
    "        model.add(Dense(params['n1'], input_dim=np.shape(Xr)[1], init='glorot_normal',\n",
    "                    activation='relu', W_regularizer=l1l2(params['l1'],params['l2'])))\n",
    "        model.add(Dropout(params['dropout']))\n",
    "        model.add(Dense(params['n2'], init='glorot_normal'\n",
    "                        , activation='relu',W_regularizer=l1l2(params['l1'],params['l2'])))\n",
    "        model.add(Dense(1,activation='softplus'))\n",
    "        \n",
    "        optim = Nadam()\n",
    "        model.compile(loss='poisson', optimizer=optim)\n",
    "        hist = model.fit(Xr, Yr, batch_size = 32, nb_epoch=params['nb'], verbose=0, validation_split=0.0)\n",
    "        result = model.predict(Xt)\n",
    "        return result[:,0]\n",
    "\n",
    "    return nn_new"
   ]
  },
  {
   "cell_type": "code",
   "execution_count": 40,
   "metadata": {
    "collapsed": true
   },
   "outputs": [],
   "source": [
    "params = {'dropout': 0.5,\n",
    "  'l1': 0.0,\n",
    "  'l2': 0.0,\n",
    "  'n1': 1980,\n",
    "  'n2': 18,\n",
    "  'nb': 5}\n",
    "nn_orig = build_nn(params)\n"
   ]
  },
  {
   "cell_type": "code",
   "execution_count": 41,
   "metadata": {
    "collapsed": false
   },
   "outputs": [
    {
     "name": "stdout",
     "output_type": "stream",
     "text": [
      "...runnning cv-fold 1 of 5\n",
      "pR2:  0.940262844001\n",
      "...runnning cv-fold 2 of 5\n",
      "pR2:  0.958189413643\n",
      "...runnning cv-fold 3 of 5\n",
      "pR2:  0.961056311346\n",
      "...runnning cv-fold 4 of 5\n",
      "pR2:  0.966486921618\n",
      "...runnning cv-fold 5 of 5\n",
      "pR2:  0.959694369751\n",
      "pR2_cv: 0.957138 (+/- 0.003976)\n"
     ]
    }
   ],
   "source": [
    "YThat, PR2 = fit_cv(X, y, algorithm = 'nn_orig', n_cv=5, verbose=2, label=[])"
   ]
  },
  {
   "cell_type": "markdown",
   "metadata": {},
   "source": [
    "It looks like there's no bug here: comparable results with the current neural net. Perhaps the discrepancy arises with data scaling?"
   ]
  },
  {
   "cell_type": "markdown",
   "metadata": {},
   "source": [
    "### Simulate as before\n",
    "\n",
    "First with 1000 x 10 data, like above."
   ]
  },
  {
   "cell_type": "code",
   "execution_count": 50,
   "metadata": {
    "collapsed": false
   },
   "outputs": [
    {
     "name": "stdout",
     "output_type": "stream",
     "text": [
      "...runnning cv-fold 1 of 5\n",
      "pR2:  0.00408552991316\n",
      "...runnning cv-fold 2 of 5\n",
      "pR2:  -0.0290121602071\n",
      "...runnning cv-fold 3 of 5\n",
      "pR2:  0.0158560442089\n",
      "...runnning cv-fold 4 of 5\n",
      "pR2:  -0.0392530735383\n",
      "...runnning cv-fold 5 of 5\n",
      "pR2:  -0.0608780128805\n",
      "pR2_cv: -0.021840 (+/- 0.012604)\n",
      "...runnning cv-fold 1 of 5\n",
      "pR2:  0.00411789772037\n",
      "...runnning cv-fold 2 of 5\n",
      "pR2:  0.00288054137381\n",
      "...runnning cv-fold 3 of 5\n",
      "pR2:  0.00237670118599\n",
      "...runnning cv-fold 4 of 5\n",
      "pR2:  0.00108928264176\n",
      "...runnning cv-fold 5 of 5\n",
      "pR2:  0.000814098538951\n",
      "pR2_cv: 0.002256 (+/- 0.000541)\n"
     ]
    }
   ],
   "source": [
    "# An example S1 fit\n",
    "# B = array([-0.04393966,  0.01458511, -0.01989851, -0.0094703 ])\n",
    "# B0=-1.15351603\n",
    "\n",
    "X = np.random.randn(1000, 10)\n",
    "\n",
    "B = np.array([0.1,0.1,0.01,0.01, 0.01,0.01,0.01,0.01,0.01,0.01])\n",
    "B0 = -2\n",
    "yhat = glm.simulate(B0,B,X)\n",
    "\n",
    "\n",
    "YThat, PR2 = fit_cv(X, y, algorithm = 'nn_orig', n_cv=5, verbose=2, label=[])\n",
    "YThat, PR2 = fit_cv(X, y, algorithm = 'glm_pyglmnet', n_cv=5, verbose=2, label=[])"
   ]
  },
  {
   "cell_type": "markdown",
   "metadata": {},
   "source": [
    "Now with the dimensions of the S1 data"
   ]
  },
  {
   "cell_type": "code",
   "execution_count": 51,
   "metadata": {
    "collapsed": false
   },
   "outputs": [
    {
     "name": "stdout",
     "output_type": "stream",
     "text": [
      "...runnning cv-fold 1 of 5\n",
      "pR2:  0.0146421713448\n",
      "...runnning cv-fold 2 of 5\n",
      "pR2:  -0.0122915243984\n",
      "...runnning cv-fold 3 of 5\n",
      "pR2:  -0.0027749365029\n",
      "...runnning cv-fold 4 of 5\n",
      "pR2:  -0.073865667698\n",
      "...runnning cv-fold 5 of 5\n",
      "pR2:  -0.0044991617879\n",
      "pR2_cv: -0.015758 (+/- 0.013576)\n"
     ]
    }
   ],
   "source": [
    "# An example S1 fit\n",
    "# B = array([-0.04393966,  0.01458511, -0.01989851, -0.0094703 ])\n",
    "# B0=-1.15351603\n",
    "\n",
    "X = np.random.randn(37587, 4)\n",
    "\n",
    "B = np.array([0.1,0.1,0.01,0.01]) #should lead to 0.117381 (R) or 0.099076 (pyglmnet with above params)\n",
    "B0=-2\n",
    "yhat = glm.simulate(B0,B,X)\n",
    "\n",
    "\n",
    "YThat, PR2 = fit_cv(X, y, algorithm = 'nn_orig', n_cv=5, verbose=2, label=[])"
   ]
  },
  {
   "cell_type": "code",
   "execution_count": 47,
   "metadata": {
    "collapsed": false
   },
   "outputs": [
    {
     "name": "stdout",
     "output_type": "stream",
     "text": [
      "...runnning cv-fold 1 of 5\n",
      "pR2:  0.000363083917906\n",
      "...runnning cv-fold 2 of 5\n",
      "pR2:  -0.000345731734936\n",
      "...runnning cv-fold 3 of 5\n",
      "pR2:  6.45289559824e-05\n",
      "...runnning cv-fold 4 of 5\n",
      "pR2:  0.000205615146977\n",
      "...runnning cv-fold 5 of 5\n",
      "pR2:  -0.000234163578046\n",
      "pR2_cv: 0.000011 (+/- 0.000119)\n"
     ]
    }
   ],
   "source": [
    "YThat, PR2 = fit_cv(X, y, algorithm = 'glm_pyglmnet', n_cv=5, verbose=2, label=[])"
   ]
  },
  {
   "cell_type": "markdown",
   "metadata": {},
   "source": [
    "Both of these seem to indicate the discrepancy lies with the scaling of the data.\n",
    "\n",
    "Let's see what happens when we don't scale the data at all:"
   ]
  },
  {
   "cell_type": "code",
   "execution_count": 99,
   "metadata": {
    "collapsed": true
   },
   "outputs": [],
   "source": [
    "n_samples = 1000\n",
    "n_features = 10\n",
    "scale_min = 0 # note: on log scale. 0 --> scale of 1\n",
    "scale_max = 0\n",
    "density = 0.5\n",
    "effect_size_factor = 1\n",
    "\n",
    "beta0, beta, X, y = simulate_data(n_samples, n_features, scale_min, scale_max, density, effect_size_factor)"
   ]
  },
  {
   "cell_type": "code",
   "execution_count": 100,
   "metadata": {
    "collapsed": false
   },
   "outputs": [
    {
     "name": "stdout",
     "output_type": "stream",
     "text": [
      "...runnning cv-fold 1 of 5\n",
      "pR2:  0.222445915466\n",
      "...runnning cv-fold 2 of 5\n",
      "pR2:  0.198419054237\n",
      "...runnning cv-fold 3 of 5\n",
      "pR2:  0.138351313684\n",
      "...runnning cv-fold 4 of 5\n",
      "pR2:  0.124691032788\n",
      "...runnning cv-fold 5 of 5\n",
      "pR2:  0.24846376861\n",
      "pR2_cv: 0.186474 (+/- 0.021366)\n"
     ]
    }
   ],
   "source": [
    "YThat, PR2 = fit_cv(X, y, algorithm = 'nn_orig', n_cv=5, verbose=2, label=[])"
   ]
  },
  {
   "cell_type": "code",
   "execution_count": 101,
   "metadata": {
    "collapsed": false
   },
   "outputs": [
    {
     "name": "stdout",
     "output_type": "stream",
     "text": [
      "...runnning cv-fold 1 of 5\n",
      "pR2:  0.199750185786\n",
      "...runnning cv-fold 2 of 5\n",
      "pR2:  0.173520385166\n",
      "...runnning cv-fold 3 of 5\n",
      "pR2:  0.140591900879\n",
      "...runnning cv-fold 4 of 5\n",
      "pR2:  0.15871643725\n",
      "...runnning cv-fold 5 of 5\n",
      "pR2:  0.184577989685\n",
      "pR2_cv: 0.171431 (+/- 0.009147)\n"
     ]
    }
   ],
   "source": [
    "YThat, PR2 = fit_cv(X, y, algorithm = 'glm_pyglmnet', n_cv=5, verbose=2, label=[])"
   ]
  },
  {
   "cell_type": "markdown",
   "metadata": {},
   "source": [
    "Or how about decreasing the effect size:"
   ]
  },
  {
   "cell_type": "code",
   "execution_count": 104,
   "metadata": {
    "collapsed": false
   },
   "outputs": [],
   "source": [
    "effect_size_factor = 0.1\n",
    "beta0, beta, X, y = simulate_data(n_samples, n_features, scale_min, scale_max, density, effect_size_factor)"
   ]
  },
  {
   "cell_type": "code",
   "execution_count": 105,
   "metadata": {
    "collapsed": false
   },
   "outputs": [
    {
     "name": "stdout",
     "output_type": "stream",
     "text": [
      "...runnning cv-fold 1 of 5\n",
      "pR2:  -0.0117207579121\n",
      "...runnning cv-fold 2 of 5\n",
      "pR2:  0.0161017223372\n",
      "...runnning cv-fold 3 of 5\n",
      "pR2:  -0.0780054035744\n",
      "...runnning cv-fold 4 of 5\n",
      "pR2:  -0.00711248082106\n",
      "...runnning cv-fold 5 of 5\n",
      "pR2:  -0.126864449178\n",
      "pR2_cv: -0.041520 (+/- 0.023670)\n"
     ]
    }
   ],
   "source": [
    "YThat, PR2 = fit_cv(X, y, algorithm = 'nn_orig', n_cv=5, verbose=2, label=[])"
   ]
  },
  {
   "cell_type": "code",
   "execution_count": 106,
   "metadata": {
    "collapsed": false
   },
   "outputs": [
    {
     "name": "stdout",
     "output_type": "stream",
     "text": [
      "...runnning cv-fold 1 of 5\n",
      "pR2:  0.000149669321342\n",
      "...runnning cv-fold 2 of 5\n",
      "pR2:  4.2505820484e-05\n",
      "...runnning cv-fold 3 of 5\n",
      "pR2:  -1.13653606917e-05\n",
      "...runnning cv-fold 4 of 5\n",
      "pR2:  -9.89793645845e-06\n",
      "...runnning cv-fold 5 of 5\n",
      "pR2:  -0.000108128576591\n",
      "pR2_cv: 0.000013 (+/- 0.000038)\n"
     ]
    }
   ],
   "source": [
    "YThat, PR2 = fit_cv(X, y, algorithm = 'glm_pyglmnet', n_cv=5, verbose=2, label=[])"
   ]
  },
  {
   "cell_type": "markdown",
   "metadata": {},
   "source": [
    "This seems to be it. Let's plot the difference in pR2 vs effect size:"
   ]
  },
  {
   "cell_type": "code",
   "execution_count": 113,
   "metadata": {
    "collapsed": false
   },
   "outputs": [
    {
     "name": "stdout",
     "output_type": "stream",
     "text": [
      "0.0\n",
      "0.02\n",
      "0.04\n",
      "0.06\n",
      "0.08\n",
      "0.1\n",
      "0.12\n",
      "0.14\n",
      "0.16\n",
      "0.18\n",
      "0.2\n",
      "0.22\n",
      "0.24\n",
      "0.26\n",
      "0.28\n",
      "0.3\n",
      "0.32\n",
      "0.34\n",
      "0.36\n",
      "0.38\n",
      "0.4\n",
      "0.42\n",
      "0.44\n",
      "0.46\n",
      "0.48\n"
     ]
    }
   ],
   "source": [
    "effects  = np.arange(0,0.5,0.02)\n",
    "nn_p=list()\n",
    "glm_p= list()\n",
    "for e in effects:\n",
    "    beta0, beta, X, y = simulate_data(n_samples, n_features, scale_min, scale_max, density, e)\n",
    "    YThat, PR2_nn = fit_cv(X, y, algorithm = 'nn_orig', n_cv=5, verbose=0, label=[])\n",
    "    YThat, PR2 = fit_cv(X, y, algorithm = 'glm_pyglmnet', n_cv=5, verbose=0, label=[])\n",
    "    print(e)\n",
    "    nn_p.append(PR2_nn)\n",
    "    glm_p.append(PR2)"
   ]
  },
  {
   "cell_type": "code",
   "execution_count": 121,
   "metadata": {
    "collapsed": false
   },
   "outputs": [
    {
     "data": {
      "image/png": "[encoded data removed]",
      "text/plain": [
       "<matplotlib.figure.Figure at 0x1201ab400>"
      ]
     },
     "metadata": {},
     "output_type": "display_data"
    }
   ],
   "source": [
    "sn = np.sqrt(5)\n",
    "yy = np.mean(np.array(nn_p), axis=1)-np.mean(np.array(glm_p), axis=1)\n",
    "# error propogated from CV variance of both sets\n",
    "yerr = np.sqrt(np.std(np.array(nn_p), axis=1)**2+np.std(np.array(glm_p), axis=1)**2)/sn\n",
    "\n",
    "p1,c,b=plt.errorbar(effects, yy, yerr = yerr , alpha=1,color='#EF3E34')\n",
    "plt.grid()\n",
    "plt.xlabel('Effect Size',fontsize=16)\n",
    "plt.ylabel('Relatve pR2 (NN-GLM)',fontsize=16)\n",
    "plt.show()"
   ]
  },
  {
   "cell_type": "code",
   "execution_count": null,
   "metadata": {
    "collapsed": true
   },
   "outputs": [],
   "source": []
  }
 ],
 "metadata": {
  "anaconda-cloud": {},
  "kernelspec": {
   "display_name": "Python [Root]",
   "language": "python",
   "name": "Python [Root]"
  },
  "language_info": {
   "codemirror_mode": {
    "name": "ipython",
    "version": 3
   },
   "file_extension": ".py",
   "mimetype": "text/x-python",
   "name": "python",
   "nbconvert_exporter": "python",
   "pygments_lexer": "ipython3",
   "version": "3.5.2"
  }
 },
 "nbformat": 4,
 "nbformat_minor": 0
}
